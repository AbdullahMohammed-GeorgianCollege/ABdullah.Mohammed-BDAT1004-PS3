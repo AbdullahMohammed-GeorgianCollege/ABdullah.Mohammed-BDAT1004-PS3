{
 "cells": [
  {
   "cell_type": "markdown",
   "metadata": {},
   "source": [
    "# Problem Set 3"
   ]
  },
  {
   "cell_type": "markdown",
   "metadata": {},
   "source": [
    "## Question 3 Python"
   ]
  },
  {
   "cell_type": "markdown",
   "metadata": {},
   "source": [
    "Housing\n",
    "Step 1. Import the necessary libraries\n"
   ]
  },
  {
   "cell_type": "markdown",
   "metadata": {},
   "source": [
    "1. Import the necessary libraries Step \n",
    "2. Create 3 differents Series, each of length 100, as follows: • The first a random number from 1 to 4 • The second a random number from 1 to 3 • The third a random number from 10,000 to 30,000"
   ]
  },
  {
   "cell_type": "code",
   "execution_count": 467,
   "metadata": {},
   "outputs": [],
   "source": [
    "import numpy as np\n",
    "import pandas as pd"
   ]
  },
  {
   "cell_type": "code",
   "execution_count": 468,
   "metadata": {},
   "outputs": [],
   "source": [
    "s1 = pd.Series(np.linspace(1,4,100))\n",
    "s2 = pd.Series(np.linspace(1,3,100))\n",
    "s3 = pd.Series(np.linspace(10000,30000,100))"
   ]
  },
  {
   "cell_type": "markdown",
   "metadata": {},
   "source": [
    "Step 3. Create a DataFrame by joinning the Series by column Step"
   ]
  },
  {
   "cell_type": "code",
   "execution_count": 469,
   "metadata": {},
   "outputs": [],
   "source": [
    "df = pd.concat([s1, s2,s3], axis=1)"
   ]
  },
  {
   "cell_type": "markdown",
   "metadata": {},
   "source": [
    "Step 4. Change the name of the columns to bedrs, bathrs, price_sqr_meter"
   ]
  },
  {
   "cell_type": "code",
   "execution_count": 470,
   "metadata": {},
   "outputs": [
    {
     "data": {
      "text/html": [
       "<div>\n",
       "<style scoped>\n",
       "    .dataframe tbody tr th:only-of-type {\n",
       "        vertical-align: middle;\n",
       "    }\n",
       "\n",
       "    .dataframe tbody tr th {\n",
       "        vertical-align: top;\n",
       "    }\n",
       "\n",
       "    .dataframe thead th {\n",
       "        text-align: right;\n",
       "    }\n",
       "</style>\n",
       "<table border=\"1\" class=\"dataframe\">\n",
       "  <thead>\n",
       "    <tr style=\"text-align: right;\">\n",
       "      <th></th>\n",
       "      <th>bedrs</th>\n",
       "      <th>bathrs</th>\n",
       "      <th>price_sqr_meter</th>\n",
       "    </tr>\n",
       "  </thead>\n",
       "  <tbody>\n",
       "    <tr>\n",
       "      <th>0</th>\n",
       "      <td>1.000000</td>\n",
       "      <td>1.000000</td>\n",
       "      <td>10000.000000</td>\n",
       "    </tr>\n",
       "    <tr>\n",
       "      <th>1</th>\n",
       "      <td>1.030303</td>\n",
       "      <td>1.020202</td>\n",
       "      <td>10202.020202</td>\n",
       "    </tr>\n",
       "    <tr>\n",
       "      <th>2</th>\n",
       "      <td>1.060606</td>\n",
       "      <td>1.040404</td>\n",
       "      <td>10404.040404</td>\n",
       "    </tr>\n",
       "    <tr>\n",
       "      <th>3</th>\n",
       "      <td>1.090909</td>\n",
       "      <td>1.060606</td>\n",
       "      <td>10606.060606</td>\n",
       "    </tr>\n",
       "    <tr>\n",
       "      <th>4</th>\n",
       "      <td>1.121212</td>\n",
       "      <td>1.080808</td>\n",
       "      <td>10808.080808</td>\n",
       "    </tr>\n",
       "    <tr>\n",
       "      <th>...</th>\n",
       "      <td>...</td>\n",
       "      <td>...</td>\n",
       "      <td>...</td>\n",
       "    </tr>\n",
       "    <tr>\n",
       "      <th>95</th>\n",
       "      <td>3.878788</td>\n",
       "      <td>2.919192</td>\n",
       "      <td>29191.919192</td>\n",
       "    </tr>\n",
       "    <tr>\n",
       "      <th>96</th>\n",
       "      <td>3.909091</td>\n",
       "      <td>2.939394</td>\n",
       "      <td>29393.939394</td>\n",
       "    </tr>\n",
       "    <tr>\n",
       "      <th>97</th>\n",
       "      <td>3.939394</td>\n",
       "      <td>2.959596</td>\n",
       "      <td>29595.959596</td>\n",
       "    </tr>\n",
       "    <tr>\n",
       "      <th>98</th>\n",
       "      <td>3.969697</td>\n",
       "      <td>2.979798</td>\n",
       "      <td>29797.979798</td>\n",
       "    </tr>\n",
       "    <tr>\n",
       "      <th>99</th>\n",
       "      <td>4.000000</td>\n",
       "      <td>3.000000</td>\n",
       "      <td>30000.000000</td>\n",
       "    </tr>\n",
       "  </tbody>\n",
       "</table>\n",
       "<p>100 rows × 3 columns</p>\n",
       "</div>"
      ],
      "text/plain": [
       "       bedrs    bathrs  price_sqr_meter\n",
       "0   1.000000  1.000000     10000.000000\n",
       "1   1.030303  1.020202     10202.020202\n",
       "2   1.060606  1.040404     10404.040404\n",
       "3   1.090909  1.060606     10606.060606\n",
       "4   1.121212  1.080808     10808.080808\n",
       "..       ...       ...              ...\n",
       "95  3.878788  2.919192     29191.919192\n",
       "96  3.909091  2.939394     29393.939394\n",
       "97  3.939394  2.959596     29595.959596\n",
       "98  3.969697  2.979798     29797.979798\n",
       "99  4.000000  3.000000     30000.000000\n",
       "\n",
       "[100 rows x 3 columns]"
      ]
     },
     "execution_count": 470,
     "metadata": {},
     "output_type": "execute_result"
    }
   ],
   "source": [
    "df = pd.DataFrame({'bedrs':s1, 'bathrs': s2, 'price_sqr_meter':s3})\n",
    "df"
   ]
  },
  {
   "cell_type": "markdown",
   "metadata": {},
   "source": [
    "Step 5. Create a one column DataFrame with the values of the 3 Series and assign it to 'bigcolumn' "
   ]
  },
  {
   "cell_type": "code",
   "execution_count": 471,
   "metadata": {},
   "outputs": [
    {
     "data": {
      "text/html": [
       "<div>\n",
       "<style scoped>\n",
       "    .dataframe tbody tr th:only-of-type {\n",
       "        vertical-align: middle;\n",
       "    }\n",
       "\n",
       "    .dataframe tbody tr th {\n",
       "        vertical-align: top;\n",
       "    }\n",
       "\n",
       "    .dataframe thead th {\n",
       "        text-align: right;\n",
       "    }\n",
       "</style>\n",
       "<table border=\"1\" class=\"dataframe\">\n",
       "  <thead>\n",
       "    <tr style=\"text-align: right;\">\n",
       "      <th></th>\n",
       "      <th>0</th>\n",
       "    </tr>\n",
       "  </thead>\n",
       "  <tbody>\n",
       "    <tr>\n",
       "      <th>0</th>\n",
       "      <td>1.000000</td>\n",
       "    </tr>\n",
       "    <tr>\n",
       "      <th>1</th>\n",
       "      <td>1.030303</td>\n",
       "    </tr>\n",
       "    <tr>\n",
       "      <th>2</th>\n",
       "      <td>1.060606</td>\n",
       "    </tr>\n",
       "    <tr>\n",
       "      <th>3</th>\n",
       "      <td>1.090909</td>\n",
       "    </tr>\n",
       "    <tr>\n",
       "      <th>4</th>\n",
       "      <td>1.121212</td>\n",
       "    </tr>\n",
       "    <tr>\n",
       "      <th>...</th>\n",
       "      <td>...</td>\n",
       "    </tr>\n",
       "    <tr>\n",
       "      <th>295</th>\n",
       "      <td>29191.919192</td>\n",
       "    </tr>\n",
       "    <tr>\n",
       "      <th>296</th>\n",
       "      <td>29393.939394</td>\n",
       "    </tr>\n",
       "    <tr>\n",
       "      <th>297</th>\n",
       "      <td>29595.959596</td>\n",
       "    </tr>\n",
       "    <tr>\n",
       "      <th>298</th>\n",
       "      <td>29797.979798</td>\n",
       "    </tr>\n",
       "    <tr>\n",
       "      <th>299</th>\n",
       "      <td>30000.000000</td>\n",
       "    </tr>\n",
       "  </tbody>\n",
       "</table>\n",
       "<p>300 rows × 1 columns</p>\n",
       "</div>"
      ],
      "text/plain": [
       "                0\n",
       "0        1.000000\n",
       "1        1.030303\n",
       "2        1.060606\n",
       "3        1.090909\n",
       "4        1.121212\n",
       "..            ...\n",
       "295  29191.919192\n",
       "296  29393.939394\n",
       "297  29595.959596\n",
       "298  29797.979798\n",
       "299  30000.000000\n",
       "\n",
       "[300 rows x 1 columns]"
      ]
     },
     "execution_count": 471,
     "metadata": {},
     "output_type": "execute_result"
    }
   ],
   "source": [
    "newList = []\n",
    "for column in df:\n",
    "    oneColumnValue = df[column].tolist()\n",
    "    newList += oneColumnValue\n",
    "bigcolumn = pd.DataFrame(newList)\n",
    "bigcolumn"
   ]
  },
  {
   "cell_type": "markdown",
   "metadata": {},
   "source": [
    "Step 6. Ops it seems it is going only until index 99. Is it true?"
   ]
  },
  {
   "cell_type": "markdown",
   "metadata": {},
   "source": [
    "bigcoumn df is indexed from 0 - 299"
   ]
  },
  {
   "cell_type": "markdown",
   "metadata": {},
   "source": [
    "Step 7. Reindex the DataFrame so it goes from 0 to 299"
   ]
  },
  {
   "cell_type": "markdown",
   "metadata": {},
   "source": [
    "bigcoumn df is indexed from 0 - 299"
   ]
  },
  {
   "cell_type": "markdown",
   "metadata": {},
   "source": []
  },
  {
   "cell_type": "markdown",
   "metadata": {},
   "source": [
    "# Question 4 Python"
   ]
  },
  {
   "cell_type": "markdown",
   "metadata": {},
   "source": [
    "## Wind Statistics"
   ]
  },
  {
   "cell_type": "markdown",
   "metadata": {},
   "source": [
    "Step 1. Import the necessary libraries"
   ]
  },
  {
   "cell_type": "code",
   "execution_count": 472,
   "metadata": {},
   "outputs": [],
   "source": [
    "import pandas as pd\n",
    "from datetime import date\n"
   ]
  },
  {
   "cell_type": "markdown",
   "metadata": {},
   "source": [
    "Step 2. Import the dataset from this address"
   ]
  },
  {
   "cell_type": "code",
   "execution_count": 473,
   "metadata": {},
   "outputs": [],
   "source": [
    "data = pd.read_csv('https://raw.githubusercontent.com/guipsamora/pandas_exercises/master/06_Stats/Wind_Stats/wind.data',sep='\\s+', engine='python')"
   ]
  },
  {
   "cell_type": "markdown",
   "metadata": {},
   "source": [
    "Step 6. Compute how many values are missing for each location over the entire record.They should be ignored in all calculations below."
   ]
  },
  {
   "cell_type": "code",
   "execution_count": 474,
   "metadata": {},
   "outputs": [
    {
     "data": {
      "text/plain": [
       "Yr     0\n",
       "Mo     0\n",
       "Dy     0\n",
       "RPT    6\n",
       "VAL    3\n",
       "ROS    2\n",
       "KIL    5\n",
       "SHA    2\n",
       "BIR    0\n",
       "DUB    3\n",
       "CLA    2\n",
       "MUL    3\n",
       "CLO    1\n",
       "BEL    0\n",
       "MAL    4\n",
       "dtype: int64"
      ]
     },
     "execution_count": 474,
     "metadata": {},
     "output_type": "execute_result"
    }
   ],
   "source": [
    "data.isnull().sum()"
   ]
  },
  {
   "cell_type": "markdown",
   "metadata": {},
   "source": [
    "Step 7. Compute how many non-missing values there are in total."
   ]
  },
  {
   "cell_type": "code",
   "execution_count": 475,
   "metadata": {},
   "outputs": [
    {
     "data": {
      "text/plain": [
       "Yr     6574\n",
       "Mo     6574\n",
       "Dy     6574\n",
       "RPT    6568\n",
       "VAL    6571\n",
       "ROS    6572\n",
       "KIL    6569\n",
       "SHA    6572\n",
       "BIR    6574\n",
       "DUB    6571\n",
       "CLA    6572\n",
       "MUL    6571\n",
       "CLO    6573\n",
       "BEL    6574\n",
       "MAL    6570\n",
       "dtype: int64"
      ]
     },
     "execution_count": 475,
     "metadata": {},
     "output_type": "execute_result"
    }
   ],
   "source": [
    "data.notnull().sum()"
   ]
  },
  {
   "cell_type": "markdown",
   "metadata": {},
   "source": [
    "Step 8. Calculate the mean windspeeds of the windspeeds over all the locations and all the times."
   ]
  },
  {
   "cell_type": "code",
   "execution_count": 476,
   "metadata": {},
   "outputs": [
    {
     "data": {
      "text/plain": [
       "14.299199599246556"
      ]
     },
     "execution_count": 476,
     "metadata": {},
     "output_type": "execute_result"
    }
   ],
   "source": [
    "data.mean().mean()"
   ]
  },
  {
   "cell_type": "markdown",
   "metadata": {},
   "source": [
    "Step 9. Create a DataFrame called loc_stats and calculate the min, max and mean windspeeds and standard deviations of the windspeeds at each location over all the days"
   ]
  },
  {
   "cell_type": "code",
   "execution_count": 477,
   "metadata": {},
   "outputs": [],
   "source": [
    "loc_stats = data"
   ]
  },
  {
   "cell_type": "code",
   "execution_count": 478,
   "metadata": {},
   "outputs": [
    {
     "name": "stdout",
     "output_type": "stream",
     "text": [
      "  min: Yr     61.00\n",
      "Mo      1.00\n",
      "Dy      1.00\n",
      "RPT     0.67\n",
      "VAL     0.21\n",
      "ROS     1.50\n",
      "KIL     0.00\n",
      "SHA     0.13\n",
      "BIR     0.00\n",
      "DUB     0.00\n",
      "CLA     0.00\n",
      "MUL     0.00\n",
      "CLO     0.04\n",
      "BEL     0.13\n",
      "MAL     0.67\n",
      "dtype: float64\n",
      "  max: Yr     78.00\n",
      "Mo     12.00\n",
      "Dy     31.00\n",
      "RPT    35.80\n",
      "VAL    33.37\n",
      "ROS    33.84\n",
      "KIL    28.46\n",
      "SHA    37.54\n",
      "BIR    26.16\n",
      "DUB    30.37\n",
      "CLA    31.08\n",
      "MUL    25.88\n",
      "CLO    28.21\n",
      "BEL    42.38\n",
      "MAL    42.54\n",
      "dtype: float64\n",
      "  mean: Yr     69.500304\n",
      "Mo      6.523274\n",
      "Dy     15.728628\n",
      "RPT    12.362987\n",
      "VAL    10.644314\n",
      "ROS    11.660526\n",
      "KIL     6.306468\n",
      "SHA    10.455834\n",
      "BIR     7.092254\n",
      "DUB     9.797343\n",
      "CLA     8.495053\n",
      "MUL     8.493590\n",
      "CLO     8.707332\n",
      "BEL    13.121007\n",
      "MAL    15.599079\n",
      "dtype: float64\n",
      "  standard deviation: Yr     5.188131\n",
      "Mo     3.448871\n",
      "Dy     8.800335\n",
      "RPT    5.618413\n",
      "VAL    5.267356\n",
      "ROS    5.008450\n",
      "KIL    3.605811\n",
      "SHA    4.936125\n",
      "BIR    3.968683\n",
      "DUB    4.977555\n",
      "CLA    4.499449\n",
      "MUL    4.166872\n",
      "CLO    4.503954\n",
      "BEL    5.835037\n",
      "MAL    6.699794\n",
      "dtype: float64\n"
     ]
    }
   ],
   "source": [
    "print ('  min:', loc_stats.min())\n",
    "print ('  max:', loc_stats.max())\n",
    "print ('  mean:', loc_stats.mean())\n",
    "print ('  standard deviation:', loc_stats.std())"
   ]
  },
  {
   "cell_type": "markdown",
   "metadata": {},
   "source": [
    "Step 10. Create a DataFrame called day_stats and calculate the min, max and mean windspeed and standard deviations of the windspeeds across all the locations at each day.\n",
    "A different set of numbers for each day."
   ]
  },
  {
   "cell_type": "code",
   "execution_count": 479,
   "metadata": {},
   "outputs": [],
   "source": [
    "day_stats = data"
   ]
  },
  {
   "cell_type": "code",
   "execution_count": 480,
   "metadata": {},
   "outputs": [
    {
     "name": "stdout",
     "output_type": "stream",
     "text": [
      "min: 0       1.00\n",
      "1       1.00\n",
      "2       1.00\n",
      "3       1.00\n",
      "4       1.00\n",
      "        ... \n",
      "6569    8.08\n",
      "6570    5.00\n",
      "6571    8.71\n",
      "6572    9.13\n",
      "6573    9.59\n",
      "Length: 6574, dtype: float64\n",
      "max: 0       61.0\n",
      "1       61.0\n",
      "2       61.0\n",
      "3       61.0\n",
      "4       61.0\n",
      "        ... \n",
      "6569    78.0\n",
      "6570    78.0\n",
      "6571    78.0\n",
      "6572    78.0\n",
      "6573    78.0\n",
      "Length: 6574, dtype: float64\n",
      "mean: 0       14.728571\n",
      "1       13.478571\n",
      "2       13.790000\n",
      "3        9.695333\n",
      "4       12.970667\n",
      "          ...    \n",
      "6569    21.166667\n",
      "6570    19.986667\n",
      "6571    19.845333\n",
      "6572    20.294000\n",
      "6573    20.388667\n",
      "Length: 6574, dtype: float64\n",
      "standard deviation: 0       14.220976\n",
      "1       14.406022\n",
      "2       14.398500\n",
      "3       14.555991\n",
      "4       13.745564\n",
      "          ...    \n",
      "6569    17.459293\n",
      "6570    18.529258\n",
      "6571    17.292730\n",
      "6572    17.158682\n",
      "6573    17.233853\n",
      "Length: 6574, dtype: float64\n"
     ]
    }
   ],
   "source": [
    "print  ('min:', day_stats.min(axis=1))\n",
    "print ('max:', day_stats.max(axis=1))\n",
    "print ('mean:', day_stats.mean(axis=1))\n",
    "print ('standard deviation:', day_stats.std(axis=1))"
   ]
  },
  {
   "cell_type": "markdown",
   "metadata": {},
   "source": [
    "Step 11. Find the average windspeed in January for each location.\n"
   ]
  },
  {
   "cell_type": "code",
   "execution_count": null,
   "metadata": {},
   "outputs": [],
   "source": []
  },
  {
   "cell_type": "code",
   "execution_count": null,
   "metadata": {},
   "outputs": [],
   "source": []
  },
  {
   "cell_type": "code",
   "execution_count": null,
   "metadata": {},
   "outputs": [],
   "source": []
  },
  {
   "cell_type": "code",
   "execution_count": null,
   "metadata": {},
   "outputs": [],
   "source": []
  },
  {
   "cell_type": "code",
   "execution_count": null,
   "metadata": {},
   "outputs": [],
   "source": [
    "    "
   ]
  },
  {
   "cell_type": "code",
   "execution_count": null,
   "metadata": {},
   "outputs": [],
   "source": []
  },
  {
   "cell_type": "code",
   "execution_count": null,
   "metadata": {},
   "outputs": [],
   "source": []
  },
  {
   "cell_type": "markdown",
   "metadata": {},
   "source": [
    "# Question 5 Python"
   ]
  },
  {
   "cell_type": "markdown",
   "metadata": {},
   "source": [
    "Step 1. Import the necessary libraries\n",
    "Step 2. Import the dataset from this address."
   ]
  },
  {
   "cell_type": "code",
   "execution_count": 51,
   "metadata": {},
   "outputs": [],
   "source": [
    "import pandas as pd\n",
    "df = pd.read_table(\"https://raw.githubusercontent.com/justmarkham/DAT8/master/data/chipotle.tsv\")"
   ]
  },
  {
   "cell_type": "code",
   "execution_count": 52,
   "metadata": {},
   "outputs": [
    {
     "data": {
      "text/html": [
       "<div>\n",
       "<style scoped>\n",
       "    .dataframe tbody tr th:only-of-type {\n",
       "        vertical-align: middle;\n",
       "    }\n",
       "\n",
       "    .dataframe tbody tr th {\n",
       "        vertical-align: top;\n",
       "    }\n",
       "\n",
       "    .dataframe thead th {\n",
       "        text-align: right;\n",
       "    }\n",
       "</style>\n",
       "<table border=\"1\" class=\"dataframe\">\n",
       "  <thead>\n",
       "    <tr style=\"text-align: right;\">\n",
       "      <th></th>\n",
       "      <th>order_id</th>\n",
       "      <th>quantity</th>\n",
       "      <th>item_name</th>\n",
       "      <th>choice_description</th>\n",
       "      <th>item_price</th>\n",
       "    </tr>\n",
       "  </thead>\n",
       "  <tbody>\n",
       "    <tr>\n",
       "      <th>0</th>\n",
       "      <td>1</td>\n",
       "      <td>1</td>\n",
       "      <td>Chips and Fresh Tomato Salsa</td>\n",
       "      <td>NaN</td>\n",
       "      <td>$2.39</td>\n",
       "    </tr>\n",
       "    <tr>\n",
       "      <th>1</th>\n",
       "      <td>1</td>\n",
       "      <td>1</td>\n",
       "      <td>Izze</td>\n",
       "      <td>[Clementine]</td>\n",
       "      <td>$3.39</td>\n",
       "    </tr>\n",
       "    <tr>\n",
       "      <th>2</th>\n",
       "      <td>1</td>\n",
       "      <td>1</td>\n",
       "      <td>Nantucket Nectar</td>\n",
       "      <td>[Apple]</td>\n",
       "      <td>$3.39</td>\n",
       "    </tr>\n",
       "    <tr>\n",
       "      <th>3</th>\n",
       "      <td>1</td>\n",
       "      <td>1</td>\n",
       "      <td>Chips and Tomatillo-Green Chili Salsa</td>\n",
       "      <td>NaN</td>\n",
       "      <td>$2.39</td>\n",
       "    </tr>\n",
       "    <tr>\n",
       "      <th>4</th>\n",
       "      <td>2</td>\n",
       "      <td>2</td>\n",
       "      <td>Chicken Bowl</td>\n",
       "      <td>[Tomatillo-Red Chili Salsa (Hot), [Black Beans...</td>\n",
       "      <td>$16.98</td>\n",
       "    </tr>\n",
       "    <tr>\n",
       "      <th>...</th>\n",
       "      <td>...</td>\n",
       "      <td>...</td>\n",
       "      <td>...</td>\n",
       "      <td>...</td>\n",
       "      <td>...</td>\n",
       "    </tr>\n",
       "    <tr>\n",
       "      <th>4617</th>\n",
       "      <td>1833</td>\n",
       "      <td>1</td>\n",
       "      <td>Steak Burrito</td>\n",
       "      <td>[Fresh Tomato Salsa, [Rice, Black Beans, Sour ...</td>\n",
       "      <td>$11.75</td>\n",
       "    </tr>\n",
       "    <tr>\n",
       "      <th>4618</th>\n",
       "      <td>1833</td>\n",
       "      <td>1</td>\n",
       "      <td>Steak Burrito</td>\n",
       "      <td>[Fresh Tomato Salsa, [Rice, Sour Cream, Cheese...</td>\n",
       "      <td>$11.75</td>\n",
       "    </tr>\n",
       "    <tr>\n",
       "      <th>4619</th>\n",
       "      <td>1834</td>\n",
       "      <td>1</td>\n",
       "      <td>Chicken Salad Bowl</td>\n",
       "      <td>[Fresh Tomato Salsa, [Fajita Vegetables, Pinto...</td>\n",
       "      <td>$11.25</td>\n",
       "    </tr>\n",
       "    <tr>\n",
       "      <th>4620</th>\n",
       "      <td>1834</td>\n",
       "      <td>1</td>\n",
       "      <td>Chicken Salad Bowl</td>\n",
       "      <td>[Fresh Tomato Salsa, [Fajita Vegetables, Lettu...</td>\n",
       "      <td>$8.75</td>\n",
       "    </tr>\n",
       "    <tr>\n",
       "      <th>4621</th>\n",
       "      <td>1834</td>\n",
       "      <td>1</td>\n",
       "      <td>Chicken Salad Bowl</td>\n",
       "      <td>[Fresh Tomato Salsa, [Fajita Vegetables, Pinto...</td>\n",
       "      <td>$8.75</td>\n",
       "    </tr>\n",
       "  </tbody>\n",
       "</table>\n",
       "<p>4622 rows × 5 columns</p>\n",
       "</div>"
      ],
      "text/plain": [
       "      order_id  quantity                              item_name  \\\n",
       "0            1         1           Chips and Fresh Tomato Salsa   \n",
       "1            1         1                                   Izze   \n",
       "2            1         1                       Nantucket Nectar   \n",
       "3            1         1  Chips and Tomatillo-Green Chili Salsa   \n",
       "4            2         2                           Chicken Bowl   \n",
       "...        ...       ...                                    ...   \n",
       "4617      1833         1                          Steak Burrito   \n",
       "4618      1833         1                          Steak Burrito   \n",
       "4619      1834         1                     Chicken Salad Bowl   \n",
       "4620      1834         1                     Chicken Salad Bowl   \n",
       "4621      1834         1                     Chicken Salad Bowl   \n",
       "\n",
       "                                     choice_description item_price  \n",
       "0                                                   NaN     $2.39   \n",
       "1                                          [Clementine]     $3.39   \n",
       "2                                               [Apple]     $3.39   \n",
       "3                                                   NaN     $2.39   \n",
       "4     [Tomatillo-Red Chili Salsa (Hot), [Black Beans...    $16.98   \n",
       "...                                                 ...        ...  \n",
       "4617  [Fresh Tomato Salsa, [Rice, Black Beans, Sour ...    $11.75   \n",
       "4618  [Fresh Tomato Salsa, [Rice, Sour Cream, Cheese...    $11.75   \n",
       "4619  [Fresh Tomato Salsa, [Fajita Vegetables, Pinto...    $11.25   \n",
       "4620  [Fresh Tomato Salsa, [Fajita Vegetables, Lettu...     $8.75   \n",
       "4621  [Fresh Tomato Salsa, [Fajita Vegetables, Pinto...     $8.75   \n",
       "\n",
       "[4622 rows x 5 columns]"
      ]
     },
     "execution_count": 52,
     "metadata": {},
     "output_type": "execute_result"
    }
   ],
   "source": [
    "df"
   ]
  },
  {
   "cell_type": "markdown",
   "metadata": {},
   "source": [
    "Step 3. Assign it to a variable called chipo"
   ]
  },
  {
   "cell_type": "code",
   "execution_count": 53,
   "metadata": {},
   "outputs": [
    {
     "data": {
      "text/plain": [
       "dtype('O')"
      ]
     },
     "execution_count": 53,
     "metadata": {},
     "output_type": "execute_result"
    }
   ],
   "source": [
    "chipo = df\n",
    "chipo['item_price'].dtype\n"
   ]
  },
  {
   "cell_type": "markdown",
   "metadata": {},
   "source": [
    "Step 4. See the first 10 entries"
   ]
  },
  {
   "cell_type": "code",
   "execution_count": 54,
   "metadata": {},
   "outputs": [
    {
     "data": {
      "text/html": [
       "<div>\n",
       "<style scoped>\n",
       "    .dataframe tbody tr th:only-of-type {\n",
       "        vertical-align: middle;\n",
       "    }\n",
       "\n",
       "    .dataframe tbody tr th {\n",
       "        vertical-align: top;\n",
       "    }\n",
       "\n",
       "    .dataframe thead th {\n",
       "        text-align: right;\n",
       "    }\n",
       "</style>\n",
       "<table border=\"1\" class=\"dataframe\">\n",
       "  <thead>\n",
       "    <tr style=\"text-align: right;\">\n",
       "      <th></th>\n",
       "      <th>order_id</th>\n",
       "      <th>quantity</th>\n",
       "      <th>item_name</th>\n",
       "      <th>choice_description</th>\n",
       "      <th>item_price</th>\n",
       "    </tr>\n",
       "  </thead>\n",
       "  <tbody>\n",
       "    <tr>\n",
       "      <th>0</th>\n",
       "      <td>1</td>\n",
       "      <td>1</td>\n",
       "      <td>Chips and Fresh Tomato Salsa</td>\n",
       "      <td>NaN</td>\n",
       "      <td>$2.39</td>\n",
       "    </tr>\n",
       "    <tr>\n",
       "      <th>1</th>\n",
       "      <td>1</td>\n",
       "      <td>1</td>\n",
       "      <td>Izze</td>\n",
       "      <td>[Clementine]</td>\n",
       "      <td>$3.39</td>\n",
       "    </tr>\n",
       "    <tr>\n",
       "      <th>2</th>\n",
       "      <td>1</td>\n",
       "      <td>1</td>\n",
       "      <td>Nantucket Nectar</td>\n",
       "      <td>[Apple]</td>\n",
       "      <td>$3.39</td>\n",
       "    </tr>\n",
       "    <tr>\n",
       "      <th>3</th>\n",
       "      <td>1</td>\n",
       "      <td>1</td>\n",
       "      <td>Chips and Tomatillo-Green Chili Salsa</td>\n",
       "      <td>NaN</td>\n",
       "      <td>$2.39</td>\n",
       "    </tr>\n",
       "    <tr>\n",
       "      <th>4</th>\n",
       "      <td>2</td>\n",
       "      <td>2</td>\n",
       "      <td>Chicken Bowl</td>\n",
       "      <td>[Tomatillo-Red Chili Salsa (Hot), [Black Beans...</td>\n",
       "      <td>$16.98</td>\n",
       "    </tr>\n",
       "    <tr>\n",
       "      <th>5</th>\n",
       "      <td>3</td>\n",
       "      <td>1</td>\n",
       "      <td>Chicken Bowl</td>\n",
       "      <td>[Fresh Tomato Salsa (Mild), [Rice, Cheese, Sou...</td>\n",
       "      <td>$10.98</td>\n",
       "    </tr>\n",
       "    <tr>\n",
       "      <th>6</th>\n",
       "      <td>3</td>\n",
       "      <td>1</td>\n",
       "      <td>Side of Chips</td>\n",
       "      <td>NaN</td>\n",
       "      <td>$1.69</td>\n",
       "    </tr>\n",
       "    <tr>\n",
       "      <th>7</th>\n",
       "      <td>4</td>\n",
       "      <td>1</td>\n",
       "      <td>Steak Burrito</td>\n",
       "      <td>[Tomatillo Red Chili Salsa, [Fajita Vegetables...</td>\n",
       "      <td>$11.75</td>\n",
       "    </tr>\n",
       "    <tr>\n",
       "      <th>8</th>\n",
       "      <td>4</td>\n",
       "      <td>1</td>\n",
       "      <td>Steak Soft Tacos</td>\n",
       "      <td>[Tomatillo Green Chili Salsa, [Pinto Beans, Ch...</td>\n",
       "      <td>$9.25</td>\n",
       "    </tr>\n",
       "    <tr>\n",
       "      <th>9</th>\n",
       "      <td>5</td>\n",
       "      <td>1</td>\n",
       "      <td>Steak Burrito</td>\n",
       "      <td>[Fresh Tomato Salsa, [Rice, Black Beans, Pinto...</td>\n",
       "      <td>$9.25</td>\n",
       "    </tr>\n",
       "  </tbody>\n",
       "</table>\n",
       "</div>"
      ],
      "text/plain": [
       "   order_id  quantity                              item_name  \\\n",
       "0         1         1           Chips and Fresh Tomato Salsa   \n",
       "1         1         1                                   Izze   \n",
       "2         1         1                       Nantucket Nectar   \n",
       "3         1         1  Chips and Tomatillo-Green Chili Salsa   \n",
       "4         2         2                           Chicken Bowl   \n",
       "5         3         1                           Chicken Bowl   \n",
       "6         3         1                          Side of Chips   \n",
       "7         4         1                          Steak Burrito   \n",
       "8         4         1                       Steak Soft Tacos   \n",
       "9         5         1                          Steak Burrito   \n",
       "\n",
       "                                  choice_description item_price  \n",
       "0                                                NaN     $2.39   \n",
       "1                                       [Clementine]     $3.39   \n",
       "2                                            [Apple]     $3.39   \n",
       "3                                                NaN     $2.39   \n",
       "4  [Tomatillo-Red Chili Salsa (Hot), [Black Beans...    $16.98   \n",
       "5  [Fresh Tomato Salsa (Mild), [Rice, Cheese, Sou...    $10.98   \n",
       "6                                                NaN     $1.69   \n",
       "7  [Tomatillo Red Chili Salsa, [Fajita Vegetables...    $11.75   \n",
       "8  [Tomatillo Green Chili Salsa, [Pinto Beans, Ch...     $9.25   \n",
       "9  [Fresh Tomato Salsa, [Rice, Black Beans, Pinto...     $9.25   "
      ]
     },
     "execution_count": 54,
     "metadata": {},
     "output_type": "execute_result"
    }
   ],
   "source": [
    "chipo.head(10)"
   ]
  },
  {
   "cell_type": "markdown",
   "metadata": {},
   "source": [
    "Step 5. What is the number of observations in the dataset?"
   ]
  },
  {
   "cell_type": "code",
   "execution_count": 55,
   "metadata": {},
   "outputs": [
    {
     "data": {
      "text/html": [
       "<div>\n",
       "<style scoped>\n",
       "    .dataframe tbody tr th:only-of-type {\n",
       "        vertical-align: middle;\n",
       "    }\n",
       "\n",
       "    .dataframe tbody tr th {\n",
       "        vertical-align: top;\n",
       "    }\n",
       "\n",
       "    .dataframe thead th {\n",
       "        text-align: right;\n",
       "    }\n",
       "</style>\n",
       "<table border=\"1\" class=\"dataframe\">\n",
       "  <thead>\n",
       "    <tr style=\"text-align: right;\">\n",
       "      <th></th>\n",
       "      <th>order_id</th>\n",
       "      <th>quantity</th>\n",
       "    </tr>\n",
       "  </thead>\n",
       "  <tbody>\n",
       "    <tr>\n",
       "      <th>count</th>\n",
       "      <td>4622.000000</td>\n",
       "      <td>4622.000000</td>\n",
       "    </tr>\n",
       "    <tr>\n",
       "      <th>mean</th>\n",
       "      <td>927.254868</td>\n",
       "      <td>1.075725</td>\n",
       "    </tr>\n",
       "    <tr>\n",
       "      <th>std</th>\n",
       "      <td>528.890796</td>\n",
       "      <td>0.410186</td>\n",
       "    </tr>\n",
       "    <tr>\n",
       "      <th>min</th>\n",
       "      <td>1.000000</td>\n",
       "      <td>1.000000</td>\n",
       "    </tr>\n",
       "    <tr>\n",
       "      <th>25%</th>\n",
       "      <td>477.250000</td>\n",
       "      <td>1.000000</td>\n",
       "    </tr>\n",
       "    <tr>\n",
       "      <th>50%</th>\n",
       "      <td>926.000000</td>\n",
       "      <td>1.000000</td>\n",
       "    </tr>\n",
       "    <tr>\n",
       "      <th>75%</th>\n",
       "      <td>1393.000000</td>\n",
       "      <td>1.000000</td>\n",
       "    </tr>\n",
       "    <tr>\n",
       "      <th>max</th>\n",
       "      <td>1834.000000</td>\n",
       "      <td>15.000000</td>\n",
       "    </tr>\n",
       "  </tbody>\n",
       "</table>\n",
       "</div>"
      ],
      "text/plain": [
       "          order_id     quantity\n",
       "count  4622.000000  4622.000000\n",
       "mean    927.254868     1.075725\n",
       "std     528.890796     0.410186\n",
       "min       1.000000     1.000000\n",
       "25%     477.250000     1.000000\n",
       "50%     926.000000     1.000000\n",
       "75%    1393.000000     1.000000\n",
       "max    1834.000000    15.000000"
      ]
     },
     "execution_count": 55,
     "metadata": {},
     "output_type": "execute_result"
    }
   ],
   "source": [
    "chipo.describe()"
   ]
  },
  {
   "cell_type": "markdown",
   "metadata": {},
   "source": [
    "Step 6. What is the number of columns in the dataset?"
   ]
  },
  {
   "cell_type": "markdown",
   "metadata": {},
   "source": [
    "5 Columns"
   ]
  },
  {
   "cell_type": "markdown",
   "metadata": {},
   "source": [
    "Step 7. Print the name of all the columns."
   ]
  },
  {
   "cell_type": "code",
   "execution_count": 56,
   "metadata": {},
   "outputs": [
    {
     "data": {
      "text/plain": [
       "Index(['order_id', 'quantity', 'item_name', 'choice_description',\n",
       "       'item_price'],\n",
       "      dtype='object')"
      ]
     },
     "execution_count": 56,
     "metadata": {},
     "output_type": "execute_result"
    }
   ],
   "source": [
    "chipo.columns"
   ]
  },
  {
   "cell_type": "markdown",
   "metadata": {},
   "source": [
    "Step 8. How is the dataset indexed?"
   ]
  },
  {
   "cell_type": "code",
   "execution_count": 57,
   "metadata": {},
   "outputs": [
    {
     "data": {
      "text/plain": [
       "RangeIndex(start=0, stop=4622, step=1)"
      ]
     },
     "execution_count": 57,
     "metadata": {},
     "output_type": "execute_result"
    }
   ],
   "source": [
    "chipo.index"
   ]
  },
  {
   "cell_type": "markdown",
   "metadata": {},
   "source": [
    "Step 9. Which was the most-ordered item?"
   ]
  },
  {
   "cell_type": "markdown",
   "metadata": {},
   "source": [
    "Chicken Bowl"
   ]
  },
  {
   "cell_type": "code",
   "execution_count": 58,
   "metadata": {},
   "outputs": [
    {
     "data": {
      "text/plain": [
       "Chicken Bowl                             726\n",
       "Chicken Burrito                          553\n",
       "Chips and Guacamole                      479\n",
       "Steak Burrito                            368\n",
       "Canned Soft Drink                        301\n",
       "Chips                                    211\n",
       "Steak Bowl                               211\n",
       "Bottled Water                            162\n",
       "Chicken Soft Tacos                       115\n",
       "Chicken Salad Bowl                       110\n",
       "Chips and Fresh Tomato Salsa             110\n",
       "Canned Soda                              104\n",
       "Side of Chips                            101\n",
       "Veggie Burrito                            95\n",
       "Barbacoa Burrito                          91\n",
       "Veggie Bowl                               85\n",
       "Carnitas Bowl                             68\n",
       "Barbacoa Bowl                             66\n",
       "Carnitas Burrito                          59\n",
       "Steak Soft Tacos                          55\n",
       "6 Pack Soft Drink                         54\n",
       "Chips and Tomatillo Red Chili Salsa       48\n",
       "Chicken Crispy Tacos                      47\n",
       "Chips and Tomatillo Green Chili Salsa     43\n",
       "Carnitas Soft Tacos                       40\n",
       "Steak Crispy Tacos                        35\n",
       "Chips and Tomatillo-Green Chili Salsa     31\n",
       "Steak Salad Bowl                          29\n",
       "Nantucket Nectar                          27\n",
       "Barbacoa Soft Tacos                       25\n",
       "Chips and Roasted Chili Corn Salsa        22\n",
       "Chips and Tomatillo-Red Chili Salsa       20\n",
       "Izze                                      20\n",
       "Chips and Roasted Chili-Corn Salsa        18\n",
       "Veggie Salad Bowl                         18\n",
       "Barbacoa Crispy Tacos                     11\n",
       "Barbacoa Salad Bowl                       10\n",
       "Chicken Salad                              9\n",
       "Carnitas Crispy Tacos                      7\n",
       "Veggie Soft Tacos                          7\n",
       "Carnitas Salad Bowl                        6\n",
       "Burrito                                    6\n",
       "Veggie Salad                               6\n",
       "Steak Salad                                4\n",
       "Salad                                      2\n",
       "Bowl                                       2\n",
       "Crispy Tacos                               2\n",
       "Carnitas Salad                             1\n",
       "Veggie Crispy Tacos                        1\n",
       "Chips and Mild Fresh Tomato Salsa          1\n",
       "Name: item_name, dtype: int64"
      ]
     },
     "execution_count": 58,
     "metadata": {},
     "output_type": "execute_result"
    }
   ],
   "source": [
    "chipo['item_name'].value_counts()"
   ]
  },
  {
   "cell_type": "markdown",
   "metadata": {},
   "source": [
    "Step 10. For the most-ordered item, how many items were ordered?"
   ]
  },
  {
   "cell_type": "markdown",
   "metadata": {},
   "source": [
    "726 times"
   ]
  },
  {
   "cell_type": "markdown",
   "metadata": {},
   "source": [
    "Step 11. What was the most ordered item in the choice_description column?"
   ]
  },
  {
   "cell_type": "code",
   "execution_count": 59,
   "metadata": {},
   "outputs": [
    {
     "data": {
      "text/plain": [
       "[Diet Coke]                                                                                                                            134\n",
       "[Coke]                                                                                                                                 123\n",
       "[Sprite]                                                                                                                                77\n",
       "[Fresh Tomato Salsa, [Rice, Black Beans, Cheese, Sour Cream, Lettuce]]                                                                  42\n",
       "[Fresh Tomato Salsa, [Rice, Black Beans, Cheese, Sour Cream, Guacamole, Lettuce]]                                                       40\n",
       "                                                                                                                                      ... \n",
       "[[Fresh Tomato Salsa (Mild), Roasted Chili Corn Salsa (Medium)], [Pinto Beans, Black Beans, Rice, Fajita Veggies, Cheese, Lettuce]]      1\n",
       "[Tomatillo Red Chili Salsa, [Fajita Vegetables, Rice, Black Beans, Cheese, Sour Cream, Guacamole]]                                       1\n",
       "[Fresh Tomato Salsa (Mild), [Cheese, Sour Cream, Guacamole, Lettuce]]                                                                    1\n",
       "[Tomatillo-Green Chili Salsa (Medium), [Fajita Veggies, Cheese, Guacamole, Lettuce]]                                                     1\n",
       "[Roasted Chili Corn Salsa, [Fajita Vegetables, Rice, Pinto Beans, Cheese, Sour Cream]]                                                   1\n",
       "Name: choice_description, Length: 1043, dtype: int64"
      ]
     },
     "execution_count": 59,
     "metadata": {},
     "output_type": "execute_result"
    }
   ],
   "source": [
    "chipo['choice_description'].value_counts()"
   ]
  },
  {
   "cell_type": "markdown",
   "metadata": {},
   "source": [
    "The most ordered item in the choice_description column is Diet Coke"
   ]
  },
  {
   "cell_type": "markdown",
   "metadata": {},
   "source": [
    "Step 12. How many items were orderd in total?"
   ]
  },
  {
   "cell_type": "code",
   "execution_count": 60,
   "metadata": {},
   "outputs": [
    {
     "data": {
      "text/plain": [
       "4972"
      ]
     },
     "execution_count": 60,
     "metadata": {},
     "output_type": "execute_result"
    }
   ],
   "source": [
    "chipo['quantity'].sum()"
   ]
  },
  {
   "cell_type": "markdown",
   "metadata": {},
   "source": [
    "Step 13."
   ]
  },
  {
   "cell_type": "markdown",
   "metadata": {},
   "source": [
    "• Turn the item price into a float"
   ]
  },
  {
   "cell_type": "code",
   "execution_count": 68,
   "metadata": {},
   "outputs": [],
   "source": [
    "chipo['item_price'] = pd.to_numeric(chipo.item_price, errors='ignore')"
   ]
  },
  {
   "cell_type": "code",
   "execution_count": 71,
   "metadata": {},
   "outputs": [
    {
     "data": {
      "text/plain": [
       "dtype('O')"
      ]
     },
     "execution_count": 71,
     "metadata": {},
     "output_type": "execute_result"
    }
   ],
   "source": [
    "chipo['item_price'].dtype"
   ]
  },
  {
   "cell_type": "markdown",
   "metadata": {},
   "source": [
    "• Check the item price type"
   ]
  },
  {
   "cell_type": "code",
   "execution_count": 72,
   "metadata": {},
   "outputs": [
    {
     "data": {
      "text/plain": [
       "dtype('O')"
      ]
     },
     "execution_count": 72,
     "metadata": {},
     "output_type": "execute_result"
    }
   ],
   "source": [
    "chipo['item_price'].dtypes"
   ]
  },
  {
   "cell_type": "markdown",
   "metadata": {},
   "source": [
    "• Create a lambda function and change the type of item price"
   ]
  },
  {
   "cell_type": "code",
   "execution_count": 73,
   "metadata": {},
   "outputs": [],
   "source": [
    "chipo['item_price'] = chipo['item_price'].apply(lambda X: pd.to_numeric(chipo.item_price, errors='ignore'))\n"
   ]
  },
  {
   "cell_type": "markdown",
   "metadata": {},
   "source": [
    "• Check the item price type"
   ]
  },
  {
   "cell_type": "code",
   "execution_count": 74,
   "metadata": {},
   "outputs": [
    {
     "data": {
      "text/plain": [
       "dtype('O')"
      ]
     },
     "execution_count": 74,
     "metadata": {},
     "output_type": "execute_result"
    }
   ],
   "source": [
    "chipo['item_price'].dtypes"
   ]
  },
  {
   "cell_type": "markdown",
   "metadata": {},
   "source": [
    "Step 14. How much was the revenue for the period in the dataset?"
   ]
  },
  {
   "cell_type": "code",
   "execution_count": 75,
   "metadata": {},
   "outputs": [
    {
     "data": {
      "text/html": [
       "<div>\n",
       "<style scoped>\n",
       "    .dataframe tbody tr th:only-of-type {\n",
       "        vertical-align: middle;\n",
       "    }\n",
       "\n",
       "    .dataframe tbody tr th {\n",
       "        vertical-align: top;\n",
       "    }\n",
       "\n",
       "    .dataframe thead th {\n",
       "        text-align: right;\n",
       "    }\n",
       "</style>\n",
       "<table border=\"1\" class=\"dataframe\">\n",
       "  <thead>\n",
       "    <tr style=\"text-align: right;\">\n",
       "      <th></th>\n",
       "      <th>order_id</th>\n",
       "      <th>quantity</th>\n",
       "      <th>item_name</th>\n",
       "      <th>choice_description</th>\n",
       "      <th>item_price</th>\n",
       "      <th>revenue</th>\n",
       "    </tr>\n",
       "  </thead>\n",
       "  <tbody>\n",
       "    <tr>\n",
       "      <th>0</th>\n",
       "      <td>1</td>\n",
       "      <td>1</td>\n",
       "      <td>Chips and Fresh Tomato Salsa</td>\n",
       "      <td>NaN</td>\n",
       "      <td>$2.39</td>\n",
       "      <td>$2.39</td>\n",
       "    </tr>\n",
       "    <tr>\n",
       "      <th>1</th>\n",
       "      <td>1</td>\n",
       "      <td>1</td>\n",
       "      <td>Izze</td>\n",
       "      <td>[Clementine]</td>\n",
       "      <td>$2.39</td>\n",
       "      <td>$2.39</td>\n",
       "    </tr>\n",
       "    <tr>\n",
       "      <th>2</th>\n",
       "      <td>1</td>\n",
       "      <td>1</td>\n",
       "      <td>Nantucket Nectar</td>\n",
       "      <td>[Apple]</td>\n",
       "      <td>$2.39</td>\n",
       "      <td>$2.39</td>\n",
       "    </tr>\n",
       "    <tr>\n",
       "      <th>3</th>\n",
       "      <td>1</td>\n",
       "      <td>1</td>\n",
       "      <td>Chips and Tomatillo-Green Chili Salsa</td>\n",
       "      <td>NaN</td>\n",
       "      <td>$2.39</td>\n",
       "      <td>$2.39</td>\n",
       "    </tr>\n",
       "    <tr>\n",
       "      <th>4</th>\n",
       "      <td>2</td>\n",
       "      <td>2</td>\n",
       "      <td>Chicken Bowl</td>\n",
       "      <td>[Tomatillo-Red Chili Salsa (Hot), [Black Beans...</td>\n",
       "      <td>$2.39</td>\n",
       "      <td>$2.39 $2.39</td>\n",
       "    </tr>\n",
       "    <tr>\n",
       "      <th>...</th>\n",
       "      <td>...</td>\n",
       "      <td>...</td>\n",
       "      <td>...</td>\n",
       "      <td>...</td>\n",
       "      <td>...</td>\n",
       "      <td>...</td>\n",
       "    </tr>\n",
       "    <tr>\n",
       "      <th>4617</th>\n",
       "      <td>1833</td>\n",
       "      <td>1</td>\n",
       "      <td>Steak Burrito</td>\n",
       "      <td>[Fresh Tomato Salsa, [Rice, Black Beans, Sour ...</td>\n",
       "      <td>$2.39</td>\n",
       "      <td>$2.39</td>\n",
       "    </tr>\n",
       "    <tr>\n",
       "      <th>4618</th>\n",
       "      <td>1833</td>\n",
       "      <td>1</td>\n",
       "      <td>Steak Burrito</td>\n",
       "      <td>[Fresh Tomato Salsa, [Rice, Sour Cream, Cheese...</td>\n",
       "      <td>$2.39</td>\n",
       "      <td>$2.39</td>\n",
       "    </tr>\n",
       "    <tr>\n",
       "      <th>4619</th>\n",
       "      <td>1834</td>\n",
       "      <td>1</td>\n",
       "      <td>Chicken Salad Bowl</td>\n",
       "      <td>[Fresh Tomato Salsa, [Fajita Vegetables, Pinto...</td>\n",
       "      <td>$2.39</td>\n",
       "      <td>$2.39</td>\n",
       "    </tr>\n",
       "    <tr>\n",
       "      <th>4620</th>\n",
       "      <td>1834</td>\n",
       "      <td>1</td>\n",
       "      <td>Chicken Salad Bowl</td>\n",
       "      <td>[Fresh Tomato Salsa, [Fajita Vegetables, Lettu...</td>\n",
       "      <td>$2.39</td>\n",
       "      <td>$2.39</td>\n",
       "    </tr>\n",
       "    <tr>\n",
       "      <th>4621</th>\n",
       "      <td>1834</td>\n",
       "      <td>1</td>\n",
       "      <td>Chicken Salad Bowl</td>\n",
       "      <td>[Fresh Tomato Salsa, [Fajita Vegetables, Pinto...</td>\n",
       "      <td>$2.39</td>\n",
       "      <td>$2.39</td>\n",
       "    </tr>\n",
       "  </tbody>\n",
       "</table>\n",
       "<p>4622 rows × 6 columns</p>\n",
       "</div>"
      ],
      "text/plain": [
       "      order_id  quantity                              item_name  \\\n",
       "0            1         1           Chips and Fresh Tomato Salsa   \n",
       "1            1         1                                   Izze   \n",
       "2            1         1                       Nantucket Nectar   \n",
       "3            1         1  Chips and Tomatillo-Green Chili Salsa   \n",
       "4            2         2                           Chicken Bowl   \n",
       "...        ...       ...                                    ...   \n",
       "4617      1833         1                          Steak Burrito   \n",
       "4618      1833         1                          Steak Burrito   \n",
       "4619      1834         1                     Chicken Salad Bowl   \n",
       "4620      1834         1                     Chicken Salad Bowl   \n",
       "4621      1834         1                     Chicken Salad Bowl   \n",
       "\n",
       "                                     choice_description item_price  \\\n",
       "0                                                   NaN     $2.39    \n",
       "1                                          [Clementine]     $2.39    \n",
       "2                                               [Apple]     $2.39    \n",
       "3                                                   NaN     $2.39    \n",
       "4     [Tomatillo-Red Chili Salsa (Hot), [Black Beans...     $2.39    \n",
       "...                                                 ...        ...   \n",
       "4617  [Fresh Tomato Salsa, [Rice, Black Beans, Sour ...     $2.39    \n",
       "4618  [Fresh Tomato Salsa, [Rice, Sour Cream, Cheese...     $2.39    \n",
       "4619  [Fresh Tomato Salsa, [Fajita Vegetables, Pinto...     $2.39    \n",
       "4620  [Fresh Tomato Salsa, [Fajita Vegetables, Lettu...     $2.39    \n",
       "4621  [Fresh Tomato Salsa, [Fajita Vegetables, Pinto...     $2.39    \n",
       "\n",
       "           revenue  \n",
       "0           $2.39   \n",
       "1           $2.39   \n",
       "2           $2.39   \n",
       "3           $2.39   \n",
       "4     $2.39 $2.39   \n",
       "...            ...  \n",
       "4617        $2.39   \n",
       "4618        $2.39   \n",
       "4619        $2.39   \n",
       "4620        $2.39   \n",
       "4621        $2.39   \n",
       "\n",
       "[4622 rows x 6 columns]"
      ]
     },
     "execution_count": 75,
     "metadata": {},
     "output_type": "execute_result"
    }
   ],
   "source": [
    "chipo['revenue'] = chipo['quantity'] * chipo['item_price']\n",
    "chipo\n"
   ]
  },
  {
   "cell_type": "markdown",
   "metadata": {},
   "source": [
    "Step 15. How many orders were made in the period?"
   ]
  },
  {
   "cell_type": "code",
   "execution_count": 76,
   "metadata": {},
   "outputs": [
    {
     "data": {
      "text/plain": [
       "4622"
      ]
     },
     "execution_count": 76,
     "metadata": {},
     "output_type": "execute_result"
    }
   ],
   "source": [
    "chipo['order_id'].count()"
   ]
  },
  {
   "cell_type": "markdown",
   "metadata": {},
   "source": [
    "Step 16. What is the average revenue amount per order?"
   ]
  },
  {
   "cell_type": "code",
   "execution_count": 77,
   "metadata": {},
   "outputs": [
    {
     "ename": "TypeError",
     "evalue": "Could not convert $2.39 $2.39 $2.39 $2.39 $2.39 $2.39 $2.39 $2.39 $2.39 $2.39 $2.39 $2.39 $2.39 $2.39 $2.39 $2.39 $2.39 $2.39 $2.39 $2.39 $2.39 $2.39 $2.39 $2.39 $2.39 $2.39 $2.39 $2.39 $2.39 $2.39 $2.39 $2.39 $2.39 $2.39 $2.39 $2.39 $2.39 $2.39 $2.39 $2.39 $2.39 $2.39 $2.39 $2.39 $2.39 $2.39 $2.39 $2.39 $2.39 $2.39 $2.39 $2.39 $2.39 $2.39 $2.39 $2.39 $2.39 $2.39 $2.39 $2.39 $2.39 $2.39 $2.39 $2.39 $2.39 $2.39 $2.39 $2.39 $2.39 $2.39 $2.39 $2.39 $2.39 $2.39 $2.39 $2.39 $2.39 $2.39 $2.39 $2.39 $2.39 $2.39 $2.39 $2.39 $2.39 $2.39 $2.39 $2.39 $2.39 $2.39 $2.39 $2.39 $2.39 $2.39 $2.39 $2.39 $2.39 $2.39 $2.39 $2.39 $2.39 $2.39 $2.39 $2.39 $2.39 $2.39 $2.39 $2.39 $2.39 $2.39 $2.39 $2.39 $2.39 $2.39 $2.39 $2.39 $2.39 $2.39 $2.39 $2.39 $2.39 $2.39 $2.39 $2.39 $2.39 $2.39 $2.39 $2.39 $2.39 $2.39 $2.39 $2.39 $2.39 $2.39 $2.39 $2.39 $2.39 $2.39 $2.39 $2.39 $2.39 $2.39 $2.39 $2.39 $2.39 $2.39 $2.39 $2.39 $2.39 $2.39 $2.39 $2.39 $2.39 $2.39 $2.39 $2.39 $2.39 $2.39 $2.39 $2.39 $2.39 $2.39 $2.39 $2.39 $2.39 $2.39 $2.39 $2.39 $2.39 $2.39 $2.39 $2.39 $2.39 $2.39 $2.39 $2.39 $2.39 $2.39 $2.39 $2.39 $2.39 $2.39 $2.39 $2.39 $2.39 $2.39 $2.39 $2.39 $2.39 $2.39 $2.39 $2.39 $2.39 $2.39 $2.39 $2.39 $2.39 $2.39 $2.39 $2.39 $2.39 $2.39 $2.39 $2.39 $2.39 $2.39 $2.39 $2.39 $2.39 $2.39 $2.39 $2.39 $2.39 $2.39 $2.39 $2.39 $2.39 $2.39 $2.39 $2.39 $2.39 $2.39 $2.39 $2.39 $2.39 $2.39 $2.39 $2.39 $2.39 $2.39 $2.39 $2.39 $2.39 $2.39 $2.39 $2.39 $2.39 $2.39 $2.39 $2.39 $2.39 $2.39 $2.39 $2.39 $2.39 $2.39 $2.39 $2.39 $2.39 $2.39 $2.39 $2.39 $2.39 $2.39 $2.39 $2.39 $2.39 $2.39 $2.39 $2.39 $2.39 $2.39 $2.39 $2.39 $2.39 $2.39 $2.39 $2.39 $2.39 $2.39 $2.39 $2.39 $2.39 $2.39 $2.39 $2.39 $2.39 $2.39 $2.39 $2.39 $2.39 $2.39 $2.39 $2.39 $2.39 $2.39 $2.39 $2.39 $2.39 $2.39 $2.39 $2.39 $2.39 $2.39 $2.39 $2.39 $2.39 $2.39 $2.39 $2.39 $2.39 $2.39 $2.39 $2.39 $2.39 $2.39 $2.39 $2.39 $2.39 $2.39 $2.39 $2.39 $2.39 $2.39 $2.39 $2.39 $2.39 $2.39 $2.39 $2.39 $2.39 $2.39 $2.39 $2.39 $2.39 $2.39 $2.39 $2.39 $2.39 $2.39 $2.39 $2.39 $2.39 $2.39 $2.39 $2.39 $2.39 $2.39 $2.39 $2.39 $2.39 $2.39 $2.39 $2.39 $2.39 $2.39 $2.39 $2.39 $2.39 $2.39 $2.39 $2.39 $2.39 $2.39 $2.39 $2.39 $2.39 $2.39 $2.39 $2.39 $2.39 $2.39 $2.39 $2.39 $2.39 $2.39 $2.39 $2.39 $2.39 $2.39 $2.39 $2.39 $2.39 $2.39 $2.39 $2.39 $2.39 $2.39 $2.39 $2.39 $2.39 $2.39 $2.39 $2.39 $2.39 $2.39 $2.39 $2.39 $2.39 $2.39 $2.39 $2.39 $2.39 $2.39 $2.39 $2.39 $2.39 $2.39 $2.39 $2.39 $2.39 $2.39 $2.39 $2.39 $2.39 $2.39 $2.39 $2.39 $2.39 $2.39 $2.39 $2.39 $2.39 $2.39 $2.39 $2.39 $2.39 $2.39 $2.39 $2.39 $2.39 $2.39 $2.39 $2.39 $2.39 $2.39 $2.39 $2.39 $2.39 $2.39 $2.39 $2.39 $2.39 $2.39 $2.39 $2.39 $2.39 $2.39 $2.39 $2.39 $2.39 $2.39 $2.39 $2.39 $2.39 $2.39 $2.39 $2.39 $2.39 $2.39 $2.39 $2.39 $2.39 $2.39 $2.39 $2.39 $2.39 $2.39 $2.39 $2.39 $2.39 $2.39 $2.39 $2.39 $2.39 $2.39 $2.39 $2.39 $2.39 $2.39 $2.39 $2.39 $2.39 $2.39 $2.39 $2.39 $2.39 $2.39 $2.39 $2.39 $2.39 $2.39 $2.39 $2.39 $2.39 $2.39 $2.39 $2.39 $2.39 $2.39 $2.39 $2.39 $2.39 $2.39 $2.39 $2.39 $2.39 $2.39 $2.39 $2.39 $2.39 $2.39 $2.39 $2.39 $2.39 $2.39 $2.39 $2.39 $2.39 $2.39 $2.39 $2.39 $2.39 $2.39 $2.39 $2.39 $2.39 $2.39 $2.39 $2.39 $2.39 $2.39 $2.39 $2.39 $2.39 $2.39 $2.39 $2.39 $2.39 $2.39 $2.39 $2.39 $2.39 $2.39 $2.39 $2.39 $2.39 $2.39 $2.39 $2.39 $2.39 $2.39 $2.39 $2.39 $2.39 $2.39 $2.39 $2.39 $2.39 $2.39 $2.39 $2.39 $2.39 $2.39 $2.39 $2.39 $2.39 $2.39 $2.39 $2.39 $2.39 $2.39 $2.39 $2.39 $2.39 $2.39 $2.39 $2.39 $2.39 $2.39 $2.39 $2.39 $2.39 $2.39 $2.39 $2.39 $2.39 $2.39 $2.39 $2.39 $2.39 $2.39 $2.39 $2.39 $2.39 $2.39 $2.39 $2.39 $2.39 $2.39 $2.39 $2.39 $2.39 $2.39 $2.39 $2.39 $2.39 $2.39 $2.39 $2.39 $2.39 $2.39 $2.39 $2.39 $2.39 $2.39 $2.39 $2.39 $2.39 $2.39 $2.39 $2.39 $2.39 $2.39 $2.39 $2.39 $2.39 $2.39 $2.39 $2.39 $2.39 $2.39 $2.39 $2.39 $2.39 $2.39 $2.39 $2.39 $2.39 $2.39 $2.39 $2.39 $2.39 $2.39 $2.39 $2.39 $2.39 $2.39 $2.39 $2.39 $2.39 $2.39 $2.39 $2.39 $2.39 $2.39 $2.39 $2.39 $2.39 $2.39 $2.39 $2.39 $2.39 $2.39 $2.39 $2.39 $2.39 $2.39 $2.39 $2.39 $2.39 $2.39 $2.39 $2.39 $2.39 $2.39 $2.39 $2.39 $2.39 $2.39 $2.39 $2.39 $2.39 $2.39 $2.39 $2.39 $2.39 $2.39 $2.39 $2.39 $2.39 $2.39 $2.39 $2.39 $2.39 $2.39 $2.39 $2.39 $2.39 $2.39 $2.39 $2.39 $2.39 $2.39 $2.39 $2.39 $2.39 $2.39 $2.39 $2.39 $2.39 $2.39 $2.39 $2.39 $2.39 $2.39 $2.39 $2.39 $2.39 $2.39 $2.39 $2.39 $2.39 $2.39 $2.39 $2.39 $2.39 $2.39 $2.39 $2.39 $2.39 $2.39 $2.39 $2.39 $2.39 $2.39 $2.39 $2.39 $2.39 $2.39 $2.39 $2.39 $2.39 $2.39 $2.39 $2.39 $2.39 $2.39 $2.39 $2.39 $2.39 $2.39 $2.39 $2.39 $2.39 $2.39 $2.39 $2.39 $2.39 $2.39 $2.39 $2.39 $2.39 $2.39 $2.39 $2.39 $2.39 $2.39 $2.39 $2.39 $2.39 $2.39 $2.39 $2.39 $2.39 $2.39 $2.39 $2.39 $2.39 $2.39 $2.39 $2.39 $2.39 $2.39 $2.39 $2.39 $2.39 $2.39 $2.39 $2.39 $2.39 $2.39 $2.39 $2.39 $2.39 $2.39 $2.39 $2.39 $2.39 $2.39 $2.39 $2.39 $2.39 $2.39 $2.39 $2.39 $2.39 $2.39 $2.39 $2.39 $2.39 $2.39 $2.39 $2.39 $2.39 $2.39 $2.39 $2.39 $2.39 $2.39 $2.39 $2.39 $2.39 $2.39 $2.39 $2.39 $2.39 $2.39 $2.39 $2.39 $2.39 $2.39 $2.39 $2.39 $2.39 $2.39 $2.39 $2.39 $2.39 $2.39 $2.39 $2.39 $2.39 $2.39 $2.39 $2.39 $2.39 $2.39 $2.39 $2.39 $2.39 $2.39 $2.39 $2.39 $2.39 $2.39 $2.39 $2.39 $2.39 $2.39 $2.39 $2.39 $2.39 $2.39 $2.39 $2.39 $2.39 $2.39 $2.39 $2.39 $2.39 $2.39 $2.39 $2.39 $2.39 $2.39 $2.39 $2.39 $2.39 $2.39 $2.39 $2.39 $2.39 $2.39 $2.39 $2.39 $2.39 $2.39 $2.39 $2.39 $2.39 $2.39 $2.39 $2.39 $2.39 $2.39 $2.39 $2.39 $2.39 $2.39 $2.39 $2.39 $2.39 $2.39 $2.39 $2.39 $2.39 $2.39 $2.39 $2.39 $2.39 $2.39 $2.39 $2.39 $2.39 $2.39 $2.39 $2.39 $2.39 $2.39 $2.39 $2.39 $2.39 $2.39 $2.39 $2.39 $2.39 $2.39 $2.39 $2.39 $2.39 $2.39 $2.39 $2.39 $2.39 $2.39 $2.39 $2.39 $2.39 $2.39 $2.39 $2.39 $2.39 $2.39 $2.39 $2.39 $2.39 $2.39 $2.39 $2.39 $2.39 $2.39 $2.39 $2.39 $2.39 $2.39 $2.39 $2.39 $2.39 $2.39 $2.39 $2.39 $2.39 $2.39 $2.39 $2.39 $2.39 $2.39 $2.39 $2.39 $2.39 $2.39 $2.39 $2.39 $2.39 $2.39 $2.39 $2.39 $2.39 $2.39 $2.39 $2.39 $2.39 $2.39 $2.39 $2.39 $2.39 $2.39 $2.39 $2.39 $2.39 $2.39 $2.39 $2.39 $2.39 $2.39 $2.39 $2.39 $2.39 $2.39 $2.39 $2.39 $2.39 $2.39 $2.39 $2.39 $2.39 $2.39 $2.39 $2.39 $2.39 $2.39 $2.39 $2.39 $2.39 $2.39 $2.39 $2.39 $2.39 $2.39 $2.39 $2.39 $2.39 $2.39 $2.39 $2.39 $2.39 $2.39 $2.39 $2.39 $2.39 $2.39 $2.39 $2.39 $2.39 $2.39 $2.39 $2.39 $2.39 $2.39 $2.39 $2.39 $2.39 $2.39 $2.39 $2.39 $2.39 $2.39 $2.39 $2.39 $2.39 $2.39 $2.39 $2.39 $2.39 $2.39 $2.39 $2.39 $2.39 $2.39 $2.39 $2.39 $2.39 $2.39 $2.39 $2.39 $2.39 $2.39 $2.39 $2.39 $2.39 $2.39 $2.39 $2.39 $2.39 $2.39 $2.39 $2.39 $2.39 $2.39 $2.39 $2.39 $2.39 $2.39 $2.39 $2.39 $2.39 $2.39 $2.39 $2.39 $2.39 $2.39 $2.39 $2.39 $2.39 $2.39 $2.39 $2.39 $2.39 $2.39 $2.39 $2.39 $2.39 $2.39 $2.39 $2.39 $2.39 $2.39 $2.39 $2.39 $2.39 $2.39 $2.39 $2.39 $2.39 $2.39 $2.39 $2.39 $2.39 $2.39 $2.39 $2.39 $2.39 $2.39 $2.39 $2.39 $2.39 $2.39 $2.39 $2.39 $2.39 $2.39 $2.39 $2.39 $2.39 $2.39 $2.39 $2.39 $2.39 $2.39 $2.39 $2.39 $2.39 $2.39 $2.39 $2.39 $2.39 $2.39 $2.39 $2.39 $2.39 $2.39 $2.39 $2.39 $2.39 $2.39 $2.39 $2.39 $2.39 $2.39 $2.39 $2.39 $2.39 $2.39 $2.39 $2.39 $2.39 $2.39 $2.39 $2.39 $2.39 $2.39 $2.39 $2.39 $2.39 $2.39 $2.39 $2.39 $2.39 $2.39 $2.39 $2.39 $2.39 $2.39 $2.39 $2.39 $2.39 $2.39 $2.39 $2.39 $2.39 $2.39 $2.39 $2.39 $2.39 $2.39 $2.39 $2.39 $2.39 $2.39 $2.39 $2.39 $2.39 $2.39 $2.39 $2.39 $2.39 $2.39 $2.39 $2.39 $2.39 $2.39 $2.39 $2.39 $2.39 $2.39 $2.39 $2.39 $2.39 $2.39 $2.39 $2.39 $2.39 $2.39 $2.39 $2.39 $2.39 $2.39 $2.39 $2.39 $2.39 $2.39 $2.39 $2.39 $2.39 $2.39 $2.39 $2.39 $2.39 $2.39 $2.39 $2.39 $2.39 $2.39 $2.39 $2.39 $2.39 $2.39 $2.39 $2.39 $2.39 $2.39 $2.39 $2.39 $2.39 $2.39 $2.39 $2.39 $2.39 $2.39 $2.39 $2.39 $2.39 $2.39 $2.39 $2.39 $2.39 $2.39 $2.39 $2.39 $2.39 $2.39 $2.39 $2.39 $2.39 $2.39 $2.39 $2.39 $2.39 $2.39 $2.39 $2.39 $2.39 $2.39 $2.39 $2.39 $2.39 $2.39 $2.39 $2.39 $2.39 $2.39 $2.39 $2.39 $2.39 $2.39 $2.39 $2.39 $2.39 $2.39 $2.39 $2.39 $2.39 $2.39 $2.39 $2.39 $2.39 $2.39 $2.39 $2.39 $2.39 $2.39 $2.39 $2.39 $2.39 $2.39 $2.39 $2.39 $2.39 $2.39 $2.39 $2.39 $2.39 $2.39 $2.39 $2.39 $2.39 $2.39 $2.39 $2.39 $2.39 $2.39 $2.39 $2.39 $2.39 $2.39 $2.39 $2.39 $2.39 $2.39 $2.39 $2.39 $2.39 $2.39 $2.39 $2.39 $2.39 $2.39 $2.39 $2.39 $2.39 $2.39 $2.39 $2.39 $2.39 $2.39 $2.39 $2.39 $2.39 $2.39 $2.39 $2.39 $2.39 $2.39 $2.39 $2.39 $2.39 $2.39 $2.39 $2.39 $2.39 $2.39 $2.39 $2.39 $2.39 $2.39 $2.39 $2.39 $2.39 $2.39 $2.39 $2.39 $2.39 $2.39 $2.39 $2.39 $2.39 $2.39 $2.39 $2.39 $2.39 $2.39 $2.39 $2.39 $2.39 $2.39 $2.39 $2.39 $2.39 $2.39 $2.39 $2.39 $2.39 $2.39 $2.39 $2.39 $2.39 $2.39 $2.39 $2.39 $2.39 $2.39 $2.39 $2.39 $2.39 $2.39 $2.39 $2.39 $2.39 $2.39 $2.39 $2.39 $2.39 $2.39 $2.39 $2.39 $2.39 $2.39 $2.39 $2.39 $2.39 $2.39 $2.39 $2.39 $2.39 $2.39 $2.39 $2.39 $2.39 $2.39 $2.39 $2.39 $2.39 $2.39 $2.39 $2.39 $2.39 $2.39 $2.39 $2.39 $2.39 $2.39 $2.39 $2.39 $2.39 $2.39 $2.39 $2.39 $2.39 $2.39 $2.39 $2.39 $2.39 $2.39 $2.39 $2.39 $2.39 $2.39 $2.39 $2.39 $2.39 $2.39 $2.39 $2.39 $2.39 $2.39 $2.39 $2.39 $2.39 $2.39 $2.39 $2.39 $2.39 $2.39 $2.39 $2.39 $2.39 $2.39 $2.39 $2.39 $2.39 $2.39 $2.39 $2.39 $2.39 $2.39 $2.39 $2.39 $2.39 $2.39 $2.39 $2.39 $2.39 $2.39 $2.39 $2.39 $2.39 $2.39 $2.39 $2.39 $2.39 $2.39 $2.39 $2.39 $2.39 $2.39 $2.39 $2.39 $2.39 $2.39 $2.39 $2.39 $2.39 $2.39 $2.39 $2.39 $2.39 $2.39 $2.39 $2.39 $2.39 $2.39 $2.39 $2.39 $2.39 $2.39 $2.39 $2.39 $2.39 $2.39 $2.39 $2.39 $2.39 $2.39 $2.39 $2.39 $2.39 $2.39 $2.39 $2.39 $2.39 $2.39 $2.39 $2.39 $2.39 $2.39 $2.39 $2.39 $2.39 $2.39 $2.39 $2.39 $2.39 $2.39 $2.39 $2.39 $2.39 $2.39 $2.39 $2.39 $2.39 $2.39 $2.39 $2.39 $2.39 $2.39 $2.39 $2.39 $2.39 $2.39 $2.39 $2.39 $2.39 $2.39 $2.39 $2.39 $2.39 $2.39 $2.39 $2.39 $2.39 $2.39 $2.39 $2.39 $2.39 $2.39 $2.39 $2.39 $2.39 $2.39 $2.39 $2.39 $2.39 $2.39 $2.39 $2.39 $2.39 $2.39 $2.39 $2.39 $2.39 $2.39 $2.39 $2.39 $2.39 $2.39 $2.39 $2.39 $2.39 $2.39 $2.39 $2.39 $2.39 $2.39 $2.39 $2.39 $2.39 $2.39 $2.39 $2.39 $2.39 $2.39 $2.39 $2.39 $2.39 $2.39 $2.39 $2.39 $2.39 $2.39 $2.39 $2.39 $2.39 $2.39 $2.39 $2.39 $2.39 $2.39 $2.39 $2.39 $2.39 $2.39 $2.39 $2.39 $2.39 $2.39 $2.39 $2.39 $2.39 $2.39 $2.39 $2.39 $2.39 $2.39 $2.39 $2.39 $2.39 $2.39 $2.39 $2.39 $2.39 $2.39 $2.39 $2.39 $2.39 $2.39 $2.39 $2.39 $2.39 $2.39 $2.39 $2.39 $2.39 $2.39 $2.39 $2.39 $2.39 $2.39 $2.39 $2.39 $2.39 $2.39 $2.39 $2.39 $2.39 $2.39 $2.39 $2.39 $2.39 $2.39 $2.39 $2.39 $2.39 $2.39 $2.39 $2.39 $2.39 $2.39 $2.39 $2.39 $2.39 $2.39 $2.39 $2.39 $2.39 $2.39 $2.39 $2.39 $2.39 $2.39 $2.39 $2.39 $2.39 $2.39 $2.39 $2.39 $2.39 $2.39 $2.39 $2.39 $2.39 $2.39 $2.39 $2.39 $2.39 $2.39 $2.39 $2.39 $2.39 $2.39 $2.39 $2.39 $2.39 $2.39 $2.39 $2.39 $2.39 $2.39 $2.39 $2.39 $2.39 $2.39 $2.39 $2.39 $2.39 $2.39 $2.39 $2.39 $2.39 $2.39 $2.39 $2.39 $2.39 $2.39 $2.39 $2.39 $2.39 $2.39 $2.39 $2.39 $2.39 $2.39 $2.39 $2.39 $2.39 $2.39 $2.39 $2.39 $2.39 $2.39 $2.39 $2.39 $2.39 $2.39 $2.39 $2.39 $2.39 $2.39 $2.39 $2.39 $2.39 $2.39 $2.39 $2.39 $2.39 $2.39 $2.39 $2.39 $2.39 $2.39 $2.39 $2.39 $2.39 $2.39 $2.39 $2.39 $2.39 $2.39 $2.39 $2.39 $2.39 $2.39 $2.39 $2.39 $2.39 $2.39 $2.39 $2.39 $2.39 $2.39 $2.39 $2.39 $2.39 $2.39 $2.39 $2.39 $2.39 $2.39 $2.39 $2.39 $2.39 $2.39 $2.39 $2.39 $2.39 $2.39 $2.39 $2.39 $2.39 $2.39 $2.39 $2.39 $2.39 $2.39 $2.39 $2.39 $2.39 $2.39 $2.39 $2.39 $2.39 $2.39 $2.39 $2.39 $2.39 $2.39 $2.39 $2.39 $2.39 $2.39 $2.39 $2.39 $2.39 $2.39 $2.39 $2.39 $2.39 $2.39 $2.39 $2.39 $2.39 $2.39 $2.39 $2.39 $2.39 $2.39 $2.39 $2.39 $2.39 $2.39 $2.39 $2.39 $2.39 $2.39 $2.39 $2.39 $2.39 $2.39 $2.39 $2.39 $2.39 $2.39 $2.39 $2.39 $2.39 $2.39 $2.39 $2.39 $2.39 $2.39 $2.39 $2.39 $2.39 $2.39 $2.39 $2.39 $2.39 $2.39 $2.39 $2.39 $2.39 $2.39 $2.39 $2.39 $2.39 $2.39 $2.39 $2.39 $2.39 $2.39 $2.39 $2.39 $2.39 $2.39 $2.39 $2.39 $2.39 $2.39 $2.39 $2.39 $2.39 $2.39 $2.39 $2.39 $2.39 $2.39 $2.39 $2.39 $2.39 $2.39 $2.39 $2.39 $2.39 $2.39 $2.39 $2.39 $2.39 $2.39 $2.39 $2.39 $2.39 $2.39 $2.39 $2.39 $2.39 $2.39 $2.39 $2.39 $2.39 $2.39 $2.39 $2.39 $2.39 $2.39 $2.39 $2.39 $2.39 $2.39 $2.39 $2.39 $2.39 $2.39 $2.39 $2.39 $2.39 $2.39 $2.39 $2.39 $2.39 $2.39 $2.39 $2.39 $2.39 $2.39 $2.39 $2.39 $2.39 $2.39 $2.39 $2.39 $2.39 $2.39 $2.39 $2.39 $2.39 $2.39 $2.39 $2.39 $2.39 $2.39 $2.39 $2.39 $2.39 $2.39 $2.39 $2.39 $2.39 $2.39 $2.39 $2.39 $2.39 $2.39 $2.39 $2.39 $2.39 $2.39 $2.39 $2.39 $2.39 $2.39 $2.39 $2.39 $2.39 $2.39 $2.39 $2.39 $2.39 $2.39 $2.39 $2.39 $2.39 $2.39 $2.39 $2.39 $2.39 $2.39 $2.39 $2.39 $2.39 $2.39 $2.39 $2.39 $2.39 $2.39 $2.39 $2.39 $2.39 $2.39 $2.39 $2.39 $2.39 $2.39 $2.39 $2.39 $2.39 $2.39 $2.39 $2.39 $2.39 $2.39 $2.39 $2.39 $2.39 $2.39 $2.39 $2.39 $2.39 $2.39 $2.39 $2.39 $2.39 $2.39 $2.39 $2.39 $2.39 $2.39 $2.39 $2.39 $2.39 $2.39 $2.39 $2.39 $2.39 $2.39 $2.39 $2.39 $2.39 $2.39 $2.39 $2.39 $2.39 $2.39 $2.39 $2.39 $2.39 $2.39 $2.39 $2.39 $2.39 $2.39 $2.39 $2.39 $2.39 $2.39 $2.39 $2.39 $2.39 $2.39 $2.39 $2.39 $2.39 $2.39 $2.39 $2.39 $2.39 $2.39 $2.39 $2.39 $2.39 $2.39 $2.39 $2.39 $2.39 $2.39 $2.39 $2.39 $2.39 $2.39 $2.39 $2.39 $2.39 $2.39 $2.39 $2.39 $2.39 $2.39 $2.39 $2.39 $2.39 $2.39 $2.39 $2.39 $2.39 $2.39 $2.39 $2.39 $2.39 $2.39 $2.39 $2.39 $2.39 $2.39 $2.39 $2.39 $2.39 $2.39 $2.39 $2.39 $2.39 $2.39 $2.39 $2.39 $2.39 $2.39 $2.39 $2.39 $2.39 $2.39 $2.39 $2.39 $2.39 $2.39 $2.39 $2.39 $2.39 $2.39 $2.39 $2.39 $2.39 $2.39 $2.39 $2.39 $2.39 $2.39 $2.39 $2.39 $2.39 $2.39 $2.39 $2.39 $2.39 $2.39 $2.39 $2.39 $2.39 $2.39 $2.39 $2.39 $2.39 $2.39 $2.39 $2.39 $2.39 $2.39 $2.39 $2.39 $2.39 $2.39 $2.39 $2.39 $2.39 $2.39 $2.39 $2.39 $2.39 $2.39 $2.39 $2.39 $2.39 $2.39 $2.39 $2.39 $2.39 $2.39 $2.39 $2.39 $2.39 $2.39 $2.39 $2.39 $2.39 $2.39 $2.39 $2.39 $2.39 $2.39 $2.39 $2.39 $2.39 $2.39 $2.39 $2.39 $2.39 $2.39 $2.39 $2.39 $2.39 $2.39 $2.39 $2.39 $2.39 $2.39 $2.39 $2.39 $2.39 $2.39 $2.39 $2.39 $2.39 $2.39 $2.39 $2.39 $2.39 $2.39 $2.39 $2.39 $2.39 $2.39 $2.39 $2.39 $2.39 $2.39 $2.39 $2.39 $2.39 $2.39 $2.39 $2.39 $2.39 $2.39 $2.39 $2.39 $2.39 $2.39 $2.39 $2.39 $2.39 $2.39 $2.39 $2.39 $2.39 $2.39 $2.39 $2.39 $2.39 $2.39 $2.39 $2.39 $2.39 $2.39 $2.39 $2.39 $2.39 $2.39 $2.39 $2.39 $2.39 $2.39 $2.39 $2.39 $2.39 $2.39 $2.39 $2.39 $2.39 $2.39 $2.39 $2.39 $2.39 $2.39 $2.39 $2.39 $2.39 $2.39 $2.39 $2.39 $2.39 $2.39 $2.39 $2.39 $2.39 $2.39 $2.39 $2.39 $2.39 $2.39 $2.39 $2.39 $2.39 $2.39 $2.39 $2.39 $2.39 $2.39 $2.39 $2.39 $2.39 $2.39 $2.39 $2.39 $2.39 $2.39 $2.39 $2.39 $2.39 $2.39 $2.39 $2.39 $2.39 $2.39 $2.39 $2.39 $2.39 $2.39 $2.39 $2.39 $2.39 $2.39 $2.39 $2.39 $2.39 $2.39 $2.39 $2.39 $2.39 $2.39 $2.39 $2.39 $2.39 $2.39 $2.39 $2.39 $2.39 $2.39 $2.39 $2.39 $2.39 $2.39 $2.39 $2.39 $2.39 $2.39 $2.39 $2.39 $2.39 $2.39 $2.39 $2.39 $2.39 $2.39 $2.39 $2.39 $2.39 $2.39 $2.39 $2.39 $2.39 $2.39 $2.39 $2.39 $2.39 $2.39 $2.39 $2.39 $2.39 $2.39 $2.39 $2.39 $2.39 $2.39 $2.39 $2.39 $2.39 $2.39 $2.39 $2.39 $2.39 $2.39 $2.39 $2.39 $2.39 $2.39 $2.39 $2.39 $2.39 $2.39 $2.39 $2.39 $2.39 $2.39 $2.39 $2.39 $2.39 $2.39 $2.39 $2.39 $2.39 $2.39 $2.39 $2.39 $2.39 $2.39 $2.39 $2.39 $2.39 $2.39 $2.39 $2.39 $2.39 $2.39 $2.39 $2.39 $2.39 $2.39 $2.39 $2.39 $2.39 $2.39 $2.39 $2.39 $2.39 $2.39 $2.39 $2.39 $2.39 $2.39 $2.39 $2.39 $2.39 $2.39 $2.39 $2.39 $2.39 $2.39 $2.39 $2.39 $2.39 $2.39 $2.39 $2.39 $2.39 $2.39 $2.39 $2.39 $2.39 $2.39 $2.39 $2.39 $2.39 $2.39 $2.39 $2.39 $2.39 $2.39 $2.39 $2.39 $2.39 $2.39 $2.39 $2.39 $2.39 $2.39 $2.39 $2.39 $2.39 $2.39 $2.39 $2.39 $2.39 $2.39 $2.39 $2.39 $2.39 $2.39 $2.39 $2.39 $2.39 $2.39 $2.39 $2.39 $2.39 $2.39 $2.39 $2.39 $2.39 $2.39 $2.39 $2.39 $2.39 $2.39 $2.39 $2.39 $2.39 $2.39 $2.39 $2.39 $2.39 $2.39 $2.39 $2.39 $2.39 $2.39 $2.39 $2.39 $2.39 $2.39 $2.39 $2.39 $2.39 $2.39 $2.39 $2.39 $2.39 $2.39 $2.39 $2.39 $2.39 $2.39 $2.39 $2.39 $2.39 $2.39 $2.39 $2.39 $2.39 $2.39 $2.39 $2.39 $2.39 $2.39 $2.39 $2.39 $2.39 $2.39 $2.39 $2.39 $2.39 $2.39 $2.39 $2.39 $2.39 $2.39 $2.39 $2.39 $2.39 $2.39 $2.39 $2.39 $2.39 $2.39 $2.39 $2.39 $2.39 $2.39 $2.39 $2.39 $2.39 $2.39 $2.39 $2.39 $2.39 $2.39 $2.39 $2.39 $2.39 $2.39 $2.39 $2.39 $2.39 $2.39 $2.39 $2.39 $2.39 $2.39 $2.39 $2.39 $2.39 $2.39 $2.39 $2.39 $2.39 $2.39 $2.39 $2.39 $2.39 $2.39 $2.39 $2.39 $2.39 $2.39 $2.39 $2.39 $2.39 $2.39 $2.39 $2.39 $2.39 $2.39 $2.39 $2.39 $2.39 $2.39 $2.39 $2.39 $2.39 $2.39 $2.39 $2.39 $2.39 $2.39 $2.39 $2.39 $2.39 $2.39 $2.39 $2.39 $2.39 $2.39 $2.39 $2.39 $2.39 $2.39 $2.39 $2.39 $2.39 $2.39 $2.39 $2.39 $2.39 $2.39 $2.39 $2.39 $2.39 $2.39 $2.39 $2.39 $2.39 $2.39 $2.39 $2.39 $2.39 $2.39 $2.39 $2.39 $2.39 $2.39 $2.39 $2.39 $2.39 $2.39 $2.39 $2.39 $2.39 $2.39 $2.39 $2.39 $2.39 $2.39 $2.39 $2.39 $2.39 $2.39 $2.39 $2.39 $2.39 $2.39 $2.39 $2.39 $2.39 $2.39 $2.39 $2.39 $2.39 $2.39 $2.39 $2.39 $2.39 $2.39 $2.39 $2.39 $2.39 $2.39 $2.39 $2.39 $2.39 $2.39 $2.39 $2.39 $2.39 $2.39 $2.39 $2.39 $2.39 $2.39 $2.39 $2.39 $2.39 $2.39 $2.39 $2.39 $2.39 $2.39 $2.39 $2.39 $2.39 $2.39 $2.39 $2.39 $2.39 $2.39 $2.39 $2.39 $2.39 $2.39 $2.39 $2.39 $2.39 $2.39 $2.39 $2.39 $2.39 $2.39 $2.39 $2.39 $2.39 $2.39 $2.39 $2.39 $2.39 $2.39 $2.39 $2.39 $2.39 $2.39 $2.39 $2.39 $2.39 $2.39 $2.39 $2.39 $2.39 $2.39 $2.39 $2.39 $2.39 $2.39 $2.39 $2.39 $2.39 $2.39 $2.39 $2.39 $2.39 $2.39 $2.39 $2.39 $2.39 $2.39 $2.39 $2.39 $2.39 $2.39 $2.39 $2.39 $2.39 $2.39 $2.39 $2.39 $2.39 $2.39 $2.39 $2.39 $2.39 $2.39 $2.39 $2.39 $2.39 $2.39 $2.39 $2.39 $2.39 $2.39 $2.39 $2.39 $2.39 $2.39 $2.39 $2.39 $2.39 $2.39 $2.39 $2.39 $2.39 $2.39 $2.39 $2.39 $2.39 $2.39 $2.39 $2.39 $2.39 $2.39 $2.39 $2.39 $2.39 $2.39 $2.39 $2.39 $2.39 $2.39 $2.39 $2.39 $2.39 $2.39 $2.39 $2.39 $2.39 $2.39 $2.39 $2.39 $2.39 $2.39 $2.39 $2.39 $2.39 $2.39 $2.39 $2.39 $2.39 $2.39 $2.39 $2.39 $2.39 $2.39 $2.39 $2.39 $2.39 $2.39 $2.39 $2.39 $2.39 $2.39 $2.39 $2.39 $2.39 $2.39 $2.39 $2.39 $2.39 $2.39 $2.39 $2.39 $2.39 $2.39 $2.39 $2.39 $2.39 $2.39 $2.39 $2.39 $2.39 $2.39 $2.39 $2.39 $2.39 $2.39 $2.39 $2.39 $2.39 $2.39 $2.39 $2.39 $2.39 $2.39 $2.39 $2.39 $2.39 $2.39 $2.39 $2.39 $2.39 $2.39 $2.39 $2.39 $2.39 $2.39 $2.39 $2.39 $2.39 $2.39 $2.39 $2.39 $2.39 $2.39 $2.39 $2.39 $2.39 $2.39 $2.39 $2.39 $2.39 $2.39 $2.39 $2.39 $2.39 $2.39 $2.39 $2.39 $2.39 $2.39 $2.39 $2.39 $2.39 $2.39 $2.39 $2.39 $2.39 $2.39 $2.39 $2.39 $2.39 $2.39 $2.39 $2.39 $2.39 $2.39 $2.39 $2.39 $2.39 $2.39 $2.39 $2.39 $2.39 $2.39 $2.39 $2.39 $2.39 $2.39 $2.39 $2.39 $2.39 $2.39 $2.39 $2.39 $2.39 $2.39 $2.39 $2.39 $2.39 $2.39 $2.39 $2.39 $2.39 $2.39 $2.39 $2.39 $2.39 $2.39 $2.39 $2.39 $2.39 $2.39 $2.39 $2.39 $2.39 $2.39 $2.39 $2.39 $2.39 $2.39 $2.39 $2.39 $2.39 $2.39 $2.39 $2.39 $2.39 $2.39 $2.39 $2.39 $2.39 $2.39 $2.39 $2.39 $2.39 $2.39 $2.39 $2.39 $2.39 $2.39 $2.39 $2.39 $2.39 $2.39 $2.39 $2.39 $2.39 $2.39 $2.39 $2.39 $2.39 $2.39 $2.39 $2.39 $2.39 $2.39 $2.39 $2.39 $2.39 $2.39 $2.39 $2.39 $2.39 $2.39 $2.39 $2.39 $2.39 $2.39 $2.39 $2.39 $2.39 $2.39 $2.39 $2.39 $2.39 $2.39 $2.39 $2.39 $2.39 $2.39 $2.39 $2.39 $2.39 $2.39 $2.39 $2.39 $2.39 $2.39 $2.39 $2.39 $2.39 $2.39 $2.39 $2.39 $2.39 $2.39 $2.39 $2.39 $2.39 $2.39 $2.39 $2.39 $2.39 $2.39 $2.39 $2.39 $2.39 $2.39 $2.39 $2.39 $2.39 $2.39 $2.39 $2.39 $2.39 $2.39 $2.39 $2.39 $2.39 $2.39 $2.39 $2.39 $2.39 $2.39 $2.39 $2.39 $2.39 $2.39 $2.39 $2.39 $2.39 $2.39 $2.39 $2.39 $2.39 $2.39 $2.39 $2.39 $2.39 $2.39 $2.39 $2.39 $2.39 $2.39 $2.39 $2.39 $2.39 $2.39 $2.39 $2.39 $2.39 $2.39 $2.39 $2.39 $2.39 $2.39 $2.39 $2.39 $2.39 $2.39 $2.39 $2.39 $2.39 $2.39 $2.39 $2.39 $2.39 $2.39 $2.39 $2.39 $2.39 $2.39 $2.39 $2.39 $2.39 $2.39 $2.39 $2.39 $2.39 $2.39 $2.39 $2.39 $2.39 $2.39 $2.39 $2.39 $2.39 $2.39 $2.39 $2.39 $2.39 $2.39 $2.39 $2.39 $2.39 $2.39 $2.39 $2.39 $2.39 $2.39 $2.39 $2.39 $2.39 $2.39 $2.39 $2.39 $2.39 $2.39 $2.39 $2.39 $2.39 $2.39 $2.39 $2.39 $2.39 $2.39 $2.39 $2.39 $2.39 $2.39 $2.39 $2.39 $2.39 $2.39 $2.39 $2.39 $2.39 $2.39 $2.39 $2.39 $2.39 $2.39 $2.39 $2.39 $2.39 $2.39 $2.39 $2.39 $2.39 $2.39 $2.39 $2.39 $2.39 $2.39 $2.39 $2.39 $2.39 $2.39 $2.39 $2.39 $2.39 $2.39 $2.39 $2.39 $2.39 $2.39 $2.39 $2.39 $2.39 $2.39 $2.39 $2.39 $2.39 $2.39 $2.39 $2.39 $2.39 $2.39 $2.39 $2.39 $2.39 $2.39 $2.39 $2.39 $2.39 $2.39 $2.39 $2.39 $2.39 $2.39 $2.39 $2.39 $2.39 $2.39 $2.39 $2.39 $2.39 $2.39 $2.39 $2.39 $2.39 $2.39 $2.39 $2.39 $2.39 $2.39 $2.39 $2.39 $2.39 $2.39 $2.39 $2.39 $2.39 $2.39 $2.39 $2.39 $2.39 $2.39 $2.39 $2.39 $2.39 $2.39 $2.39 $2.39 $2.39 $2.39 $2.39 $2.39 $2.39 $2.39 $2.39 $2.39 $2.39 $2.39 $2.39 $2.39 $2.39 $2.39 $2.39 $2.39 $2.39 $2.39 $2.39 $2.39 $2.39 $2.39 $2.39 $2.39 $2.39 $2.39 $2.39 $2.39 $2.39 $2.39 $2.39 $2.39 $2.39 $2.39 $2.39 $2.39 $2.39 $2.39 $2.39 $2.39 $2.39 $2.39 $2.39 $2.39 $2.39 $2.39 $2.39 $2.39 $2.39 $2.39 $2.39 $2.39 $2.39 $2.39 $2.39 $2.39 $2.39 $2.39 $2.39 $2.39 $2.39 $2.39 $2.39 $2.39 $2.39 $2.39 $2.39 $2.39 $2.39 $2.39 $2.39 $2.39 $2.39 $2.39 $2.39 $2.39 $2.39 $2.39 $2.39 $2.39 $2.39 $2.39 $2.39 $2.39 $2.39 $2.39 $2.39 $2.39 $2.39 $2.39 $2.39 $2.39 $2.39 $2.39 $2.39 $2.39 $2.39 $2.39 $2.39 $2.39 $2.39 $2.39 $2.39 $2.39 $2.39 $2.39 $2.39 $2.39 $2.39 $2.39 $2.39 $2.39 $2.39 $2.39 $2.39 $2.39 $2.39 $2.39 $2.39 $2.39 $2.39 $2.39 $2.39 $2.39 $2.39 $2.39 $2.39 $2.39 $2.39 $2.39 $2.39 $2.39 $2.39 $2.39 $2.39 $2.39 $2.39 $2.39 $2.39 $2.39 $2.39 $2.39 $2.39 $2.39 $2.39 $2.39 $2.39 $2.39 $2.39 $2.39 $2.39 $2.39 $2.39 $2.39 $2.39 $2.39 $2.39 $2.39 $2.39 $2.39 $2.39 $2.39 $2.39 $2.39 $2.39 $2.39 $2.39 $2.39 $2.39 $2.39 $2.39 $2.39 $2.39 $2.39 $2.39 $2.39 $2.39 $2.39 $2.39 $2.39 $2.39 $2.39 $2.39 $2.39 $2.39 $2.39 $2.39 $2.39 $2.39 $2.39 $2.39 $2.39 $2.39 $2.39 $2.39 $2.39 $2.39 $2.39 $2.39 $2.39 $2.39 $2.39 $2.39 $2.39 $2.39 $2.39 $2.39 $2.39 $2.39 $2.39 $2.39 $2.39 $2.39 $2.39 $2.39 $2.39 $2.39 $2.39 $2.39 $2.39 $2.39 $2.39 $2.39 $2.39 $2.39 $2.39 $2.39 $2.39 $2.39 $2.39 $2.39 $2.39 $2.39 $2.39 $2.39 $2.39 $2.39 $2.39 $2.39 $2.39 $2.39 $2.39 $2.39 $2.39 $2.39 $2.39 $2.39 $2.39 $2.39 $2.39 $2.39 $2.39 $2.39 $2.39 $2.39 $2.39 $2.39 $2.39 $2.39 $2.39 $2.39 $2.39 $2.39 $2.39 $2.39 $2.39 $2.39 $2.39 $2.39 $2.39 $2.39 $2.39 $2.39 $2.39 $2.39 $2.39 $2.39 $2.39 $2.39 $2.39 $2.39 $2.39 $2.39 $2.39 $2.39 $2.39 $2.39 $2.39 $2.39 $2.39 $2.39 $2.39 $2.39 $2.39 $2.39 $2.39 $2.39 $2.39 $2.39 $2.39 $2.39 $2.39 $2.39 $2.39 $2.39 $2.39 $2.39 $2.39 $2.39 $2.39 $2.39 $2.39 $2.39 $2.39 $2.39 $2.39 $2.39 $2.39 $2.39 $2.39 $2.39 $2.39 $2.39 $2.39 $2.39 $2.39 $2.39 $2.39 $2.39 $2.39 $2.39 $2.39 $2.39 $2.39 $2.39 $2.39 $2.39 $2.39 $2.39 $2.39 $2.39 $2.39 $2.39 $2.39 $2.39 $2.39 $2.39 $2.39 $2.39 $2.39 $2.39 $2.39 $2.39 $2.39 $2.39 $2.39 $2.39 $2.39 $2.39 $2.39 $2.39 $2.39 $2.39 $2.39 $2.39 $2.39 $2.39 $2.39 $2.39 $2.39 $2.39 $2.39 $2.39 $2.39 $2.39 $2.39 $2.39 $2.39 $2.39 $2.39 $2.39 $2.39 $2.39 $2.39 $2.39 $2.39 $2.39 $2.39 $2.39 $2.39 $2.39 $2.39 $2.39 $2.39 $2.39 $2.39 $2.39 $2.39 $2.39 $2.39 $2.39 $2.39 $2.39 $2.39 $2.39 $2.39 $2.39 $2.39 $2.39 $2.39 $2.39 $2.39 $2.39 $2.39 $2.39 $2.39 $2.39 $2.39 $2.39 $2.39 $2.39 $2.39 $2.39 $2.39 $2.39 $2.39 $2.39 $2.39 $2.39 $2.39 $2.39 $2.39 $2.39 $2.39 $2.39 $2.39 $2.39 $2.39 $2.39 $2.39 $2.39 $2.39 $2.39 $2.39 $2.39 $2.39 $2.39 $2.39 $2.39 $2.39 $2.39 $2.39 $2.39 $2.39 $2.39 $2.39 $2.39 $2.39 $2.39 $2.39 $2.39 $2.39 $2.39 $2.39 $2.39 $2.39 $2.39 $2.39 $2.39 $2.39 $2.39 $2.39 $2.39 $2.39 $2.39 $2.39 $2.39 $2.39 $2.39 $2.39 $2.39 $2.39 $2.39 $2.39 $2.39 $2.39 $2.39 $2.39 $2.39 $2.39 $2.39 $2.39 $2.39 $2.39 $2.39 $2.39 $2.39 $2.39 $2.39 $2.39 $2.39 $2.39 $2.39 $2.39 $2.39 $2.39 $2.39 $2.39 $2.39 $2.39 $2.39 $2.39 $2.39 $2.39 $2.39 $2.39 $2.39 $2.39 $2.39 $2.39 $2.39 $2.39 $2.39 $2.39 $2.39 $2.39 $2.39 $2.39 $2.39 $2.39 $2.39 $2.39 $2.39 $2.39 $2.39 $2.39 $2.39 $2.39 $2.39 $2.39 $2.39 $2.39 $2.39 $2.39 $2.39 $2.39 $2.39 $2.39 $2.39 $2.39 $2.39 $2.39 $2.39 $2.39 $2.39 $2.39 $2.39 $2.39 $2.39 $2.39 $2.39 $2.39 $2.39 $2.39 $2.39 $2.39 $2.39 $2.39 $2.39 $2.39 $2.39 $2.39 $2.39 $2.39 $2.39 $2.39 $2.39 $2.39 $2.39 $2.39 $2.39 $2.39 $2.39 $2.39 $2.39 $2.39 $2.39 $2.39 $2.39 $2.39 $2.39 $2.39 $2.39 $2.39 $2.39 $2.39 $2.39 $2.39 $2.39 $2.39 $2.39 $2.39 $2.39 $2.39 $2.39 $2.39 $2.39 $2.39 $2.39 $2.39 $2.39 $2.39 $2.39 $2.39 $2.39 $2.39 $2.39 $2.39 $2.39 $2.39 $2.39 $2.39 $2.39 $2.39 $2.39 $2.39 $2.39 $2.39 $2.39 $2.39 $2.39 $2.39 $2.39 $2.39 $2.39 $2.39 $2.39 $2.39 $2.39 $2.39 $2.39 $2.39 $2.39 $2.39 $2.39 $2.39 $2.39 $2.39 $2.39 $2.39 $2.39 $2.39 $2.39 $2.39 $2.39 $2.39 $2.39 $2.39 $2.39 $2.39 $2.39 $2.39 $2.39 $2.39 $2.39 $2.39 $2.39 $2.39 $2.39 $2.39 $2.39 $2.39 $2.39 $2.39 $2.39 $2.39 $2.39 $2.39 $2.39 $2.39 $2.39 $2.39 $2.39 $2.39 $2.39 $2.39 $2.39 $2.39 $2.39 $2.39 $2.39 $2.39 $2.39 $2.39 $2.39 $2.39 $2.39 $2.39 $2.39 $2.39 $2.39 $2.39 $2.39 $2.39 $2.39 $2.39 $2.39 $2.39 $2.39 $2.39 $2.39 $2.39 $2.39 $2.39 $2.39 $2.39 $2.39 $2.39 $2.39 $2.39 $2.39 $2.39 $2.39 $2.39 $2.39 $2.39 $2.39 $2.39 $2.39 $2.39 $2.39 $2.39 $2.39 $2.39 $2.39 $2.39 $2.39 $2.39 $2.39 $2.39 $2.39 $2.39 $2.39 $2.39 $2.39 $2.39 $2.39 $2.39 $2.39 $2.39 $2.39 $2.39 $2.39 $2.39 $2.39 $2.39 $2.39 $2.39 $2.39 $2.39 $2.39 $2.39 $2.39 $2.39 $2.39 $2.39 $2.39 $2.39 $2.39 $2.39 $2.39 $2.39 $2.39 $2.39 $2.39 $2.39 $2.39 $2.39 $2.39 $2.39 $2.39 $2.39 $2.39 $2.39 $2.39 $2.39 $2.39 $2.39 $2.39 $2.39 $2.39 $2.39 $2.39 $2.39 $2.39 $2.39 $2.39 $2.39 $2.39 $2.39 $2.39 $2.39 $2.39 $2.39 $2.39 $2.39 $2.39 $2.39 $2.39 $2.39 $2.39 $2.39 $2.39 $2.39 $2.39 $2.39 $2.39 $2.39 $2.39 $2.39 $2.39 $2.39 $2.39 $2.39 $2.39 $2.39 $2.39 $2.39 $2.39 $2.39 $2.39 $2.39 $2.39 $2.39 $2.39 $2.39 $2.39 $2.39 $2.39 $2.39 $2.39 $2.39 $2.39 $2.39 $2.39 $2.39 $2.39 $2.39 $2.39 $2.39 $2.39 $2.39 $2.39 $2.39 $2.39 $2.39 $2.39 $2.39 $2.39 $2.39 $2.39 $2.39 $2.39 $2.39 $2.39 $2.39 $2.39 $2.39 $2.39 $2.39 $2.39 $2.39 $2.39 $2.39 $2.39 $2.39 $2.39 $2.39 $2.39 $2.39 $2.39 $2.39 $2.39 $2.39 $2.39 $2.39 $2.39 $2.39 $2.39 $2.39 $2.39 $2.39 $2.39 $2.39 $2.39 $2.39 $2.39 $2.39 $2.39 $2.39 $2.39 $2.39 $2.39 $2.39 $2.39 $2.39 $2.39 $2.39 $2.39 $2.39 $2.39 $2.39 $2.39 $2.39 $2.39 $2.39 $2.39 $2.39 $2.39 $2.39 $2.39 $2.39 $2.39 $2.39 $2.39 $2.39 $2.39 $2.39 $2.39 $2.39 $2.39 $2.39 $2.39 $2.39 $2.39 $2.39 $2.39 $2.39 $2.39 $2.39 $2.39 $2.39 $2.39 $2.39 $2.39 $2.39 $2.39 $2.39 $2.39 $2.39 $2.39 $2.39 $2.39 $2.39 $2.39 $2.39 $2.39 $2.39 $2.39 $2.39 $2.39 $2.39 $2.39 $2.39 $2.39 $2.39 $2.39 $2.39 $2.39 $2.39 $2.39 $2.39 $2.39 $2.39 $2.39 $2.39 $2.39 $2.39 $2.39 $2.39 $2.39 $2.39 $2.39 $2.39 $2.39 $2.39 $2.39 $2.39 $2.39 $2.39 $2.39 $2.39 $2.39 $2.39 $2.39 $2.39 $2.39 $2.39 $2.39 $2.39 $2.39 $2.39 $2.39 $2.39 $2.39 $2.39 $2.39 $2.39 $2.39 $2.39 $2.39 $2.39 $2.39 $2.39 $2.39 $2.39 $2.39 $2.39 $2.39 $2.39 $2.39 $2.39 $2.39 $2.39 $2.39 $2.39 $2.39 $2.39 $2.39 $2.39 $2.39 $2.39 $2.39 $2.39 $2.39 $2.39 $2.39 $2.39 $2.39 $2.39 $2.39 $2.39 $2.39 $2.39 $2.39 $2.39 $2.39 $2.39 $2.39 $2.39 $2.39 $2.39 $2.39 $2.39 $2.39 $2.39 $2.39 $2.39 $2.39 $2.39 $2.39 $2.39 $2.39 $2.39 $2.39 $2.39 $2.39 $2.39 $2.39 $2.39 $2.39 $2.39 $2.39 $2.39 $2.39 $2.39 $2.39 $2.39 $2.39 $2.39 $2.39 $2.39 $2.39 $2.39 $2.39 $2.39 $2.39 $2.39 $2.39 $2.39 $2.39 $2.39 $2.39 $2.39 $2.39 $2.39 $2.39 $2.39 $2.39 $2.39 $2.39 $2.39 $2.39 $2.39 $2.39 $2.39 $2.39 $2.39 $2.39 $2.39 $2.39 $2.39 $2.39 $2.39 $2.39 $2.39 $2.39 $2.39 $2.39 $2.39 $2.39 $2.39 $2.39 $2.39 $2.39 $2.39 $2.39 $2.39 $2.39 $2.39 $2.39 $2.39 $2.39 $2.39 $2.39 $2.39 $2.39 $2.39 $2.39 $2.39 $2.39 $2.39 $2.39 $2.39 $2.39 $2.39 $2.39 $2.39 $2.39 $2.39 $2.39 $2.39 $2.39 $2.39 $2.39 $2.39 $2.39 $2.39 $2.39 $2.39 $2.39 $2.39 $2.39 $2.39 $2.39 $2.39 $2.39 $2.39 $2.39 $2.39 $2.39 $2.39 $2.39 $2.39 $2.39 $2.39 $2.39 $2.39 $2.39 $2.39 $2.39 $2.39 $2.39 $2.39 $2.39 $2.39 $2.39 $2.39 $2.39 $2.39 $2.39 $2.39 $2.39 $2.39 $2.39 $2.39 $2.39 $2.39 $2.39 $2.39 $2.39 $2.39 $2.39 $2.39 $2.39 $2.39 $2.39 $2.39 $2.39 $2.39 $2.39 $2.39 $2.39 $2.39 $2.39 $2.39 $2.39 $2.39 $2.39 $2.39 $2.39 $2.39 $2.39 $2.39 $2.39 $2.39 $2.39 $2.39 $2.39 $2.39 $2.39 $2.39 $2.39 $2.39 $2.39 $2.39 $2.39 $2.39 $2.39 $2.39 $2.39 $2.39 $2.39 $2.39 $2.39 $2.39 $2.39 $2.39 $2.39 $2.39 $2.39 $2.39 $2.39 $2.39 $2.39 $2.39 $2.39 $2.39 $2.39 $2.39 $2.39 $2.39 $2.39 $2.39 $2.39 $2.39 $2.39 $2.39 $2.39 $2.39 $2.39 $2.39 $2.39 $2.39 $2.39 $2.39 $2.39 $2.39 $2.39 $2.39 $2.39 $2.39 $2.39 $2.39 $2.39 $2.39 $2.39 $2.39 $2.39 $2.39 $2.39 $2.39 $2.39 $2.39 $2.39 $2.39 $2.39 $2.39 $2.39 $2.39 $2.39 $2.39 $2.39 $2.39 $2.39 $2.39 $2.39 $2.39 $2.39 $2.39 $2.39 $2.39 $2.39 $2.39 $2.39 $2.39 $2.39 $2.39 $2.39 $2.39 $2.39 $2.39 $2.39 $2.39 $2.39 $2.39 $2.39 $2.39 $2.39 $2.39 $2.39 $2.39 $2.39 $2.39 $2.39 $2.39 $2.39 $2.39 $2.39 $2.39 $2.39 $2.39 $2.39 $2.39 $2.39 $2.39 $2.39 $2.39 $2.39 $2.39 $2.39 $2.39 $2.39 $2.39 $2.39 $2.39 $2.39 $2.39 $2.39 $2.39 $2.39 $2.39 $2.39 $2.39 $2.39 $2.39 $2.39 $2.39 $2.39 $2.39 $2.39 $2.39 $2.39 $2.39 $2.39 $2.39 $2.39 $2.39 $2.39 $2.39 $2.39 $2.39 $2.39 $2.39 $2.39 $2.39 $2.39 $2.39 $2.39 $2.39 $2.39 $2.39 $2.39 $2.39 $2.39 $2.39 $2.39 $2.39 $2.39 $2.39 $2.39 $2.39 $2.39 $2.39 $2.39 $2.39 $2.39 $2.39 $2.39 $2.39 $2.39 $2.39 $2.39 $2.39 $2.39 $2.39 $2.39 $2.39 $2.39 $2.39 $2.39 $2.39 $2.39 $2.39 $2.39 $2.39 $2.39 $2.39 $2.39 $2.39 $2.39 $2.39 $2.39 $2.39 $2.39 $2.39 $2.39 $2.39 $2.39 $2.39 $2.39 $2.39 $2.39 $2.39 $2.39 $2.39 $2.39 $2.39 $2.39 $2.39 $2.39 $2.39 $2.39 $2.39 $2.39 $2.39 $2.39 $2.39 $2.39 $2.39 $2.39 $2.39 $2.39 $2.39 $2.39 $2.39 $2.39 $2.39 $2.39 $2.39 $2.39 $2.39 $2.39 $2.39 $2.39 $2.39 $2.39 $2.39 $2.39 $2.39 $2.39 $2.39 $2.39 $2.39 $2.39 $2.39 $2.39 $2.39 $2.39 $2.39 $2.39 $2.39 $2.39 $2.39 $2.39 $2.39 $2.39 $2.39 $2.39 $2.39 $2.39 $2.39 $2.39 $2.39 $2.39 $2.39 $2.39 $2.39 $2.39 $2.39 $2.39 $2.39 $2.39 $2.39 $2.39 $2.39 $2.39 $2.39 $2.39 $2.39 $2.39 $2.39 $2.39 $2.39 $2.39 $2.39 $2.39 $2.39 $2.39 $2.39 $2.39 $2.39 $2.39 $2.39 $2.39 $2.39 $2.39 $2.39 $2.39 $2.39 $2.39 $2.39 $2.39 $2.39 $2.39 $2.39 $2.39 $2.39 $2.39 $2.39 $2.39 $2.39 $2.39 $2.39 $2.39 $2.39 $2.39 $2.39 $2.39 $2.39 $2.39 $2.39 $2.39 $2.39 $2.39 $2.39 $2.39 $2.39 $2.39 $2.39 $2.39 $2.39 $2.39 $2.39 $2.39 $2.39 $2.39 $2.39 $2.39 $2.39 $2.39 $2.39 $2.39 $2.39 $2.39 $2.39 $2.39 $2.39 $2.39 $2.39 $2.39 $2.39 $2.39 $2.39 $2.39 $2.39 $2.39 $2.39 $2.39 $2.39 $2.39 $2.39 $2.39 $2.39 $2.39 $2.39 $2.39 $2.39 $2.39 $2.39 $2.39 $2.39 $2.39 $2.39 $2.39 $2.39 $2.39 $2.39 $2.39 $2.39 $2.39 $2.39 $2.39 $2.39 $2.39 $2.39 $2.39 $2.39 $2.39 $2.39 $2.39 $2.39 $2.39 $2.39 $2.39 $2.39 $2.39 $2.39 $2.39 $2.39 $2.39 $2.39 $2.39 $2.39 $2.39 $2.39 $2.39 $2.39 $2.39 $2.39 $2.39 $2.39 $2.39 $2.39 $2.39 $2.39 $2.39 $2.39 $2.39 $2.39 $2.39 $2.39 $2.39 $2.39 $2.39 $2.39 $2.39 $2.39  to numeric",
     "output_type": "error",
     "traceback": [
      "\u001b[1;31m---------------------------------------------------------------------------\u001b[0m",
      "\u001b[1;31mValueError\u001b[0m                                Traceback (most recent call last)",
      "\u001b[1;32m~\\anaconda3\\lib\\site-packages\\pandas\\core\\nanops.py\u001b[0m in \u001b[0;36m_ensure_numeric\u001b[1;34m(x)\u001b[0m\n\u001b[0;32m   1302\u001b[0m         \u001b[1;32mtry\u001b[0m\u001b[1;33m:\u001b[0m\u001b[1;33m\u001b[0m\u001b[1;33m\u001b[0m\u001b[0m\n\u001b[1;32m-> 1303\u001b[1;33m             \u001b[0mx\u001b[0m \u001b[1;33m=\u001b[0m \u001b[0mfloat\u001b[0m\u001b[1;33m(\u001b[0m\u001b[0mx\u001b[0m\u001b[1;33m)\u001b[0m\u001b[1;33m\u001b[0m\u001b[1;33m\u001b[0m\u001b[0m\n\u001b[0m\u001b[0;32m   1304\u001b[0m         \u001b[1;32mexcept\u001b[0m \u001b[0mValueError\u001b[0m\u001b[1;33m:\u001b[0m\u001b[1;33m\u001b[0m\u001b[1;33m\u001b[0m\u001b[0m\n",
      "\u001b[1;31mValueError\u001b[0m: could not convert string to float: '$2.39 $2.39 $2.39 $2.39 $2.39 $2.39 $2.39 $2.39 $2.39 $2.39 $2.39 $2.39 $2.39 $2.39 $2.39 $2.39 $2.39 $2.39 $2.39 $2.39 $2.39 $2.39 $2.39 $2.39 $2.39 $2.39 $2.39 $2.39 $2.39 $2.39 $2.39 $2.39 $2.39 $2.39 $2.39 $2.39 $2.39 $2.39 $2.39 $2.39 $2.39 $2.39 $2.39 $2.39 $2.39 $2.39 $2.39 $2.39 $2.39 $2.39 $2.39 $2.39 $2.39 $2.39 $2.39 $2.39 $2.39 $2.39 $2.39 $2.39 $2.39 $2.39 $2.39 $2.39 $2.39 $2.39 $2.39 $2.39 $2.39 $2.39 $2.39 $2.39 $2.39 $2.39 $2.39 $2.39 $2.39 $2.39 $2.39 $2.39 $2.39 $2.39 $2.39 $2.39 $2.39 $2.39 $2.39 $2.39 $2.39 $2.39 $2.39 $2.39 $2.39 $2.39 $2.39 $2.39 $2.39 $2.39 $2.39 $2.39 $2.39 $2.39 $2.39 $2.39 $2.39 $2.39 $2.39 $2.39 $2.39 $2.39 $2.39 $2.39 $2.39 $2.39 $2.39 $2.39 $2.39 $2.39 $2.39 $2.39 $2.39 $2.39 $2.39 $2.39 $2.39 $2.39 $2.39 $2.39 $2.39 $2.39 $2.39 $2.39 $2.39 $2.39 $2.39 $2.39 $2.39 $2.39 $2.39 $2.39 $2.39 $2.39 $2.39 $2.39 $2.39 $2.39 $2.39 $2.39 $2.39 $2.39 $2.39 $2.39 $2.39 $2.39 $2.39 $2.39 $2.39 $2.39 $2.39 $2.39 $2.39 $2.39 $2.39 $2.39 $2.39 $2.39 $2.39 $2.39 $2.39 $2.39 $2.39 $2.39 $2.39 $2.39 $2.39 $2.39 $2.39 $2.39 $2.39 $2.39 $2.39 $2.39 $2.39 $2.39 $2.39 $2.39 $2.39 $2.39 $2.39 $2.39 $2.39 $2.39 $2.39 $2.39 $2.39 $2.39 $2.39 $2.39 $2.39 $2.39 $2.39 $2.39 $2.39 $2.39 $2.39 $2.39 $2.39 $2.39 $2.39 $2.39 $2.39 $2.39 $2.39 $2.39 $2.39 $2.39 $2.39 $2.39 $2.39 $2.39 $2.39 $2.39 $2.39 $2.39 $2.39 $2.39 $2.39 $2.39 $2.39 $2.39 $2.39 $2.39 $2.39 $2.39 $2.39 $2.39 $2.39 $2.39 $2.39 $2.39 $2.39 $2.39 $2.39 $2.39 $2.39 $2.39 $2.39 $2.39 $2.39 $2.39 $2.39 $2.39 $2.39 $2.39 $2.39 $2.39 $2.39 $2.39 $2.39 $2.39 $2.39 $2.39 $2.39 $2.39 $2.39 $2.39 $2.39 $2.39 $2.39 $2.39 $2.39 $2.39 $2.39 $2.39 $2.39 $2.39 $2.39 $2.39 $2.39 $2.39 $2.39 $2.39 $2.39 $2.39 $2.39 $2.39 $2.39 $2.39 $2.39 $2.39 $2.39 $2.39 $2.39 $2.39 $2.39 $2.39 $2.39 $2.39 $2.39 $2.39 $2.39 $2.39 $2.39 $2.39 $2.39 $2.39 $2.39 $2.39 $2.39 $2.39 $2.39 $2.39 $2.39 $2.39 $2.39 $2.39 $2.39 $2.39 $2.39 $2.39 $2.39 $2.39 $2.39 $2.39 $2.39 $2.39 $2.39 $2.39 $2.39 $2.39 $2.39 $2.39 $2.39 $2.39 $2.39 $2.39 $2.39 $2.39 $2.39 $2.39 $2.39 $2.39 $2.39 $2.39 $2.39 $2.39 $2.39 $2.39 $2.39 $2.39 $2.39 $2.39 $2.39 $2.39 $2.39 $2.39 $2.39 $2.39 $2.39 $2.39 $2.39 $2.39 $2.39 $2.39 $2.39 $2.39 $2.39 $2.39 $2.39 $2.39 $2.39 $2.39 $2.39 $2.39 $2.39 $2.39 $2.39 $2.39 $2.39 $2.39 $2.39 $2.39 $2.39 $2.39 $2.39 $2.39 $2.39 $2.39 $2.39 $2.39 $2.39 $2.39 $2.39 $2.39 $2.39 $2.39 $2.39 $2.39 $2.39 $2.39 $2.39 $2.39 $2.39 $2.39 $2.39 $2.39 $2.39 $2.39 $2.39 $2.39 $2.39 $2.39 $2.39 $2.39 $2.39 $2.39 $2.39 $2.39 $2.39 $2.39 $2.39 $2.39 $2.39 $2.39 $2.39 $2.39 $2.39 $2.39 $2.39 $2.39 $2.39 $2.39 $2.39 $2.39 $2.39 $2.39 $2.39 $2.39 $2.39 $2.39 $2.39 $2.39 $2.39 $2.39 $2.39 $2.39 $2.39 $2.39 $2.39 $2.39 $2.39 $2.39 $2.39 $2.39 $2.39 $2.39 $2.39 $2.39 $2.39 $2.39 $2.39 $2.39 $2.39 $2.39 $2.39 $2.39 $2.39 $2.39 $2.39 $2.39 $2.39 $2.39 $2.39 $2.39 $2.39 $2.39 $2.39 $2.39 $2.39 $2.39 $2.39 $2.39 $2.39 $2.39 $2.39 $2.39 $2.39 $2.39 $2.39 $2.39 $2.39 $2.39 $2.39 $2.39 $2.39 $2.39 $2.39 $2.39 $2.39 $2.39 $2.39 $2.39 $2.39 $2.39 $2.39 $2.39 $2.39 $2.39 $2.39 $2.39 $2.39 $2.39 $2.39 $2.39 $2.39 $2.39 $2.39 $2.39 $2.39 $2.39 $2.39 $2.39 $2.39 $2.39 $2.39 $2.39 $2.39 $2.39 $2.39 $2.39 $2.39 $2.39 $2.39 $2.39 $2.39 $2.39 $2.39 $2.39 $2.39 $2.39 $2.39 $2.39 $2.39 $2.39 $2.39 $2.39 $2.39 $2.39 $2.39 $2.39 $2.39 $2.39 $2.39 $2.39 $2.39 $2.39 $2.39 $2.39 $2.39 $2.39 $2.39 $2.39 $2.39 $2.39 $2.39 $2.39 $2.39 $2.39 $2.39 $2.39 $2.39 $2.39 $2.39 $2.39 $2.39 $2.39 $2.39 $2.39 $2.39 $2.39 $2.39 $2.39 $2.39 $2.39 $2.39 $2.39 $2.39 $2.39 $2.39 $2.39 $2.39 $2.39 $2.39 $2.39 $2.39 $2.39 $2.39 $2.39 $2.39 $2.39 $2.39 $2.39 $2.39 $2.39 $2.39 $2.39 $2.39 $2.39 $2.39 $2.39 $2.39 $2.39 $2.39 $2.39 $2.39 $2.39 $2.39 $2.39 $2.39 $2.39 $2.39 $2.39 $2.39 $2.39 $2.39 $2.39 $2.39 $2.39 $2.39 $2.39 $2.39 $2.39 $2.39 $2.39 $2.39 $2.39 $2.39 $2.39 $2.39 $2.39 $2.39 $2.39 $2.39 $2.39 $2.39 $2.39 $2.39 $2.39 $2.39 $2.39 $2.39 $2.39 $2.39 $2.39 $2.39 $2.39 $2.39 $2.39 $2.39 $2.39 $2.39 $2.39 $2.39 $2.39 $2.39 $2.39 $2.39 $2.39 $2.39 $2.39 $2.39 $2.39 $2.39 $2.39 $2.39 $2.39 $2.39 $2.39 $2.39 $2.39 $2.39 $2.39 $2.39 $2.39 $2.39 $2.39 $2.39 $2.39 $2.39 $2.39 $2.39 $2.39 $2.39 $2.39 $2.39 $2.39 $2.39 $2.39 $2.39 $2.39 $2.39 $2.39 $2.39 $2.39 $2.39 $2.39 $2.39 $2.39 $2.39 $2.39 $2.39 $2.39 $2.39 $2.39 $2.39 $2.39 $2.39 $2.39 $2.39 $2.39 $2.39 $2.39 $2.39 $2.39 $2.39 $2.39 $2.39 $2.39 $2.39 $2.39 $2.39 $2.39 $2.39 $2.39 $2.39 $2.39 $2.39 $2.39 $2.39 $2.39 $2.39 $2.39 $2.39 $2.39 $2.39 $2.39 $2.39 $2.39 $2.39 $2.39 $2.39 $2.39 $2.39 $2.39 $2.39 $2.39 $2.39 $2.39 $2.39 $2.39 $2.39 $2.39 $2.39 $2.39 $2.39 $2.39 $2.39 $2.39 $2.39 $2.39 $2.39 $2.39 $2.39 $2.39 $2.39 $2.39 $2.39 $2.39 $2.39 $2.39 $2.39 $2.39 $2.39 $2.39 $2.39 $2.39 $2.39 $2.39 $2.39 $2.39 $2.39 $2.39 $2.39 $2.39 $2.39 $2.39 $2.39 $2.39 $2.39 $2.39 $2.39 $2.39 $2.39 $2.39 $2.39 $2.39 $2.39 $2.39 $2.39 $2.39 $2.39 $2.39 $2.39 $2.39 $2.39 $2.39 $2.39 $2.39 $2.39 $2.39 $2.39 $2.39 $2.39 $2.39 $2.39 $2.39 $2.39 $2.39 $2.39 $2.39 $2.39 $2.39 $2.39 $2.39 $2.39 $2.39 $2.39 $2.39 $2.39 $2.39 $2.39 $2.39 $2.39 $2.39 $2.39 $2.39 $2.39 $2.39 $2.39 $2.39 $2.39 $2.39 $2.39 $2.39 $2.39 $2.39 $2.39 $2.39 $2.39 $2.39 $2.39 $2.39 $2.39 $2.39 $2.39 $2.39 $2.39 $2.39 $2.39 $2.39 $2.39 $2.39 $2.39 $2.39 $2.39 $2.39 $2.39 $2.39 $2.39 $2.39 $2.39 $2.39 $2.39 $2.39 $2.39 $2.39 $2.39 $2.39 $2.39 $2.39 $2.39 $2.39 $2.39 $2.39 $2.39 $2.39 $2.39 $2.39 $2.39 $2.39 $2.39 $2.39 $2.39 $2.39 $2.39 $2.39 $2.39 $2.39 $2.39 $2.39 $2.39 $2.39 $2.39 $2.39 $2.39 $2.39 $2.39 $2.39 $2.39 $2.39 $2.39 $2.39 $2.39 $2.39 $2.39 $2.39 $2.39 $2.39 $2.39 $2.39 $2.39 $2.39 $2.39 $2.39 $2.39 $2.39 $2.39 $2.39 $2.39 $2.39 $2.39 $2.39 $2.39 $2.39 $2.39 $2.39 $2.39 $2.39 $2.39 $2.39 $2.39 $2.39 $2.39 $2.39 $2.39 $2.39 $2.39 $2.39 $2.39 $2.39 $2.39 $2.39 $2.39 $2.39 $2.39 $2.39 $2.39 $2.39 $2.39 $2.39 $2.39 $2.39 $2.39 $2.39 $2.39 $2.39 $2.39 $2.39 $2.39 $2.39 $2.39 $2.39 $2.39 $2.39 $2.39 $2.39 $2.39 $2.39 $2.39 $2.39 $2.39 $2.39 $2.39 $2.39 $2.39 $2.39 $2.39 $2.39 $2.39 $2.39 $2.39 $2.39 $2.39 $2.39 $2.39 $2.39 $2.39 $2.39 $2.39 $2.39 $2.39 $2.39 $2.39 $2.39 $2.39 $2.39 $2.39 $2.39 $2.39 $2.39 $2.39 $2.39 $2.39 $2.39 $2.39 $2.39 $2.39 $2.39 $2.39 $2.39 $2.39 $2.39 $2.39 $2.39 $2.39 $2.39 $2.39 $2.39 $2.39 $2.39 $2.39 $2.39 $2.39 $2.39 $2.39 $2.39 $2.39 $2.39 $2.39 $2.39 $2.39 $2.39 $2.39 $2.39 $2.39 $2.39 $2.39 $2.39 $2.39 $2.39 $2.39 $2.39 $2.39 $2.39 $2.39 $2.39 $2.39 $2.39 $2.39 $2.39 $2.39 $2.39 $2.39 $2.39 $2.39 $2.39 $2.39 $2.39 $2.39 $2.39 $2.39 $2.39 $2.39 $2.39 $2.39 $2.39 $2.39 $2.39 $2.39 $2.39 $2.39 $2.39 $2.39 $2.39 $2.39 $2.39 $2.39 $2.39 $2.39 $2.39 $2.39 $2.39 $2.39 $2.39 $2.39 $2.39 $2.39 $2.39 $2.39 $2.39 $2.39 $2.39 $2.39 $2.39 $2.39 $2.39 $2.39 $2.39 $2.39 $2.39 $2.39 $2.39 $2.39 $2.39 $2.39 $2.39 $2.39 $2.39 $2.39 $2.39 $2.39 $2.39 $2.39 $2.39 $2.39 $2.39 $2.39 $2.39 $2.39 $2.39 $2.39 $2.39 $2.39 $2.39 $2.39 $2.39 $2.39 $2.39 $2.39 $2.39 $2.39 $2.39 $2.39 $2.39 $2.39 $2.39 $2.39 $2.39 $2.39 $2.39 $2.39 $2.39 $2.39 $2.39 $2.39 $2.39 $2.39 $2.39 $2.39 $2.39 $2.39 $2.39 $2.39 $2.39 $2.39 $2.39 $2.39 $2.39 $2.39 $2.39 $2.39 $2.39 $2.39 $2.39 $2.39 $2.39 $2.39 $2.39 $2.39 $2.39 $2.39 $2.39 $2.39 $2.39 $2.39 $2.39 $2.39 $2.39 $2.39 $2.39 $2.39 $2.39 $2.39 $2.39 $2.39 $2.39 $2.39 $2.39 $2.39 $2.39 $2.39 $2.39 $2.39 $2.39 $2.39 $2.39 $2.39 $2.39 $2.39 $2.39 $2.39 $2.39 $2.39 $2.39 $2.39 $2.39 $2.39 $2.39 $2.39 $2.39 $2.39 $2.39 $2.39 $2.39 $2.39 $2.39 $2.39 $2.39 $2.39 $2.39 $2.39 $2.39 $2.39 $2.39 $2.39 $2.39 $2.39 $2.39 $2.39 $2.39 $2.39 $2.39 $2.39 $2.39 $2.39 $2.39 $2.39 $2.39 $2.39 $2.39 $2.39 $2.39 $2.39 $2.39 $2.39 $2.39 $2.39 $2.39 $2.39 $2.39 $2.39 $2.39 $2.39 $2.39 $2.39 $2.39 $2.39 $2.39 $2.39 $2.39 $2.39 $2.39 $2.39 $2.39 $2.39 $2.39 $2.39 $2.39 $2.39 $2.39 $2.39 $2.39 $2.39 $2.39 $2.39 $2.39 $2.39 $2.39 $2.39 $2.39 $2.39 $2.39 $2.39 $2.39 $2.39 $2.39 $2.39 $2.39 $2.39 $2.39 $2.39 $2.39 $2.39 $2.39 $2.39 $2.39 $2.39 $2.39 $2.39 $2.39 $2.39 $2.39 $2.39 $2.39 $2.39 $2.39 $2.39 $2.39 $2.39 $2.39 $2.39 $2.39 $2.39 $2.39 $2.39 $2.39 $2.39 $2.39 $2.39 $2.39 $2.39 $2.39 $2.39 $2.39 $2.39 $2.39 $2.39 $2.39 $2.39 $2.39 $2.39 $2.39 $2.39 $2.39 $2.39 $2.39 $2.39 $2.39 $2.39 $2.39 $2.39 $2.39 $2.39 $2.39 $2.39 $2.39 $2.39 $2.39 $2.39 $2.39 $2.39 $2.39 $2.39 $2.39 $2.39 $2.39 $2.39 $2.39 $2.39 $2.39 $2.39 $2.39 $2.39 $2.39 $2.39 $2.39 $2.39 $2.39 $2.39 $2.39 $2.39 $2.39 $2.39 $2.39 $2.39 $2.39 $2.39 $2.39 $2.39 $2.39 $2.39 $2.39 $2.39 $2.39 $2.39 $2.39 $2.39 $2.39 $2.39 $2.39 $2.39 $2.39 $2.39 $2.39 $2.39 $2.39 $2.39 $2.39 $2.39 $2.39 $2.39 $2.39 $2.39 $2.39 $2.39 $2.39 $2.39 $2.39 $2.39 $2.39 $2.39 $2.39 $2.39 $2.39 $2.39 $2.39 $2.39 $2.39 $2.39 $2.39 $2.39 $2.39 $2.39 $2.39 $2.39 $2.39 $2.39 $2.39 $2.39 $2.39 $2.39 $2.39 $2.39 $2.39 $2.39 $2.39 $2.39 $2.39 $2.39 $2.39 $2.39 $2.39 $2.39 $2.39 $2.39 $2.39 $2.39 $2.39 $2.39 $2.39 $2.39 $2.39 $2.39 $2.39 $2.39 $2.39 $2.39 $2.39 $2.39 $2.39 $2.39 $2.39 $2.39 $2.39 $2.39 $2.39 $2.39 $2.39 $2.39 $2.39 $2.39 $2.39 $2.39 $2.39 $2.39 $2.39 $2.39 $2.39 $2.39 $2.39 $2.39 $2.39 $2.39 $2.39 $2.39 $2.39 $2.39 $2.39 $2.39 $2.39 $2.39 $2.39 $2.39 $2.39 $2.39 $2.39 $2.39 $2.39 $2.39 $2.39 $2.39 $2.39 $2.39 $2.39 $2.39 $2.39 $2.39 $2.39 $2.39 $2.39 $2.39 $2.39 $2.39 $2.39 $2.39 $2.39 $2.39 $2.39 $2.39 $2.39 $2.39 $2.39 $2.39 $2.39 $2.39 $2.39 $2.39 $2.39 $2.39 $2.39 $2.39 $2.39 $2.39 $2.39 $2.39 $2.39 $2.39 $2.39 $2.39 $2.39 $2.39 $2.39 $2.39 $2.39 $2.39 $2.39 $2.39 $2.39 $2.39 $2.39 $2.39 $2.39 $2.39 $2.39 $2.39 $2.39 $2.39 $2.39 $2.39 $2.39 $2.39 $2.39 $2.39 $2.39 $2.39 $2.39 $2.39 $2.39 $2.39 $2.39 $2.39 $2.39 $2.39 $2.39 $2.39 $2.39 $2.39 $2.39 $2.39 $2.39 $2.39 $2.39 $2.39 $2.39 $2.39 $2.39 $2.39 $2.39 $2.39 $2.39 $2.39 $2.39 $2.39 $2.39 $2.39 $2.39 $2.39 $2.39 $2.39 $2.39 $2.39 $2.39 $2.39 $2.39 $2.39 $2.39 $2.39 $2.39 $2.39 $2.39 $2.39 $2.39 $2.39 $2.39 $2.39 $2.39 $2.39 $2.39 $2.39 $2.39 $2.39 $2.39 $2.39 $2.39 $2.39 $2.39 $2.39 $2.39 $2.39 $2.39 $2.39 $2.39 $2.39 $2.39 $2.39 $2.39 $2.39 $2.39 $2.39 $2.39 $2.39 $2.39 $2.39 $2.39 $2.39 $2.39 $2.39 $2.39 $2.39 $2.39 $2.39 $2.39 $2.39 $2.39 $2.39 $2.39 $2.39 $2.39 $2.39 $2.39 $2.39 $2.39 $2.39 $2.39 $2.39 $2.39 $2.39 $2.39 $2.39 $2.39 $2.39 $2.39 $2.39 $2.39 $2.39 $2.39 $2.39 $2.39 $2.39 $2.39 $2.39 $2.39 $2.39 $2.39 $2.39 $2.39 $2.39 $2.39 $2.39 $2.39 $2.39 $2.39 $2.39 $2.39 $2.39 $2.39 $2.39 $2.39 $2.39 $2.39 $2.39 $2.39 $2.39 $2.39 $2.39 $2.39 $2.39 $2.39 $2.39 $2.39 $2.39 $2.39 $2.39 $2.39 $2.39 $2.39 $2.39 $2.39 $2.39 $2.39 $2.39 $2.39 $2.39 $2.39 $2.39 $2.39 $2.39 $2.39 $2.39 $2.39 $2.39 $2.39 $2.39 $2.39 $2.39 $2.39 $2.39 $2.39 $2.39 $2.39 $2.39 $2.39 $2.39 $2.39 $2.39 $2.39 $2.39 $2.39 $2.39 $2.39 $2.39 $2.39 $2.39 $2.39 $2.39 $2.39 $2.39 $2.39 $2.39 $2.39 $2.39 $2.39 $2.39 $2.39 $2.39 $2.39 $2.39 $2.39 $2.39 $2.39 $2.39 $2.39 $2.39 $2.39 $2.39 $2.39 $2.39 $2.39 $2.39 $2.39 $2.39 $2.39 $2.39 $2.39 $2.39 $2.39 $2.39 $2.39 $2.39 $2.39 $2.39 $2.39 $2.39 $2.39 $2.39 $2.39 $2.39 $2.39 $2.39 $2.39 $2.39 $2.39 $2.39 $2.39 $2.39 $2.39 $2.39 $2.39 $2.39 $2.39 $2.39 $2.39 $2.39 $2.39 $2.39 $2.39 $2.39 $2.39 $2.39 $2.39 $2.39 $2.39 $2.39 $2.39 $2.39 $2.39 $2.39 $2.39 $2.39 $2.39 $2.39 $2.39 $2.39 $2.39 $2.39 $2.39 $2.39 $2.39 $2.39 $2.39 $2.39 $2.39 $2.39 $2.39 $2.39 $2.39 $2.39 $2.39 $2.39 $2.39 $2.39 $2.39 $2.39 $2.39 $2.39 $2.39 $2.39 $2.39 $2.39 $2.39 $2.39 $2.39 $2.39 $2.39 $2.39 $2.39 $2.39 $2.39 $2.39 $2.39 $2.39 $2.39 $2.39 $2.39 $2.39 $2.39 $2.39 $2.39 $2.39 $2.39 $2.39 $2.39 $2.39 $2.39 $2.39 $2.39 $2.39 $2.39 $2.39 $2.39 $2.39 $2.39 $2.39 $2.39 $2.39 $2.39 $2.39 $2.39 $2.39 $2.39 $2.39 $2.39 $2.39 $2.39 $2.39 $2.39 $2.39 $2.39 $2.39 $2.39 $2.39 $2.39 $2.39 $2.39 $2.39 $2.39 $2.39 $2.39 $2.39 $2.39 $2.39 $2.39 $2.39 $2.39 $2.39 $2.39 $2.39 $2.39 $2.39 $2.39 $2.39 $2.39 $2.39 $2.39 $2.39 $2.39 $2.39 $2.39 $2.39 $2.39 $2.39 $2.39 $2.39 $2.39 $2.39 $2.39 $2.39 $2.39 $2.39 $2.39 $2.39 $2.39 $2.39 $2.39 $2.39 $2.39 $2.39 $2.39 $2.39 $2.39 $2.39 $2.39 $2.39 $2.39 $2.39 $2.39 $2.39 $2.39 $2.39 $2.39 $2.39 $2.39 $2.39 $2.39 $2.39 $2.39 $2.39 $2.39 $2.39 $2.39 $2.39 $2.39 $2.39 $2.39 $2.39 $2.39 $2.39 $2.39 $2.39 $2.39 $2.39 $2.39 $2.39 $2.39 $2.39 $2.39 $2.39 $2.39 $2.39 $2.39 $2.39 $2.39 $2.39 $2.39 $2.39 $2.39 $2.39 $2.39 $2.39 $2.39 $2.39 $2.39 $2.39 $2.39 $2.39 $2.39 $2.39 $2.39 $2.39 $2.39 $2.39 $2.39 $2.39 $2.39 $2.39 $2.39 $2.39 $2.39 $2.39 $2.39 $2.39 $2.39 $2.39 $2.39 $2.39 $2.39 $2.39 $2.39 $2.39 $2.39 $2.39 $2.39 $2.39 $2.39 $2.39 $2.39 $2.39 $2.39 $2.39 $2.39 $2.39 $2.39 $2.39 $2.39 $2.39 $2.39 $2.39 $2.39 $2.39 $2.39 $2.39 $2.39 $2.39 $2.39 $2.39 $2.39 $2.39 $2.39 $2.39 $2.39 $2.39 $2.39 $2.39 $2.39 $2.39 $2.39 $2.39 $2.39 $2.39 $2.39 $2.39 $2.39 $2.39 $2.39 $2.39 $2.39 $2.39 $2.39 $2.39 $2.39 $2.39 $2.39 $2.39 $2.39 $2.39 $2.39 $2.39 $2.39 $2.39 $2.39 $2.39 $2.39 $2.39 $2.39 $2.39 $2.39 $2.39 $2.39 $2.39 $2.39 $2.39 $2.39 $2.39 $2.39 $2.39 $2.39 $2.39 $2.39 $2.39 $2.39 $2.39 $2.39 $2.39 $2.39 $2.39 $2.39 $2.39 $2.39 $2.39 $2.39 $2.39 $2.39 $2.39 $2.39 $2.39 $2.39 $2.39 $2.39 $2.39 $2.39 $2.39 $2.39 $2.39 $2.39 $2.39 $2.39 $2.39 $2.39 $2.39 $2.39 $2.39 $2.39 $2.39 $2.39 $2.39 $2.39 $2.39 $2.39 $2.39 $2.39 $2.39 $2.39 $2.39 $2.39 $2.39 $2.39 $2.39 $2.39 $2.39 $2.39 $2.39 $2.39 $2.39 $2.39 $2.39 $2.39 $2.39 $2.39 $2.39 $2.39 $2.39 $2.39 $2.39 $2.39 $2.39 $2.39 $2.39 $2.39 $2.39 $2.39 $2.39 $2.39 $2.39 $2.39 $2.39 $2.39 $2.39 $2.39 $2.39 $2.39 $2.39 $2.39 $2.39 $2.39 $2.39 $2.39 $2.39 $2.39 $2.39 $2.39 $2.39 $2.39 $2.39 $2.39 $2.39 $2.39 $2.39 $2.39 $2.39 $2.39 $2.39 $2.39 $2.39 $2.39 $2.39 $2.39 $2.39 $2.39 $2.39 $2.39 $2.39 $2.39 $2.39 $2.39 $2.39 $2.39 $2.39 $2.39 $2.39 $2.39 $2.39 $2.39 $2.39 $2.39 $2.39 $2.39 $2.39 $2.39 $2.39 $2.39 $2.39 $2.39 $2.39 $2.39 $2.39 $2.39 $2.39 $2.39 $2.39 $2.39 $2.39 $2.39 $2.39 $2.39 $2.39 $2.39 $2.39 $2.39 $2.39 $2.39 $2.39 $2.39 $2.39 $2.39 $2.39 $2.39 $2.39 $2.39 $2.39 $2.39 $2.39 $2.39 $2.39 $2.39 $2.39 $2.39 $2.39 $2.39 $2.39 $2.39 $2.39 $2.39 $2.39 $2.39 $2.39 $2.39 $2.39 $2.39 $2.39 $2.39 $2.39 $2.39 $2.39 $2.39 $2.39 $2.39 $2.39 $2.39 $2.39 $2.39 $2.39 $2.39 $2.39 $2.39 $2.39 $2.39 $2.39 $2.39 $2.39 $2.39 $2.39 $2.39 $2.39 $2.39 $2.39 $2.39 $2.39 $2.39 $2.39 $2.39 $2.39 $2.39 $2.39 $2.39 $2.39 $2.39 $2.39 $2.39 $2.39 $2.39 $2.39 $2.39 $2.39 $2.39 $2.39 $2.39 $2.39 $2.39 $2.39 $2.39 $2.39 $2.39 $2.39 $2.39 $2.39 $2.39 $2.39 $2.39 $2.39 $2.39 $2.39 $2.39 $2.39 $2.39 $2.39 $2.39 $2.39 $2.39 $2.39 $2.39 $2.39 $2.39 $2.39 $2.39 $2.39 $2.39 $2.39 $2.39 $2.39 $2.39 $2.39 $2.39 $2.39 $2.39 $2.39 $2.39 $2.39 $2.39 $2.39 $2.39 $2.39 $2.39 $2.39 $2.39 $2.39 $2.39 $2.39 $2.39 $2.39 $2.39 $2.39 $2.39 $2.39 $2.39 $2.39 $2.39 $2.39 $2.39 $2.39 $2.39 $2.39 $2.39 $2.39 $2.39 $2.39 $2.39 $2.39 $2.39 $2.39 $2.39 $2.39 $2.39 $2.39 $2.39 $2.39 $2.39 $2.39 $2.39 $2.39 $2.39 $2.39 $2.39 $2.39 $2.39 $2.39 $2.39 $2.39 $2.39 $2.39 $2.39 $2.39 $2.39 $2.39 $2.39 $2.39 $2.39 $2.39 $2.39 $2.39 $2.39 $2.39 $2.39 $2.39 $2.39 $2.39 $2.39 $2.39 $2.39 $2.39 $2.39 $2.39 $2.39 $2.39 $2.39 $2.39 $2.39 $2.39 $2.39 $2.39 $2.39 $2.39 $2.39 $2.39 $2.39 $2.39 $2.39 $2.39 $2.39 $2.39 $2.39 $2.39 $2.39 $2.39 $2.39 $2.39 $2.39 $2.39 $2.39 $2.39 $2.39 $2.39 $2.39 $2.39 $2.39 $2.39 $2.39 $2.39 $2.39 $2.39 $2.39 $2.39 $2.39 $2.39 $2.39 $2.39 $2.39 $2.39 $2.39 $2.39 $2.39 $2.39 $2.39 $2.39 $2.39 $2.39 $2.39 $2.39 $2.39 $2.39 $2.39 $2.39 $2.39 $2.39 $2.39 $2.39 $2.39 $2.39 $2.39 $2.39 $2.39 $2.39 $2.39 $2.39 $2.39 $2.39 $2.39 $2.39 $2.39 $2.39 $2.39 $2.39 $2.39 $2.39 $2.39 $2.39 $2.39 $2.39 $2.39 $2.39 $2.39 $2.39 $2.39 $2.39 $2.39 $2.39 $2.39 $2.39 $2.39 $2.39 $2.39 $2.39 $2.39 $2.39 $2.39 $2.39 $2.39 $2.39 $2.39 $2.39 $2.39 $2.39 $2.39 $2.39 $2.39 $2.39 $2.39 $2.39 $2.39 $2.39 $2.39 $2.39 $2.39 $2.39 $2.39 $2.39 $2.39 $2.39 $2.39 $2.39 $2.39 $2.39 $2.39 $2.39 $2.39 $2.39 $2.39 $2.39 $2.39 $2.39 $2.39 $2.39 $2.39 $2.39 $2.39 $2.39 $2.39 $2.39 $2.39 $2.39 $2.39 $2.39 $2.39 $2.39 $2.39 $2.39 $2.39 $2.39 $2.39 $2.39 $2.39 $2.39 $2.39 $2.39 $2.39 $2.39 $2.39 $2.39 $2.39 $2.39 $2.39 $2.39 $2.39 $2.39 $2.39 $2.39 $2.39 $2.39 $2.39 $2.39 $2.39 $2.39 $2.39 $2.39 $2.39 $2.39 $2.39 $2.39 $2.39 $2.39 $2.39 $2.39 $2.39 $2.39 $2.39 $2.39 $2.39 $2.39 $2.39 $2.39 $2.39 $2.39 $2.39 $2.39 $2.39 $2.39 $2.39 $2.39 $2.39 $2.39 $2.39 $2.39 $2.39 $2.39 $2.39 $2.39 $2.39 $2.39 $2.39 $2.39 $2.39 $2.39 $2.39 $2.39 $2.39 $2.39 $2.39 $2.39 $2.39 $2.39 $2.39 $2.39 $2.39 $2.39 $2.39 $2.39 $2.39 $2.39 $2.39 $2.39 $2.39 $2.39 $2.39 $2.39 $2.39 $2.39 $2.39 $2.39 $2.39 $2.39 $2.39 $2.39 $2.39 $2.39 $2.39 $2.39 $2.39 $2.39 $2.39 $2.39 $2.39 $2.39 $2.39 $2.39 $2.39 $2.39 $2.39 $2.39 $2.39 $2.39 $2.39 $2.39 $2.39 $2.39 $2.39 $2.39 $2.39 $2.39 $2.39 $2.39 $2.39 $2.39 $2.39 $2.39 $2.39 $2.39 $2.39 $2.39 $2.39 $2.39 $2.39 $2.39 $2.39 $2.39 $2.39 $2.39 $2.39 $2.39 $2.39 $2.39 $2.39 $2.39 $2.39 $2.39 $2.39 $2.39 $2.39 $2.39 $2.39 $2.39 $2.39 $2.39 $2.39 $2.39 $2.39 $2.39 $2.39 $2.39 $2.39 $2.39 $2.39 $2.39 $2.39 $2.39 $2.39 $2.39 $2.39 $2.39 $2.39 $2.39 $2.39 $2.39 $2.39 $2.39 $2.39 $2.39 $2.39 $2.39 $2.39 $2.39 $2.39 $2.39 $2.39 $2.39 $2.39 $2.39 $2.39 $2.39 $2.39 $2.39 $2.39 $2.39 $2.39 $2.39 $2.39 $2.39 $2.39 $2.39 $2.39 $2.39 $2.39 $2.39 $2.39 $2.39 $2.39 $2.39 $2.39 $2.39 $2.39 $2.39 $2.39 $2.39 $2.39 $2.39 $2.39 $2.39 $2.39 $2.39 $2.39 $2.39 $2.39 $2.39 $2.39 $2.39 $2.39 $2.39 $2.39 $2.39 $2.39 $2.39 $2.39 $2.39 $2.39 $2.39 $2.39 $2.39 $2.39 $2.39 $2.39 $2.39 $2.39 $2.39 $2.39 $2.39 $2.39 $2.39 $2.39 $2.39 $2.39 $2.39 $2.39 $2.39 $2.39 $2.39 $2.39 $2.39 $2.39 $2.39 $2.39 $2.39 $2.39 $2.39 $2.39 $2.39 $2.39 $2.39 $2.39 $2.39 $2.39 $2.39 $2.39 $2.39 $2.39 $2.39 $2.39 $2.39 $2.39 $2.39 $2.39 $2.39 $2.39 $2.39 $2.39 $2.39 $2.39 $2.39 $2.39 $2.39 $2.39 $2.39 $2.39 $2.39 $2.39 $2.39 $2.39 $2.39 $2.39 $2.39 $2.39 $2.39 $2.39 $2.39 $2.39 $2.39 $2.39 $2.39 $2.39 $2.39 $2.39 $2.39 $2.39 $2.39 $2.39 $2.39 $2.39 $2.39 $2.39 $2.39 $2.39 $2.39 $2.39 $2.39 $2.39 $2.39 $2.39 $2.39 $2.39 $2.39 $2.39 $2.39 $2.39 $2.39 $2.39 $2.39 $2.39 $2.39 $2.39 $2.39 $2.39 $2.39 $2.39 $2.39 $2.39 $2.39 $2.39 $2.39 $2.39 $2.39 $2.39 $2.39 $2.39 $2.39 $2.39 $2.39 $2.39 $2.39 $2.39 $2.39 $2.39 $2.39 $2.39 $2.39 $2.39 $2.39 $2.39 $2.39 $2.39 $2.39 $2.39 $2.39 $2.39 $2.39 $2.39 $2.39 $2.39 $2.39 $2.39 $2.39 $2.39 $2.39 $2.39 $2.39 $2.39 $2.39 $2.39 $2.39 $2.39 $2.39 $2.39 $2.39 $2.39 $2.39 $2.39 $2.39 $2.39 $2.39 $2.39 $2.39 $2.39 $2.39 $2.39 $2.39 $2.39 $2.39 $2.39 $2.39 $2.39 $2.39 $2.39 $2.39 $2.39 $2.39 $2.39 $2.39 $2.39 $2.39 $2.39 $2.39 $2.39 $2.39 $2.39 $2.39 $2.39 $2.39 $2.39 $2.39 $2.39 $2.39 $2.39 $2.39 $2.39 $2.39 $2.39 $2.39 $2.39 $2.39 $2.39 $2.39 $2.39 $2.39 $2.39 $2.39 $2.39 $2.39 $2.39 $2.39 $2.39 $2.39 $2.39 $2.39 $2.39 $2.39 $2.39 $2.39 $2.39 $2.39 $2.39 $2.39 $2.39 $2.39 $2.39 $2.39 $2.39 $2.39 $2.39 $2.39 $2.39 $2.39 $2.39 $2.39 $2.39 $2.39 $2.39 $2.39 $2.39 $2.39 $2.39 $2.39 $2.39 $2.39 $2.39 $2.39 $2.39 $2.39 $2.39 $2.39 $2.39 $2.39 $2.39 $2.39 $2.39 $2.39 $2.39 $2.39 $2.39 $2.39 $2.39 $2.39 $2.39 $2.39 $2.39 $2.39 $2.39 $2.39 $2.39 $2.39 $2.39 $2.39 $2.39 $2.39 $2.39 $2.39 $2.39 $2.39 $2.39 $2.39 $2.39 $2.39 $2.39 $2.39 $2.39 $2.39 $2.39 $2.39 $2.39 $2.39 $2.39 $2.39 $2.39 $2.39 $2.39 $2.39 $2.39 $2.39 $2.39 $2.39 $2.39 $2.39 $2.39 $2.39 $2.39 $2.39 $2.39 $2.39 $2.39 $2.39 $2.39 $2.39 $2.39 $2.39 $2.39 $2.39 $2.39 $2.39 $2.39 $2.39 $2.39 $2.39 $2.39 $2.39 $2.39 $2.39 $2.39 $2.39 $2.39 $2.39 $2.39 $2.39 $2.39 $2.39 $2.39 $2.39 $2.39 $2.39 $2.39 $2.39 $2.39 $2.39 $2.39 $2.39 $2.39 $2.39 $2.39 $2.39 $2.39 $2.39 $2.39 $2.39 $2.39 $2.39 $2.39 $2.39 $2.39 $2.39 $2.39 $2.39 $2.39 $2.39 $2.39 $2.39 $2.39 $2.39 $2.39 $2.39 $2.39 $2.39 $2.39 $2.39 $2.39 $2.39 $2.39 $2.39 $2.39 $2.39 $2.39 $2.39 $2.39 $2.39 $2.39 $2.39 $2.39 $2.39 $2.39 $2.39 $2.39 $2.39 $2.39 $2.39 $2.39 $2.39 $2.39 $2.39 $2.39 $2.39 $2.39 $2.39 $2.39 $2.39 $2.39 $2.39 $2.39 $2.39 $2.39 $2.39 $2.39 $2.39 $2.39 $2.39 $2.39 $2.39 $2.39 $2.39 $2.39 $2.39 $2.39 $2.39 $2.39 $2.39 $2.39 $2.39 $2.39 $2.39 $2.39 $2.39 $2.39 $2.39 $2.39 $2.39 $2.39 $2.39 $2.39 $2.39 $2.39 $2.39 $2.39 $2.39 $2.39 $2.39 $2.39 $2.39 $2.39 $2.39 $2.39 $2.39 $2.39 $2.39 $2.39 $2.39 $2.39 $2.39 $2.39 $2.39 $2.39 $2.39 $2.39 $2.39 $2.39 $2.39 $2.39 $2.39 $2.39 $2.39 $2.39 $2.39 $2.39 $2.39 $2.39 $2.39 $2.39 $2.39 $2.39 $2.39 $2.39 $2.39 $2.39 $2.39 $2.39 $2.39 $2.39 $2.39 $2.39 $2.39 $2.39 $2.39 $2.39 $2.39 $2.39 $2.39 $2.39 $2.39 $2.39 $2.39 $2.39 $2.39 $2.39 $2.39 $2.39 $2.39 $2.39 $2.39 $2.39 $2.39 $2.39 $2.39 $2.39 $2.39 $2.39 $2.39 $2.39 $2.39 $2.39 $2.39 $2.39 $2.39 $2.39 $2.39 $2.39 $2.39 $2.39 $2.39 $2.39 $2.39 $2.39 $2.39 $2.39 $2.39 $2.39 $2.39 $2.39 $2.39 $2.39 $2.39 $2.39 $2.39 $2.39 $2.39 $2.39 $2.39 $2.39 $2.39 $2.39 $2.39 $2.39 $2.39 $2.39 $2.39 $2.39 $2.39 $2.39 $2.39 $2.39 $2.39 $2.39 $2.39 $2.39 $2.39 $2.39 $2.39 $2.39 $2.39 $2.39 $2.39 $2.39 $2.39 $2.39 $2.39 $2.39 $2.39 $2.39 $2.39 $2.39 $2.39 $2.39 $2.39 $2.39 $2.39 $2.39 $2.39 $2.39 $2.39 $2.39 $2.39 $2.39 $2.39 $2.39 $2.39 $2.39 $2.39 $2.39 $2.39 $2.39 $2.39 $2.39 $2.39 $2.39 $2.39 $2.39 $2.39 $2.39 $2.39 $2.39 $2.39 $2.39 $2.39 $2.39 $2.39 $2.39 $2.39 $2.39 $2.39 $2.39 $2.39 $2.39 $2.39 $2.39 $2.39 $2.39 $2.39 $2.39 $2.39 $2.39 $2.39 $2.39 $2.39 $2.39 $2.39 $2.39 $2.39 $2.39 $2.39 $2.39 $2.39 $2.39 $2.39 $2.39 $2.39 $2.39 $2.39 $2.39 $2.39 $2.39 $2.39 $2.39 $2.39 $2.39 $2.39 $2.39 $2.39 $2.39 $2.39 $2.39 $2.39 $2.39 $2.39 $2.39 $2.39 $2.39 $2.39 $2.39 $2.39 $2.39 $2.39 $2.39 $2.39 $2.39 $2.39 $2.39 $2.39 $2.39 $2.39 $2.39 $2.39 $2.39 $2.39 $2.39 $2.39 $2.39 $2.39 $2.39 $2.39 $2.39 $2.39 $2.39 $2.39 $2.39 $2.39 $2.39 $2.39 $2.39 $2.39 $2.39 $2.39 $2.39 $2.39 $2.39 $2.39 $2.39 $2.39 $2.39 $2.39 $2.39 $2.39 $2.39 $2.39 $2.39 $2.39 $2.39 $2.39 $2.39 $2.39 $2.39 $2.39 $2.39 $2.39 $2.39 $2.39 $2.39 $2.39 $2.39 $2.39 $2.39 $2.39 $2.39 $2.39 $2.39 $2.39 $2.39 $2.39 $2.39 $2.39 $2.39 $2.39 $2.39 $2.39 $2.39 $2.39 $2.39 $2.39 $2.39 $2.39 $2.39 $2.39 $2.39 $2.39 $2.39 $2.39 $2.39 $2.39 $2.39 $2.39 $2.39 $2.39 $2.39 $2.39 $2.39 $2.39 $2.39 $2.39 $2.39 $2.39 $2.39 $2.39 $2.39 $2.39 $2.39 $2.39 $2.39 $2.39 $2.39 $2.39 $2.39 $2.39 $2.39 $2.39 $2.39 $2.39 $2.39 $2.39 $2.39 $2.39 $2.39 $2.39 $2.39 $2.39 $2.39 $2.39 $2.39 $2.39 $2.39 $2.39 $2.39 $2.39 $2.39 $2.39 $2.39 $2.39 $2.39 $2.39 $2.39 $2.39 $2.39 $2.39 $2.39 $2.39 $2.39 $2.39 $2.39 $2.39 $2.39 $2.39 $2.39 $2.39 $2.39 $2.39 $2.39 $2.39 $2.39 $2.39 $2.39 $2.39 $2.39 $2.39 $2.39 $2.39 $2.39 $2.39 $2.39 $2.39 $2.39 $2.39 $2.39 $2.39 $2.39 $2.39 $2.39 $2.39 $2.39 $2.39 $2.39 $2.39 $2.39 $2.39 $2.39 $2.39 $2.39 $2.39 $2.39 $2.39 $2.39 $2.39 $2.39 $2.39 $2.39 $2.39 $2.39 $2.39 $2.39 $2.39 $2.39 $2.39 $2.39 $2.39 $2.39 $2.39 $2.39 $2.39 $2.39 $2.39 $2.39 $2.39 $2.39 $2.39 $2.39 $2.39 $2.39 $2.39 $2.39 $2.39 $2.39 $2.39 $2.39 $2.39 $2.39 $2.39 $2.39 $2.39 $2.39 $2.39 $2.39 $2.39 $2.39 $2.39 $2.39 $2.39 $2.39 $2.39 $2.39 $2.39 $2.39 $2.39 $2.39 $2.39 $2.39 $2.39 $2.39 $2.39 $2.39 $2.39 $2.39 $2.39 $2.39 $2.39 $2.39 $2.39 $2.39 $2.39 $2.39 $2.39 $2.39 $2.39 $2.39 $2.39 $2.39 $2.39 $2.39 $2.39 $2.39 $2.39 $2.39 $2.39 $2.39 $2.39 $2.39 $2.39 $2.39 $2.39 $2.39 $2.39 $2.39 $2.39 $2.39 $2.39 $2.39 $2.39 $2.39 $2.39 $2.39 $2.39 $2.39 $2.39 $2.39 $2.39 $2.39 $2.39 $2.39 $2.39 $2.39 $2.39 $2.39 $2.39 $2.39 $2.39 $2.39 $2.39 $2.39 $2.39 $2.39 $2.39 $2.39 $2.39 $2.39 $2.39 $2.39 $2.39 $2.39 $2.39 $2.39 $2.39 $2.39 $2.39 $2.39 $2.39 $2.39 $2.39 $2.39 $2.39 $2.39 $2.39 $2.39 $2.39 $2.39 $2.39 $2.39 $2.39 $2.39 $2.39 $2.39 $2.39 $2.39 $2.39 $2.39 $2.39 $2.39 $2.39 $2.39 $2.39 $2.39 $2.39 $2.39 $2.39 $2.39 $2.39 $2.39 $2.39 $2.39 $2.39 $2.39 $2.39 $2.39 $2.39 $2.39 $2.39 $2.39 $2.39 $2.39 $2.39 $2.39 $2.39 $2.39 $2.39 $2.39 $2.39 $2.39 $2.39 $2.39 $2.39 $2.39 $2.39 $2.39 $2.39 $2.39 $2.39 $2.39 $2.39 $2.39 $2.39 $2.39 $2.39 $2.39 $2.39 $2.39 $2.39 $2.39 $2.39 $2.39 $2.39 $2.39 $2.39 $2.39 $2.39 $2.39 $2.39 $2.39 $2.39 $2.39 $2.39 $2.39 $2.39 $2.39 $2.39 $2.39 $2.39 $2.39 $2.39 $2.39 $2.39 $2.39 $2.39 $2.39 $2.39 $2.39 $2.39 $2.39 $2.39 $2.39 $2.39 $2.39 $2.39 $2.39 $2.39 $2.39 $2.39 $2.39 $2.39 $2.39 $2.39 $2.39 $2.39 $2.39 $2.39 $2.39 $2.39 $2.39 $2.39 $2.39 $2.39 $2.39 $2.39 $2.39 $2.39 $2.39 $2.39 $2.39 $2.39 $2.39 $2.39 $2.39 $2.39 $2.39 $2.39 $2.39 $2.39 $2.39 $2.39 $2.39 $2.39 $2.39 $2.39 $2.39 $2.39 $2.39 $2.39 $2.39 $2.39 $2.39 $2.39 $2.39 $2.39 $2.39 $2.39 $2.39 $2.39 $2.39 $2.39 $2.39 $2.39 $2.39 $2.39 $2.39 $2.39 $2.39 $2.39 $2.39 $2.39 $2.39 $2.39 $2.39 $2.39 $2.39 $2.39 $2.39 $2.39 $2.39 $2.39 $2.39 $2.39 $2.39 $2.39 $2.39 $2.39 $2.39 $2.39 $2.39 $2.39 $2.39 $2.39 $2.39 $2.39 $2.39 $2.39 $2.39 $2.39 $2.39 $2.39 $2.39 $2.39 $2.39 $2.39 $2.39 $2.39 $2.39 $2.39 $2.39 $2.39 $2.39 $2.39 $2.39 $2.39 $2.39 $2.39 $2.39 $2.39 $2.39 $2.39 $2.39 $2.39 $2.39 $2.39 $2.39 $2.39 $2.39 $2.39 $2.39 $2.39 $2.39 $2.39 $2.39 $2.39 $2.39 $2.39 $2.39 $2.39 $2.39 $2.39 $2.39 $2.39 $2.39 $2.39 $2.39 $2.39 $2.39 $2.39 $2.39 $2.39 $2.39 $2.39 $2.39 $2.39 $2.39 $2.39 $2.39 $2.39 $2.39 $2.39 $2.39 $2.39 $2.39 $2.39 $2.39 $2.39 $2.39 $2.39 $2.39 $2.39 $2.39 $2.39 $2.39 $2.39 $2.39 $2.39 $2.39 $2.39 $2.39 $2.39 $2.39 $2.39 $2.39 $2.39 $2.39 $2.39 $2.39 $2.39 $2.39 $2.39 $2.39 $2.39 $2.39 $2.39 $2.39 $2.39 $2.39 $2.39 $2.39 $2.39 $2.39 $2.39 $2.39 $2.39 $2.39 $2.39 $2.39 $2.39 $2.39 $2.39 $2.39 $2.39 $2.39 $2.39 $2.39 $2.39 $2.39 $2.39 $2.39 $2.39 $2.39 $2.39 $2.39 $2.39 $2.39 $2.39 $2.39 $2.39 $2.39 $2.39 $2.39 $2.39 $2.39 $2.39 $2.39 $2.39 $2.39 $2.39 $2.39 $2.39 $2.39 $2.39 $2.39 $2.39 $2.39 $2.39 $2.39 $2.39 $2.39 $2.39 $2.39 $2.39 $2.39 $2.39 $2.39 $2.39 $2.39 $2.39 $2.39 $2.39 $2.39 $2.39 $2.39 $2.39 $2.39 $2.39 $2.39 $2.39 $2.39 $2.39 $2.39 $2.39 $2.39 $2.39 $2.39 $2.39 $2.39 $2.39 $2.39 $2.39 $2.39 $2.39 $2.39 $2.39 $2.39 $2.39 $2.39 $2.39 $2.39 $2.39 $2.39 $2.39 $2.39 $2.39 $2.39 $2.39 $2.39 $2.39 $2.39 $2.39 $2.39 $2.39 $2.39 $2.39 $2.39 $2.39 $2.39 $2.39 $2.39 $2.39 $2.39 $2.39 $2.39 $2.39 $2.39 $2.39 $2.39 $2.39 $2.39 $2.39 $2.39 $2.39 $2.39 $2.39 $2.39 $2.39 $2.39 $2.39 $2.39 $2.39 $2.39 $2.39 $2.39 $2.39 $2.39 $2.39 $2.39 $2.39 $2.39 $2.39 $2.39 $2.39 $2.39 $2.39 $2.39 $2.39 $2.39 $2.39 $2.39 $2.39 $2.39 $2.39 $2.39 $2.39 $2.39 $2.39 $2.39 $2.39 $2.39 $2.39 $2.39 $2.39 $2.39 $2.39 $2.39 $2.39 $2.39 $2.39 $2.39 $2.39 $2.39 $2.39 $2.39 $2.39 $2.39 $2.39 $2.39 $2.39 $2.39 $2.39 $2.39 $2.39 $2.39 $2.39 $2.39 $2.39 $2.39 $2.39 $2.39 $2.39 $2.39 $2.39 $2.39 $2.39 $2.39 $2.39 $2.39 $2.39 $2.39 $2.39 $2.39 $2.39 $2.39 $2.39 $2.39 $2.39 $2.39 $2.39 $2.39 $2.39 $2.39 $2.39 $2.39 $2.39 $2.39 $2.39 $2.39 $2.39 $2.39 $2.39 $2.39 $2.39 $2.39 $2.39 $2.39 $2.39 $2.39 $2.39 $2.39 $2.39 $2.39 $2.39 $2.39 $2.39 $2.39 $2.39 $2.39 $2.39 $2.39 $2.39 $2.39 $2.39 $2.39 $2.39 $2.39 $2.39 $2.39 $2.39 $2.39 $2.39 $2.39 $2.39 $2.39 $2.39 $2.39 $2.39 $2.39 $2.39 $2.39 $2.39 $2.39 $2.39 $2.39 $2.39 $2.39 $2.39 $2.39 $2.39 $2.39 $2.39 $2.39 $2.39 $2.39 $2.39 $2.39 $2.39 $2.39 $2.39 $2.39 $2.39 $2.39 $2.39 $2.39 $2.39 $2.39 $2.39 $2.39 $2.39 $2.39 $2.39 $2.39 $2.39 $2.39 $2.39 $2.39 $2.39 $2.39 $2.39 $2.39 $2.39 $2.39 $2.39 $2.39 $2.39 $2.39 $2.39 $2.39 $2.39 $2.39 $2.39 $2.39 $2.39 $2.39 $2.39 $2.39 $2.39 $2.39 $2.39 $2.39 $2.39 $2.39 $2.39 $2.39 $2.39 $2.39 $2.39 $2.39 $2.39 $2.39 $2.39 $2.39 $2.39 $2.39 $2.39 $2.39 $2.39 $2.39 $2.39 $2.39 $2.39 $2.39 $2.39 $2.39 $2.39 $2.39 $2.39 $2.39 $2.39 $2.39 $2.39 $2.39 $2.39 $2.39 $2.39 $2.39 $2.39 $2.39 $2.39 $2.39 $2.39 $2.39 $2.39 $2.39 $2.39 $2.39 $2.39 $2.39 $2.39 $2.39 $2.39 $2.39 $2.39 $2.39 $2.39 $2.39 $2.39 $2.39 $2.39 $2.39 $2.39 $2.39 $2.39 $2.39 $2.39 $2.39 $2.39 $2.39 $2.39 $2.39 $2.39 $2.39 $2.39 $2.39 $2.39 $2.39 $2.39 $2.39 $2.39 $2.39 $2.39 $2.39 $2.39 $2.39 $2.39 $2.39 $2.39 $2.39 $2.39 $2.39 $2.39 $2.39 $2.39 $2.39 $2.39 $2.39 $2.39 $2.39 $2.39 $2.39 $2.39 $2.39 $2.39 $2.39 $2.39 $2.39 $2.39 $2.39 $2.39 $2.39 $2.39 $2.39 $2.39 $2.39 $2.39 $2.39 $2.39 $2.39 $2.39 $2.39 $2.39 $2.39 $2.39 $2.39 $2.39 $2.39 $2.39 $2.39 $2.39 $2.39 $2.39 $2.39 $2.39 $2.39 $2.39 $2.39 $2.39 $2.39 $2.39 $2.39 $2.39 $2.39 $2.39 $2.39 $2.39 $2.39 $2.39 $2.39 $2.39 $2.39 $2.39 $2.39 $2.39 $2.39 $2.39 $2.39 $2.39 $2.39 $2.39 $2.39 $2.39 $2.39 $2.39 $2.39 $2.39 $2.39 $2.39 $2.39 $2.39 $2.39 $2.39 $2.39 $2.39 $2.39 $2.39 $2.39 $2.39 $2.39 $2.39 $2.39 $2.39 $2.39 $2.39 $2.39 $2.39 $2.39 $2.39 $2.39 $2.39 $2.39 $2.39 $2.39 $2.39 $2.39 $2.39 $2.39 $2.39 $2.39 $2.39 $2.39 $2.39 $2.39 $2.39 $2.39 $2.39 $2.39 $2.39 $2.39 $2.39 $2.39 $2.39 $2.39 $2.39 $2.39 $2.39 $2.39 $2.39 $2.39 $2.39 $2.39 $2.39 $2.39 $2.39 $2.39 $2.39 $2.39 $2.39 $2.39 $2.39 $2.39 $2.39 $2.39 $2.39 $2.39 $2.39 $2.39 $2.39 $2.39 $2.39 $2.39 $2.39 $2.39 $2.39 $2.39 $2.39 $2.39 $2.39 $2.39 $2.39 $2.39 $2.39 $2.39 $2.39 $2.39 $2.39 $2.39 $2.39 $2.39 $2.39 $2.39 $2.39 $2.39 $2.39 $2.39 $2.39 $2.39 $2.39 $2.39 $2.39 $2.39 $2.39 $2.39 $2.39 $2.39 $2.39 $2.39 $2.39 $2.39 $2.39 $2.39 $2.39 $2.39 $2.39 $2.39 $2.39 $2.39 $2.39 $2.39 $2.39 $2.39 $2.39 $2.39 $2.39 $2.39 $2.39 $2.39 $2.39 $2.39 $2.39 $2.39 $2.39 $2.39 $2.39 $2.39 $2.39 $2.39 $2.39 $2.39 $2.39 $2.39 $2.39 $2.39 $2.39 $2.39 $2.39 $2.39 $2.39 $2.39 $2.39 $2.39 $2.39 $2.39 $2.39 $2.39 $2.39 $2.39 $2.39 $2.39 $2.39 $2.39 $2.39 $2.39 $2.39 $2.39 $2.39 $2.39 $2.39 $2.39 $2.39 $2.39 $2.39 $2.39 $2.39 $2.39 $2.39 $2.39 $2.39 $2.39 $2.39 $2.39 $2.39 $2.39 $2.39 $2.39 $2.39 $2.39 $2.39 $2.39 $2.39 $2.39 $2.39 $2.39 $2.39 $2.39 $2.39 $2.39 $2.39 $2.39 $2.39 $2.39 $2.39 $2.39 $2.39 $2.39 $2.39 $2.39 $2.39 $2.39 $2.39 $2.39 $2.39 $2.39 $2.39 $2.39 $2.39 $2.39 $2.39 $2.39 $2.39 $2.39 $2.39 $2.39 $2.39 $2.39 $2.39 $2.39 $2.39 $2.39 $2.39 $2.39 $2.39 $2.39 $2.39 $2.39 $2.39 $2.39 $2.39 $2.39 $2.39 $2.39 $2.39 $2.39 $2.39 $2.39 $2.39 $2.39 $2.39 $2.39 $2.39 $2.39 $2.39 $2.39 $2.39 $2.39 $2.39 $2.39 $2.39 $2.39 $2.39 $2.39 $2.39 $2.39 $2.39 $2.39 $2.39 $2.39 $2.39 $2.39 $2.39 $2.39 $2.39 $2.39 $2.39 $2.39 $2.39 $2.39 $2.39 $2.39 $2.39 $2.39 $2.39 $2.39 $2.39 $2.39 $2.39 $2.39 $2.39 $2.39 $2.39 $2.39 $2.39 $2.39 $2.39 $2.39 $2.39 $2.39 $2.39 $2.39 $2.39 $2.39 $2.39 $2.39 $2.39 $2.39 $2.39 $2.39 $2.39 $2.39 $2.39 $2.39 $2.39 $2.39 $2.39 $2.39 $2.39 $2.39 $2.39 $2.39 $2.39 $2.39 '",
      "\nDuring handling of the above exception, another exception occurred:\n",
      "\u001b[1;31mValueError\u001b[0m                                Traceback (most recent call last)",
      "\u001b[1;32m~\\anaconda3\\lib\\site-packages\\pandas\\core\\nanops.py\u001b[0m in \u001b[0;36m_ensure_numeric\u001b[1;34m(x)\u001b[0m\n\u001b[0;32m   1306\u001b[0m             \u001b[1;32mtry\u001b[0m\u001b[1;33m:\u001b[0m\u001b[1;33m\u001b[0m\u001b[1;33m\u001b[0m\u001b[0m\n\u001b[1;32m-> 1307\u001b[1;33m                 \u001b[0mx\u001b[0m \u001b[1;33m=\u001b[0m \u001b[0mcomplex\u001b[0m\u001b[1;33m(\u001b[0m\u001b[0mx\u001b[0m\u001b[1;33m)\u001b[0m\u001b[1;33m\u001b[0m\u001b[1;33m\u001b[0m\u001b[0m\n\u001b[0m\u001b[0;32m   1308\u001b[0m             \u001b[1;32mexcept\u001b[0m \u001b[0mValueError\u001b[0m\u001b[1;33m:\u001b[0m\u001b[1;33m\u001b[0m\u001b[1;33m\u001b[0m\u001b[0m\n",
      "\u001b[1;31mValueError\u001b[0m: complex() arg is a malformed string",
      "\nDuring handling of the above exception, another exception occurred:\n",
      "\u001b[1;31mTypeError\u001b[0m                                 Traceback (most recent call last)",
      "\u001b[1;32m<ipython-input-77-fde455e9b08d>\u001b[0m in \u001b[0;36m<module>\u001b[1;34m\u001b[0m\n\u001b[1;32m----> 1\u001b[1;33m \u001b[0mchipo\u001b[0m\u001b[1;33m[\u001b[0m\u001b[1;34m'revenue'\u001b[0m\u001b[1;33m]\u001b[0m\u001b[1;33m.\u001b[0m\u001b[0mmean\u001b[0m\u001b[1;33m(\u001b[0m\u001b[1;33m)\u001b[0m\u001b[1;33m\u001b[0m\u001b[1;33m\u001b[0m\u001b[0m\n\u001b[0m",
      "\u001b[1;32m~\\anaconda3\\lib\\site-packages\\pandas\\core\\generic.py\u001b[0m in \u001b[0;36mstat_func\u001b[1;34m(self, axis, skipna, level, numeric_only, **kwargs)\u001b[0m\n\u001b[0;32m  11212\u001b[0m         \u001b[1;32mif\u001b[0m \u001b[0mlevel\u001b[0m \u001b[1;32mis\u001b[0m \u001b[1;32mnot\u001b[0m \u001b[1;32mNone\u001b[0m\u001b[1;33m:\u001b[0m\u001b[1;33m\u001b[0m\u001b[1;33m\u001b[0m\u001b[0m\n\u001b[0;32m  11213\u001b[0m             \u001b[1;32mreturn\u001b[0m \u001b[0mself\u001b[0m\u001b[1;33m.\u001b[0m\u001b[0m_agg_by_level\u001b[0m\u001b[1;33m(\u001b[0m\u001b[0mname\u001b[0m\u001b[1;33m,\u001b[0m \u001b[0maxis\u001b[0m\u001b[1;33m=\u001b[0m\u001b[0maxis\u001b[0m\u001b[1;33m,\u001b[0m \u001b[0mlevel\u001b[0m\u001b[1;33m=\u001b[0m\u001b[0mlevel\u001b[0m\u001b[1;33m,\u001b[0m \u001b[0mskipna\u001b[0m\u001b[1;33m=\u001b[0m\u001b[0mskipna\u001b[0m\u001b[1;33m)\u001b[0m\u001b[1;33m\u001b[0m\u001b[1;33m\u001b[0m\u001b[0m\n\u001b[1;32m> 11214\u001b[1;33m         return self._reduce(\n\u001b[0m\u001b[0;32m  11215\u001b[0m             \u001b[0mf\u001b[0m\u001b[1;33m,\u001b[0m \u001b[0mname\u001b[0m\u001b[1;33m,\u001b[0m \u001b[0maxis\u001b[0m\u001b[1;33m=\u001b[0m\u001b[0maxis\u001b[0m\u001b[1;33m,\u001b[0m \u001b[0mskipna\u001b[0m\u001b[1;33m=\u001b[0m\u001b[0mskipna\u001b[0m\u001b[1;33m,\u001b[0m \u001b[0mnumeric_only\u001b[0m\u001b[1;33m=\u001b[0m\u001b[0mnumeric_only\u001b[0m\u001b[1;33m\u001b[0m\u001b[1;33m\u001b[0m\u001b[0m\n\u001b[0;32m  11216\u001b[0m         )\n",
      "\u001b[1;32m~\\anaconda3\\lib\\site-packages\\pandas\\core\\series.py\u001b[0m in \u001b[0;36m_reduce\u001b[1;34m(self, op, name, axis, skipna, numeric_only, filter_type, **kwds)\u001b[0m\n\u001b[0;32m   3889\u001b[0m                 )\n\u001b[0;32m   3890\u001b[0m             \u001b[1;32mwith\u001b[0m \u001b[0mnp\u001b[0m\u001b[1;33m.\u001b[0m\u001b[0merrstate\u001b[0m\u001b[1;33m(\u001b[0m\u001b[0mall\u001b[0m\u001b[1;33m=\u001b[0m\u001b[1;34m\"ignore\"\u001b[0m\u001b[1;33m)\u001b[0m\u001b[1;33m:\u001b[0m\u001b[1;33m\u001b[0m\u001b[1;33m\u001b[0m\u001b[0m\n\u001b[1;32m-> 3891\u001b[1;33m                 \u001b[1;32mreturn\u001b[0m \u001b[0mop\u001b[0m\u001b[1;33m(\u001b[0m\u001b[0mdelegate\u001b[0m\u001b[1;33m,\u001b[0m \u001b[0mskipna\u001b[0m\u001b[1;33m=\u001b[0m\u001b[0mskipna\u001b[0m\u001b[1;33m,\u001b[0m \u001b[1;33m**\u001b[0m\u001b[0mkwds\u001b[0m\u001b[1;33m)\u001b[0m\u001b[1;33m\u001b[0m\u001b[1;33m\u001b[0m\u001b[0m\n\u001b[0m\u001b[0;32m   3892\u001b[0m \u001b[1;33m\u001b[0m\u001b[0m\n\u001b[0;32m   3893\u001b[0m         \u001b[1;31m# TODO(EA) dispatch to Index\u001b[0m\u001b[1;33m\u001b[0m\u001b[1;33m\u001b[0m\u001b[1;33m\u001b[0m\u001b[0m\n",
      "\u001b[1;32m~\\anaconda3\\lib\\site-packages\\pandas\\core\\nanops.py\u001b[0m in \u001b[0;36m_f\u001b[1;34m(*args, **kwargs)\u001b[0m\n\u001b[0;32m     67\u001b[0m             \u001b[1;32mtry\u001b[0m\u001b[1;33m:\u001b[0m\u001b[1;33m\u001b[0m\u001b[1;33m\u001b[0m\u001b[0m\n\u001b[0;32m     68\u001b[0m                 \u001b[1;32mwith\u001b[0m \u001b[0mnp\u001b[0m\u001b[1;33m.\u001b[0m\u001b[0merrstate\u001b[0m\u001b[1;33m(\u001b[0m\u001b[0minvalid\u001b[0m\u001b[1;33m=\u001b[0m\u001b[1;34m\"ignore\"\u001b[0m\u001b[1;33m)\u001b[0m\u001b[1;33m:\u001b[0m\u001b[1;33m\u001b[0m\u001b[1;33m\u001b[0m\u001b[0m\n\u001b[1;32m---> 69\u001b[1;33m                     \u001b[1;32mreturn\u001b[0m \u001b[0mf\u001b[0m\u001b[1;33m(\u001b[0m\u001b[1;33m*\u001b[0m\u001b[0margs\u001b[0m\u001b[1;33m,\u001b[0m \u001b[1;33m**\u001b[0m\u001b[0mkwargs\u001b[0m\u001b[1;33m)\u001b[0m\u001b[1;33m\u001b[0m\u001b[1;33m\u001b[0m\u001b[0m\n\u001b[0m\u001b[0;32m     70\u001b[0m             \u001b[1;32mexcept\u001b[0m \u001b[0mValueError\u001b[0m \u001b[1;32mas\u001b[0m \u001b[0me\u001b[0m\u001b[1;33m:\u001b[0m\u001b[1;33m\u001b[0m\u001b[1;33m\u001b[0m\u001b[0m\n\u001b[0;32m     71\u001b[0m                 \u001b[1;31m# we want to transform an object array\u001b[0m\u001b[1;33m\u001b[0m\u001b[1;33m\u001b[0m\u001b[1;33m\u001b[0m\u001b[0m\n",
      "\u001b[1;32m~\\anaconda3\\lib\\site-packages\\pandas\\core\\nanops.py\u001b[0m in \u001b[0;36mf\u001b[1;34m(values, axis, skipna, **kwds)\u001b[0m\n\u001b[0;32m    123\u001b[0m                     \u001b[0mresult\u001b[0m \u001b[1;33m=\u001b[0m \u001b[0malt\u001b[0m\u001b[1;33m(\u001b[0m\u001b[0mvalues\u001b[0m\u001b[1;33m,\u001b[0m \u001b[0maxis\u001b[0m\u001b[1;33m=\u001b[0m\u001b[0maxis\u001b[0m\u001b[1;33m,\u001b[0m \u001b[0mskipna\u001b[0m\u001b[1;33m=\u001b[0m\u001b[0mskipna\u001b[0m\u001b[1;33m,\u001b[0m \u001b[1;33m**\u001b[0m\u001b[0mkwds\u001b[0m\u001b[1;33m)\u001b[0m\u001b[1;33m\u001b[0m\u001b[1;33m\u001b[0m\u001b[0m\n\u001b[0;32m    124\u001b[0m             \u001b[1;32melse\u001b[0m\u001b[1;33m:\u001b[0m\u001b[1;33m\u001b[0m\u001b[1;33m\u001b[0m\u001b[0m\n\u001b[1;32m--> 125\u001b[1;33m                 \u001b[0mresult\u001b[0m \u001b[1;33m=\u001b[0m \u001b[0malt\u001b[0m\u001b[1;33m(\u001b[0m\u001b[0mvalues\u001b[0m\u001b[1;33m,\u001b[0m \u001b[0maxis\u001b[0m\u001b[1;33m=\u001b[0m\u001b[0maxis\u001b[0m\u001b[1;33m,\u001b[0m \u001b[0mskipna\u001b[0m\u001b[1;33m=\u001b[0m\u001b[0mskipna\u001b[0m\u001b[1;33m,\u001b[0m \u001b[1;33m**\u001b[0m\u001b[0mkwds\u001b[0m\u001b[1;33m)\u001b[0m\u001b[1;33m\u001b[0m\u001b[1;33m\u001b[0m\u001b[0m\n\u001b[0m\u001b[0;32m    126\u001b[0m \u001b[1;33m\u001b[0m\u001b[0m\n\u001b[0;32m    127\u001b[0m             \u001b[1;32mreturn\u001b[0m \u001b[0mresult\u001b[0m\u001b[1;33m\u001b[0m\u001b[1;33m\u001b[0m\u001b[0m\n",
      "\u001b[1;32m~\\anaconda3\\lib\\site-packages\\pandas\\core\\nanops.py\u001b[0m in \u001b[0;36mnanmean\u001b[1;34m(values, axis, skipna, mask)\u001b[0m\n\u001b[0;32m    540\u001b[0m         \u001b[0mdtype_count\u001b[0m \u001b[1;33m=\u001b[0m \u001b[0mdtype\u001b[0m\u001b[1;33m\u001b[0m\u001b[1;33m\u001b[0m\u001b[0m\n\u001b[0;32m    541\u001b[0m     \u001b[0mcount\u001b[0m \u001b[1;33m=\u001b[0m \u001b[0m_get_counts\u001b[0m\u001b[1;33m(\u001b[0m\u001b[0mvalues\u001b[0m\u001b[1;33m.\u001b[0m\u001b[0mshape\u001b[0m\u001b[1;33m,\u001b[0m \u001b[0mmask\u001b[0m\u001b[1;33m,\u001b[0m \u001b[0maxis\u001b[0m\u001b[1;33m,\u001b[0m \u001b[0mdtype\u001b[0m\u001b[1;33m=\u001b[0m\u001b[0mdtype_count\u001b[0m\u001b[1;33m)\u001b[0m\u001b[1;33m\u001b[0m\u001b[1;33m\u001b[0m\u001b[0m\n\u001b[1;32m--> 542\u001b[1;33m     \u001b[0mthe_sum\u001b[0m \u001b[1;33m=\u001b[0m \u001b[0m_ensure_numeric\u001b[0m\u001b[1;33m(\u001b[0m\u001b[0mvalues\u001b[0m\u001b[1;33m.\u001b[0m\u001b[0msum\u001b[0m\u001b[1;33m(\u001b[0m\u001b[0maxis\u001b[0m\u001b[1;33m,\u001b[0m \u001b[0mdtype\u001b[0m\u001b[1;33m=\u001b[0m\u001b[0mdtype_sum\u001b[0m\u001b[1;33m)\u001b[0m\u001b[1;33m)\u001b[0m\u001b[1;33m\u001b[0m\u001b[1;33m\u001b[0m\u001b[0m\n\u001b[0m\u001b[0;32m    543\u001b[0m \u001b[1;33m\u001b[0m\u001b[0m\n\u001b[0;32m    544\u001b[0m     \u001b[1;32mif\u001b[0m \u001b[0maxis\u001b[0m \u001b[1;32mis\u001b[0m \u001b[1;32mnot\u001b[0m \u001b[1;32mNone\u001b[0m \u001b[1;32mand\u001b[0m \u001b[0mgetattr\u001b[0m\u001b[1;33m(\u001b[0m\u001b[0mthe_sum\u001b[0m\u001b[1;33m,\u001b[0m \u001b[1;34m\"ndim\"\u001b[0m\u001b[1;33m,\u001b[0m \u001b[1;32mFalse\u001b[0m\u001b[1;33m)\u001b[0m\u001b[1;33m:\u001b[0m\u001b[1;33m\u001b[0m\u001b[1;33m\u001b[0m\u001b[0m\n",
      "\u001b[1;32m~\\anaconda3\\lib\\site-packages\\pandas\\core\\nanops.py\u001b[0m in \u001b[0;36m_ensure_numeric\u001b[1;34m(x)\u001b[0m\n\u001b[0;32m   1308\u001b[0m             \u001b[1;32mexcept\u001b[0m \u001b[0mValueError\u001b[0m\u001b[1;33m:\u001b[0m\u001b[1;33m\u001b[0m\u001b[1;33m\u001b[0m\u001b[0m\n\u001b[0;32m   1309\u001b[0m                 \u001b[1;31m# e.g. \"foo\"\u001b[0m\u001b[1;33m\u001b[0m\u001b[1;33m\u001b[0m\u001b[1;33m\u001b[0m\u001b[0m\n\u001b[1;32m-> 1310\u001b[1;33m                 \u001b[1;32mraise\u001b[0m \u001b[0mTypeError\u001b[0m\u001b[1;33m(\u001b[0m\u001b[1;34mf\"Could not convert {x} to numeric\"\u001b[0m\u001b[1;33m)\u001b[0m\u001b[1;33m\u001b[0m\u001b[1;33m\u001b[0m\u001b[0m\n\u001b[0m\u001b[0;32m   1311\u001b[0m     \u001b[1;32mreturn\u001b[0m \u001b[0mx\u001b[0m\u001b[1;33m\u001b[0m\u001b[1;33m\u001b[0m\u001b[0m\n\u001b[0;32m   1312\u001b[0m \u001b[1;33m\u001b[0m\u001b[0m\n",
      "\u001b[1;31mTypeError\u001b[0m: Could not convert $2.39 $2.39 $2.39 $2.39 $2.39 $2.39 $2.39 $2.39 $2.39 $2.39 $2.39 $2.39 $2.39 $2.39 $2.39 $2.39 $2.39 $2.39 $2.39 $2.39 $2.39 $2.39 $2.39 $2.39 $2.39 $2.39 $2.39 $2.39 $2.39 $2.39 $2.39 $2.39 $2.39 $2.39 $2.39 $2.39 $2.39 $2.39 $2.39 $2.39 $2.39 $2.39 $2.39 $2.39 $2.39 $2.39 $2.39 $2.39 $2.39 $2.39 $2.39 $2.39 $2.39 $2.39 $2.39 $2.39 $2.39 $2.39 $2.39 $2.39 $2.39 $2.39 $2.39 $2.39 $2.39 $2.39 $2.39 $2.39 $2.39 $2.39 $2.39 $2.39 $2.39 $2.39 $2.39 $2.39 $2.39 $2.39 $2.39 $2.39 $2.39 $2.39 $2.39 $2.39 $2.39 $2.39 $2.39 $2.39 $2.39 $2.39 $2.39 $2.39 $2.39 $2.39 $2.39 $2.39 $2.39 $2.39 $2.39 $2.39 $2.39 $2.39 $2.39 $2.39 $2.39 $2.39 $2.39 $2.39 $2.39 $2.39 $2.39 $2.39 $2.39 $2.39 $2.39 $2.39 $2.39 $2.39 $2.39 $2.39 $2.39 $2.39 $2.39 $2.39 $2.39 $2.39 $2.39 $2.39 $2.39 $2.39 $2.39 $2.39 $2.39 $2.39 $2.39 $2.39 $2.39 $2.39 $2.39 $2.39 $2.39 $2.39 $2.39 $2.39 $2.39 $2.39 $2.39 $2.39 $2.39 $2.39 $2.39 $2.39 $2.39 $2.39 $2.39 $2.39 $2.39 $2.39 $2.39 $2.39 $2.39 $2.39 $2.39 $2.39 $2.39 $2.39 $2.39 $2.39 $2.39 $2.39 $2.39 $2.39 $2.39 $2.39 $2.39 $2.39 $2.39 $2.39 $2.39 $2.39 $2.39 $2.39 $2.39 $2.39 $2.39 $2.39 $2.39 $2.39 $2.39 $2.39 $2.39 $2.39 $2.39 $2.39 $2.39 $2.39 $2.39 $2.39 $2.39 $2.39 $2.39 $2.39 $2.39 $2.39 $2.39 $2.39 $2.39 $2.39 $2.39 $2.39 $2.39 $2.39 $2.39 $2.39 $2.39 $2.39 $2.39 $2.39 $2.39 $2.39 $2.39 $2.39 $2.39 $2.39 $2.39 $2.39 $2.39 $2.39 $2.39 $2.39 $2.39 $2.39 $2.39 $2.39 $2.39 $2.39 $2.39 $2.39 $2.39 $2.39 $2.39 $2.39 $2.39 $2.39 $2.39 $2.39 $2.39 $2.39 $2.39 $2.39 $2.39 $2.39 $2.39 $2.39 $2.39 $2.39 $2.39 $2.39 $2.39 $2.39 $2.39 $2.39 $2.39 $2.39 $2.39 $2.39 $2.39 $2.39 $2.39 $2.39 $2.39 $2.39 $2.39 $2.39 $2.39 $2.39 $2.39 $2.39 $2.39 $2.39 $2.39 $2.39 $2.39 $2.39 $2.39 $2.39 $2.39 $2.39 $2.39 $2.39 $2.39 $2.39 $2.39 $2.39 $2.39 $2.39 $2.39 $2.39 $2.39 $2.39 $2.39 $2.39 $2.39 $2.39 $2.39 $2.39 $2.39 $2.39 $2.39 $2.39 $2.39 $2.39 $2.39 $2.39 $2.39 $2.39 $2.39 $2.39 $2.39 $2.39 $2.39 $2.39 $2.39 $2.39 $2.39 $2.39 $2.39 $2.39 $2.39 $2.39 $2.39 $2.39 $2.39 $2.39 $2.39 $2.39 $2.39 $2.39 $2.39 $2.39 $2.39 $2.39 $2.39 $2.39 $2.39 $2.39 $2.39 $2.39 $2.39 $2.39 $2.39 $2.39 $2.39 $2.39 $2.39 $2.39 $2.39 $2.39 $2.39 $2.39 $2.39 $2.39 $2.39 $2.39 $2.39 $2.39 $2.39 $2.39 $2.39 $2.39 $2.39 $2.39 $2.39 $2.39 $2.39 $2.39 $2.39 $2.39 $2.39 $2.39 $2.39 $2.39 $2.39 $2.39 $2.39 $2.39 $2.39 $2.39 $2.39 $2.39 $2.39 $2.39 $2.39 $2.39 $2.39 $2.39 $2.39 $2.39 $2.39 $2.39 $2.39 $2.39 $2.39 $2.39 $2.39 $2.39 $2.39 $2.39 $2.39 $2.39 $2.39 $2.39 $2.39 $2.39 $2.39 $2.39 $2.39 $2.39 $2.39 $2.39 $2.39 $2.39 $2.39 $2.39 $2.39 $2.39 $2.39 $2.39 $2.39 $2.39 $2.39 $2.39 $2.39 $2.39 $2.39 $2.39 $2.39 $2.39 $2.39 $2.39 $2.39 $2.39 $2.39 $2.39 $2.39 $2.39 $2.39 $2.39 $2.39 $2.39 $2.39 $2.39 $2.39 $2.39 $2.39 $2.39 $2.39 $2.39 $2.39 $2.39 $2.39 $2.39 $2.39 $2.39 $2.39 $2.39 $2.39 $2.39 $2.39 $2.39 $2.39 $2.39 $2.39 $2.39 $2.39 $2.39 $2.39 $2.39 $2.39 $2.39 $2.39 $2.39 $2.39 $2.39 $2.39 $2.39 $2.39 $2.39 $2.39 $2.39 $2.39 $2.39 $2.39 $2.39 $2.39 $2.39 $2.39 $2.39 $2.39 $2.39 $2.39 $2.39 $2.39 $2.39 $2.39 $2.39 $2.39 $2.39 $2.39 $2.39 $2.39 $2.39 $2.39 $2.39 $2.39 $2.39 $2.39 $2.39 $2.39 $2.39 $2.39 $2.39 $2.39 $2.39 $2.39 $2.39 $2.39 $2.39 $2.39 $2.39 $2.39 $2.39 $2.39 $2.39 $2.39 $2.39 $2.39 $2.39 $2.39 $2.39 $2.39 $2.39 $2.39 $2.39 $2.39 $2.39 $2.39 $2.39 $2.39 $2.39 $2.39 $2.39 $2.39 $2.39 $2.39 $2.39 $2.39 $2.39 $2.39 $2.39 $2.39 $2.39 $2.39 $2.39 $2.39 $2.39 $2.39 $2.39 $2.39 $2.39 $2.39 $2.39 $2.39 $2.39 $2.39 $2.39 $2.39 $2.39 $2.39 $2.39 $2.39 $2.39 $2.39 $2.39 $2.39 $2.39 $2.39 $2.39 $2.39 $2.39 $2.39 $2.39 $2.39 $2.39 $2.39 $2.39 $2.39 $2.39 $2.39 $2.39 $2.39 $2.39 $2.39 $2.39 $2.39 $2.39 $2.39 $2.39 $2.39 $2.39 $2.39 $2.39 $2.39 $2.39 $2.39 $2.39 $2.39 $2.39 $2.39 $2.39 $2.39 $2.39 $2.39 $2.39 $2.39 $2.39 $2.39 $2.39 $2.39 $2.39 $2.39 $2.39 $2.39 $2.39 $2.39 $2.39 $2.39 $2.39 $2.39 $2.39 $2.39 $2.39 $2.39 $2.39 $2.39 $2.39 $2.39 $2.39 $2.39 $2.39 $2.39 $2.39 $2.39 $2.39 $2.39 $2.39 $2.39 $2.39 $2.39 $2.39 $2.39 $2.39 $2.39 $2.39 $2.39 $2.39 $2.39 $2.39 $2.39 $2.39 $2.39 $2.39 $2.39 $2.39 $2.39 $2.39 $2.39 $2.39 $2.39 $2.39 $2.39 $2.39 $2.39 $2.39 $2.39 $2.39 $2.39 $2.39 $2.39 $2.39 $2.39 $2.39 $2.39 $2.39 $2.39 $2.39 $2.39 $2.39 $2.39 $2.39 $2.39 $2.39 $2.39 $2.39 $2.39 $2.39 $2.39 $2.39 $2.39 $2.39 $2.39 $2.39 $2.39 $2.39 $2.39 $2.39 $2.39 $2.39 $2.39 $2.39 $2.39 $2.39 $2.39 $2.39 $2.39 $2.39 $2.39 $2.39 $2.39 $2.39 $2.39 $2.39 $2.39 $2.39 $2.39 $2.39 $2.39 $2.39 $2.39 $2.39 $2.39 $2.39 $2.39 $2.39 $2.39 $2.39 $2.39 $2.39 $2.39 $2.39 $2.39 $2.39 $2.39 $2.39 $2.39 $2.39 $2.39 $2.39 $2.39 $2.39 $2.39 $2.39 $2.39 $2.39 $2.39 $2.39 $2.39 $2.39 $2.39 $2.39 $2.39 $2.39 $2.39 $2.39 $2.39 $2.39 $2.39 $2.39 $2.39 $2.39 $2.39 $2.39 $2.39 $2.39 $2.39 $2.39 $2.39 $2.39 $2.39 $2.39 $2.39 $2.39 $2.39 $2.39 $2.39 $2.39 $2.39 $2.39 $2.39 $2.39 $2.39 $2.39 $2.39 $2.39 $2.39 $2.39 $2.39 $2.39 $2.39 $2.39 $2.39 $2.39 $2.39 $2.39 $2.39 $2.39 $2.39 $2.39 $2.39 $2.39 $2.39 $2.39 $2.39 $2.39 $2.39 $2.39 $2.39 $2.39 $2.39 $2.39 $2.39 $2.39 $2.39 $2.39 $2.39 $2.39 $2.39 $2.39 $2.39 $2.39 $2.39 $2.39 $2.39 $2.39 $2.39 $2.39 $2.39 $2.39 $2.39 $2.39 $2.39 $2.39 $2.39 $2.39 $2.39 $2.39 $2.39 $2.39 $2.39 $2.39 $2.39 $2.39 $2.39 $2.39 $2.39 $2.39 $2.39 $2.39 $2.39 $2.39 $2.39 $2.39 $2.39 $2.39 $2.39 $2.39 $2.39 $2.39 $2.39 $2.39 $2.39 $2.39 $2.39 $2.39 $2.39 $2.39 $2.39 $2.39 $2.39 $2.39 $2.39 $2.39 $2.39 $2.39 $2.39 $2.39 $2.39 $2.39 $2.39 $2.39 $2.39 $2.39 $2.39 $2.39 $2.39 $2.39 $2.39 $2.39 $2.39 $2.39 $2.39 $2.39 $2.39 $2.39 $2.39 $2.39 $2.39 $2.39 $2.39 $2.39 $2.39 $2.39 $2.39 $2.39 $2.39 $2.39 $2.39 $2.39 $2.39 $2.39 $2.39 $2.39 $2.39 $2.39 $2.39 $2.39 $2.39 $2.39 $2.39 $2.39 $2.39 $2.39 $2.39 $2.39 $2.39 $2.39 $2.39 $2.39 $2.39 $2.39 $2.39 $2.39 $2.39 $2.39 $2.39 $2.39 $2.39 $2.39 $2.39 $2.39 $2.39 $2.39 $2.39 $2.39 $2.39 $2.39 $2.39 $2.39 $2.39 $2.39 $2.39 $2.39 $2.39 $2.39 $2.39 $2.39 $2.39 $2.39 $2.39 $2.39 $2.39 $2.39 $2.39 $2.39 $2.39 $2.39 $2.39 $2.39 $2.39 $2.39 $2.39 $2.39 $2.39 $2.39 $2.39 $2.39 $2.39 $2.39 $2.39 $2.39 $2.39 $2.39 $2.39 $2.39 $2.39 $2.39 $2.39 $2.39 $2.39 $2.39 $2.39 $2.39 $2.39 $2.39 $2.39 $2.39 $2.39 $2.39 $2.39 $2.39 $2.39 $2.39 $2.39 $2.39 $2.39 $2.39 $2.39 $2.39 $2.39 $2.39 $2.39 $2.39 $2.39 $2.39 $2.39 $2.39 $2.39 $2.39 $2.39 $2.39 $2.39 $2.39 $2.39 $2.39 $2.39 $2.39 $2.39 $2.39 $2.39 $2.39 $2.39 $2.39 $2.39 $2.39 $2.39 $2.39 $2.39 $2.39 $2.39 $2.39 $2.39 $2.39 $2.39 $2.39 $2.39 $2.39 $2.39 $2.39 $2.39 $2.39 $2.39 $2.39 $2.39 $2.39 $2.39 $2.39 $2.39 $2.39 $2.39 $2.39 $2.39 $2.39 $2.39 $2.39 $2.39 $2.39 $2.39 $2.39 $2.39 $2.39 $2.39 $2.39 $2.39 $2.39 $2.39 $2.39 $2.39 $2.39 $2.39 $2.39 $2.39 $2.39 $2.39 $2.39 $2.39 $2.39 $2.39 $2.39 $2.39 $2.39 $2.39 $2.39 $2.39 $2.39 $2.39 $2.39 $2.39 $2.39 $2.39 $2.39 $2.39 $2.39 $2.39 $2.39 $2.39 $2.39 $2.39 $2.39 $2.39 $2.39 $2.39 $2.39 $2.39 $2.39 $2.39 $2.39 $2.39 $2.39 $2.39 $2.39 $2.39 $2.39 $2.39 $2.39 $2.39 $2.39 $2.39 $2.39 $2.39 $2.39 $2.39 $2.39 $2.39 $2.39 $2.39 $2.39 $2.39 $2.39 $2.39 $2.39 $2.39 $2.39 $2.39 $2.39 $2.39 $2.39 $2.39 $2.39 $2.39 $2.39 $2.39 $2.39 $2.39 $2.39 $2.39 $2.39 $2.39 $2.39 $2.39 $2.39 $2.39 $2.39 $2.39 $2.39 $2.39 $2.39 $2.39 $2.39 $2.39 $2.39 $2.39 $2.39 $2.39 $2.39 $2.39 $2.39 $2.39 $2.39 $2.39 $2.39 $2.39 $2.39 $2.39 $2.39 $2.39 $2.39 $2.39 $2.39 $2.39 $2.39 $2.39 $2.39 $2.39 $2.39 $2.39 $2.39 $2.39 $2.39 $2.39 $2.39 $2.39 $2.39 $2.39 $2.39 $2.39 $2.39 $2.39 $2.39 $2.39 $2.39 $2.39 $2.39 $2.39 $2.39 $2.39 $2.39 $2.39 $2.39 $2.39 $2.39 $2.39 $2.39 $2.39 $2.39 $2.39 $2.39 $2.39 $2.39 $2.39 $2.39 $2.39 $2.39 $2.39 $2.39 $2.39 $2.39 $2.39 $2.39 $2.39 $2.39 $2.39 $2.39 $2.39 $2.39 $2.39 $2.39 $2.39 $2.39 $2.39 $2.39 $2.39 $2.39 $2.39 $2.39 $2.39 $2.39 $2.39 $2.39 $2.39 $2.39 $2.39 $2.39 $2.39 $2.39 $2.39 $2.39 $2.39 $2.39 $2.39 $2.39 $2.39 $2.39 $2.39 $2.39 $2.39 $2.39 $2.39 $2.39 $2.39 $2.39 $2.39 $2.39 $2.39 $2.39 $2.39 $2.39 $2.39 $2.39 $2.39 $2.39 $2.39 $2.39 $2.39 $2.39 $2.39 $2.39 $2.39 $2.39 $2.39 $2.39 $2.39 $2.39 $2.39 $2.39 $2.39 $2.39 $2.39 $2.39 $2.39 $2.39 $2.39 $2.39 $2.39 $2.39 $2.39 $2.39 $2.39 $2.39 $2.39 $2.39 $2.39 $2.39 $2.39 $2.39 $2.39 $2.39 $2.39 $2.39 $2.39 $2.39 $2.39 $2.39 $2.39 $2.39 $2.39 $2.39 $2.39 $2.39 $2.39 $2.39 $2.39 $2.39 $2.39 $2.39 $2.39 $2.39 $2.39 $2.39 $2.39 $2.39 $2.39 $2.39 $2.39 $2.39 $2.39 $2.39 $2.39 $2.39 $2.39 $2.39 $2.39 $2.39 $2.39 $2.39 $2.39 $2.39 $2.39 $2.39 $2.39 $2.39 $2.39 $2.39 $2.39 $2.39 $2.39 $2.39 $2.39 $2.39 $2.39 $2.39 $2.39 $2.39 $2.39 $2.39 $2.39 $2.39 $2.39 $2.39 $2.39 $2.39 $2.39 $2.39 $2.39 $2.39 $2.39 $2.39 $2.39 $2.39 $2.39 $2.39 $2.39 $2.39 $2.39 $2.39 $2.39 $2.39 $2.39 $2.39 $2.39 $2.39 $2.39 $2.39 $2.39 $2.39 $2.39 $2.39 $2.39 $2.39 $2.39 $2.39 $2.39 $2.39 $2.39 $2.39 $2.39 $2.39 $2.39 $2.39 $2.39 $2.39 $2.39 $2.39 $2.39 $2.39 $2.39 $2.39 $2.39 $2.39 $2.39 $2.39 $2.39 $2.39 $2.39 $2.39 $2.39 $2.39 $2.39 $2.39 $2.39 $2.39 $2.39 $2.39 $2.39 $2.39 $2.39 $2.39 $2.39 $2.39 $2.39 $2.39 $2.39 $2.39 $2.39 $2.39 $2.39 $2.39 $2.39 $2.39 $2.39 $2.39 $2.39 $2.39 $2.39 $2.39 $2.39 $2.39 $2.39 $2.39 $2.39 $2.39 $2.39 $2.39 $2.39 $2.39 $2.39 $2.39 $2.39 $2.39 $2.39 $2.39 $2.39 $2.39 $2.39 $2.39 $2.39 $2.39 $2.39 $2.39 $2.39 $2.39 $2.39 $2.39 $2.39 $2.39 $2.39 $2.39 $2.39 $2.39 $2.39 $2.39 $2.39 $2.39 $2.39 $2.39 $2.39 $2.39 $2.39 $2.39 $2.39 $2.39 $2.39 $2.39 $2.39 $2.39 $2.39 $2.39 $2.39 $2.39 $2.39 $2.39 $2.39 $2.39 $2.39 $2.39 $2.39 $2.39 $2.39 $2.39 $2.39 $2.39 $2.39 $2.39 $2.39 $2.39 $2.39 $2.39 $2.39 $2.39 $2.39 $2.39 $2.39 $2.39 $2.39 $2.39 $2.39 $2.39 $2.39 $2.39 $2.39 $2.39 $2.39 $2.39 $2.39 $2.39 $2.39 $2.39 $2.39 $2.39 $2.39 $2.39 $2.39 $2.39 $2.39 $2.39 $2.39 $2.39 $2.39 $2.39 $2.39 $2.39 $2.39 $2.39 $2.39 $2.39 $2.39 $2.39 $2.39 $2.39 $2.39 $2.39 $2.39 $2.39 $2.39 $2.39 $2.39 $2.39 $2.39 $2.39 $2.39 $2.39 $2.39 $2.39 $2.39 $2.39 $2.39 $2.39 $2.39 $2.39 $2.39 $2.39 $2.39 $2.39 $2.39 $2.39 $2.39 $2.39 $2.39 $2.39 $2.39 $2.39 $2.39 $2.39 $2.39 $2.39 $2.39 $2.39 $2.39 $2.39 $2.39 $2.39 $2.39 $2.39 $2.39 $2.39 $2.39 $2.39 $2.39 $2.39 $2.39 $2.39 $2.39 $2.39 $2.39 $2.39 $2.39 $2.39 $2.39 $2.39 $2.39 $2.39 $2.39 $2.39 $2.39 $2.39 $2.39 $2.39 $2.39 $2.39 $2.39 $2.39 $2.39 $2.39 $2.39 $2.39 $2.39 $2.39 $2.39 $2.39 $2.39 $2.39 $2.39 $2.39 $2.39 $2.39 $2.39 $2.39 $2.39 $2.39 $2.39 $2.39 $2.39 $2.39 $2.39 $2.39 $2.39 $2.39 $2.39 $2.39 $2.39 $2.39 $2.39 $2.39 $2.39 $2.39 $2.39 $2.39 $2.39 $2.39 $2.39 $2.39 $2.39 $2.39 $2.39 $2.39 $2.39 $2.39 $2.39 $2.39 $2.39 $2.39 $2.39 $2.39 $2.39 $2.39 $2.39 $2.39 $2.39 $2.39 $2.39 $2.39 $2.39 $2.39 $2.39 $2.39 $2.39 $2.39 $2.39 $2.39 $2.39 $2.39 $2.39 $2.39 $2.39 $2.39 $2.39 $2.39 $2.39 $2.39 $2.39 $2.39 $2.39 $2.39 $2.39 $2.39 $2.39 $2.39 $2.39 $2.39 $2.39 $2.39 $2.39 $2.39 $2.39 $2.39 $2.39 $2.39 $2.39 $2.39 $2.39 $2.39 $2.39 $2.39 $2.39 $2.39 $2.39 $2.39 $2.39 $2.39 $2.39 $2.39 $2.39 $2.39 $2.39 $2.39 $2.39 $2.39 $2.39 $2.39 $2.39 $2.39 $2.39 $2.39 $2.39 $2.39 $2.39 $2.39 $2.39 $2.39 $2.39 $2.39 $2.39 $2.39 $2.39 $2.39 $2.39 $2.39 $2.39 $2.39 $2.39 $2.39 $2.39 $2.39 $2.39 $2.39 $2.39 $2.39 $2.39 $2.39 $2.39 $2.39 $2.39 $2.39 $2.39 $2.39 $2.39 $2.39 $2.39 $2.39 $2.39 $2.39 $2.39 $2.39 $2.39 $2.39 $2.39 $2.39 $2.39 $2.39 $2.39 $2.39 $2.39 $2.39 $2.39 $2.39 $2.39 $2.39 $2.39 $2.39 $2.39 $2.39 $2.39 $2.39 $2.39 $2.39 $2.39 $2.39 $2.39 $2.39 $2.39 $2.39 $2.39 $2.39 $2.39 $2.39 $2.39 $2.39 $2.39 $2.39 $2.39 $2.39 $2.39 $2.39 $2.39 $2.39 $2.39 $2.39 $2.39 $2.39 $2.39 $2.39 $2.39 $2.39 $2.39 $2.39 $2.39 $2.39 $2.39 $2.39 $2.39 $2.39 $2.39 $2.39 $2.39 $2.39 $2.39 $2.39 $2.39 $2.39 $2.39 $2.39 $2.39 $2.39 $2.39 $2.39 $2.39 $2.39 $2.39 $2.39 $2.39 $2.39 $2.39 $2.39 $2.39 $2.39 $2.39 $2.39 $2.39 $2.39 $2.39 $2.39 $2.39 $2.39 $2.39 $2.39 $2.39 $2.39 $2.39 $2.39 $2.39 $2.39 $2.39 $2.39 $2.39 $2.39 $2.39 $2.39 $2.39 $2.39 $2.39 $2.39 $2.39 $2.39 $2.39 $2.39 $2.39 $2.39 $2.39 $2.39 $2.39 $2.39 $2.39 $2.39 $2.39 $2.39 $2.39 $2.39 $2.39 $2.39 $2.39 $2.39 $2.39 $2.39 $2.39 $2.39 $2.39 $2.39 $2.39 $2.39 $2.39 $2.39 $2.39 $2.39 $2.39 $2.39 $2.39 $2.39 $2.39 $2.39 $2.39 $2.39 $2.39 $2.39 $2.39 $2.39 $2.39 $2.39 $2.39 $2.39 $2.39 $2.39 $2.39 $2.39 $2.39 $2.39 $2.39 $2.39 $2.39 $2.39 $2.39 $2.39 $2.39 $2.39 $2.39 $2.39 $2.39 $2.39 $2.39 $2.39 $2.39 $2.39 $2.39 $2.39 $2.39 $2.39 $2.39 $2.39 $2.39 $2.39 $2.39 $2.39 $2.39 $2.39 $2.39 $2.39 $2.39 $2.39 $2.39 $2.39 $2.39 $2.39 $2.39 $2.39 $2.39 $2.39 $2.39 $2.39 $2.39 $2.39 $2.39 $2.39 $2.39 $2.39 $2.39 $2.39 $2.39 $2.39 $2.39 $2.39 $2.39 $2.39 $2.39 $2.39 $2.39 $2.39 $2.39 $2.39 $2.39 $2.39 $2.39 $2.39 $2.39 $2.39 $2.39 $2.39 $2.39 $2.39 $2.39 $2.39 $2.39 $2.39 $2.39 $2.39 $2.39 $2.39 $2.39 $2.39 $2.39 $2.39 $2.39 $2.39 $2.39 $2.39 $2.39 $2.39 $2.39 $2.39 $2.39 $2.39 $2.39 $2.39 $2.39 $2.39 $2.39 $2.39 $2.39 $2.39 $2.39 $2.39 $2.39 $2.39 $2.39 $2.39 $2.39 $2.39 $2.39 $2.39 $2.39 $2.39 $2.39 $2.39 $2.39 $2.39 $2.39 $2.39 $2.39 $2.39 $2.39 $2.39 $2.39 $2.39 $2.39 $2.39 $2.39 $2.39 $2.39 $2.39 $2.39 $2.39 $2.39 $2.39 $2.39 $2.39 $2.39 $2.39 $2.39 $2.39 $2.39 $2.39 $2.39 $2.39 $2.39 $2.39 $2.39 $2.39 $2.39 $2.39 $2.39 $2.39 $2.39 $2.39 $2.39 $2.39 $2.39 $2.39 $2.39 $2.39 $2.39 $2.39 $2.39 $2.39 $2.39 $2.39 $2.39 $2.39 $2.39 $2.39 $2.39 $2.39 $2.39 $2.39 $2.39 $2.39 $2.39 $2.39 $2.39 $2.39 $2.39 $2.39 $2.39 $2.39 $2.39 $2.39 $2.39 $2.39 $2.39 $2.39 $2.39 $2.39 $2.39 $2.39 $2.39 $2.39 $2.39 $2.39 $2.39 $2.39 $2.39 $2.39 $2.39 $2.39 $2.39 $2.39 $2.39 $2.39 $2.39 $2.39 $2.39 $2.39 $2.39 $2.39 $2.39 $2.39 $2.39 $2.39 $2.39 $2.39 $2.39 $2.39 $2.39 $2.39 $2.39 $2.39 $2.39 $2.39 $2.39 $2.39 $2.39 $2.39 $2.39 $2.39 $2.39 $2.39 $2.39 $2.39 $2.39 $2.39 $2.39 $2.39 $2.39 $2.39 $2.39 $2.39 $2.39 $2.39 $2.39 $2.39 $2.39 $2.39 $2.39 $2.39 $2.39 $2.39 $2.39 $2.39 $2.39 $2.39 $2.39 $2.39 $2.39 $2.39 $2.39 $2.39 $2.39 $2.39 $2.39 $2.39 $2.39 $2.39 $2.39 $2.39 $2.39 $2.39 $2.39 $2.39 $2.39 $2.39 $2.39 $2.39 $2.39 $2.39 $2.39 $2.39 $2.39 $2.39 $2.39 $2.39 $2.39 $2.39 $2.39 $2.39 $2.39 $2.39 $2.39 $2.39 $2.39 $2.39 $2.39 $2.39 $2.39 $2.39 $2.39 $2.39 $2.39 $2.39 $2.39 $2.39 $2.39 $2.39 $2.39 $2.39 $2.39 $2.39 $2.39 $2.39 $2.39 $2.39 $2.39 $2.39 $2.39 $2.39 $2.39 $2.39 $2.39 $2.39 $2.39 $2.39 $2.39 $2.39 $2.39 $2.39 $2.39 $2.39 $2.39 $2.39 $2.39 $2.39 $2.39 $2.39 $2.39 $2.39 $2.39 $2.39 $2.39 $2.39 $2.39 $2.39 $2.39 $2.39 $2.39 $2.39 $2.39 $2.39 $2.39 $2.39 $2.39 $2.39 $2.39 $2.39 $2.39 $2.39 $2.39 $2.39 $2.39 $2.39 $2.39 $2.39 $2.39 $2.39 $2.39 $2.39 $2.39 $2.39 $2.39 $2.39 $2.39 $2.39 $2.39 $2.39 $2.39 $2.39 $2.39 $2.39 $2.39 $2.39 $2.39 $2.39 $2.39 $2.39 $2.39 $2.39 $2.39 $2.39 $2.39 $2.39 $2.39 $2.39 $2.39 $2.39 $2.39 $2.39 $2.39 $2.39 $2.39 $2.39 $2.39 $2.39 $2.39 $2.39 $2.39 $2.39 $2.39 $2.39 $2.39 $2.39 $2.39 $2.39 $2.39 $2.39 $2.39 $2.39 $2.39 $2.39 $2.39 $2.39 $2.39 $2.39 $2.39 $2.39 $2.39 $2.39 $2.39 $2.39 $2.39 $2.39 $2.39 $2.39 $2.39 $2.39 $2.39 $2.39 $2.39 $2.39 $2.39 $2.39 $2.39 $2.39 $2.39 $2.39 $2.39 $2.39 $2.39 $2.39 $2.39 $2.39 $2.39 $2.39 $2.39 $2.39 $2.39 $2.39 $2.39 $2.39 $2.39 $2.39 $2.39 $2.39 $2.39 $2.39 $2.39 $2.39 $2.39 $2.39 $2.39 $2.39 $2.39 $2.39 $2.39 $2.39 $2.39 $2.39 $2.39 $2.39 $2.39 $2.39 $2.39 $2.39 $2.39 $2.39 $2.39 $2.39 $2.39 $2.39 $2.39 $2.39 $2.39 $2.39 $2.39 $2.39 $2.39 $2.39 $2.39 $2.39 $2.39 $2.39 $2.39 $2.39 $2.39 $2.39 $2.39 $2.39 $2.39 $2.39 $2.39 $2.39 $2.39 $2.39 $2.39 $2.39 $2.39 $2.39 $2.39 $2.39 $2.39 $2.39 $2.39 $2.39 $2.39 $2.39 $2.39 $2.39 $2.39 $2.39 $2.39 $2.39 $2.39 $2.39 $2.39 $2.39 $2.39 $2.39 $2.39 $2.39 $2.39 $2.39 $2.39 $2.39 $2.39 $2.39 $2.39 $2.39 $2.39 $2.39 $2.39 $2.39 $2.39 $2.39 $2.39 $2.39 $2.39 $2.39 $2.39 $2.39 $2.39 $2.39 $2.39 $2.39 $2.39 $2.39 $2.39 $2.39 $2.39 $2.39 $2.39 $2.39 $2.39 $2.39 $2.39 $2.39 $2.39 $2.39 $2.39 $2.39 $2.39 $2.39 $2.39 $2.39 $2.39 $2.39 $2.39 $2.39 $2.39 $2.39 $2.39 $2.39 $2.39 $2.39 $2.39 $2.39 $2.39 $2.39 $2.39 $2.39 $2.39 $2.39 $2.39 $2.39 $2.39 $2.39 $2.39 $2.39 $2.39 $2.39 $2.39 $2.39 $2.39 $2.39 $2.39 $2.39 $2.39 $2.39 $2.39 $2.39 $2.39 $2.39 $2.39 $2.39 $2.39 $2.39 $2.39 $2.39 $2.39 $2.39 $2.39 $2.39 $2.39 $2.39 $2.39 $2.39 $2.39 $2.39 $2.39 $2.39 $2.39 $2.39 $2.39 $2.39 $2.39 $2.39 $2.39 $2.39 $2.39 $2.39 $2.39 $2.39 $2.39 $2.39 $2.39 $2.39 $2.39 $2.39 $2.39 $2.39 $2.39 $2.39 $2.39 $2.39 $2.39 $2.39 $2.39 $2.39 $2.39 $2.39 $2.39 $2.39 $2.39 $2.39 $2.39 $2.39 $2.39 $2.39 $2.39 $2.39 $2.39 $2.39 $2.39 $2.39 $2.39 $2.39 $2.39 $2.39 $2.39 $2.39 $2.39 $2.39 $2.39 $2.39 $2.39 $2.39 $2.39 $2.39 $2.39 $2.39 $2.39 $2.39 $2.39 $2.39 $2.39 $2.39 $2.39 $2.39 $2.39 $2.39 $2.39 $2.39 $2.39 $2.39 $2.39 $2.39 $2.39 $2.39 $2.39 $2.39 $2.39 $2.39 $2.39 $2.39 $2.39 $2.39 $2.39 $2.39 $2.39 $2.39 $2.39 $2.39 $2.39 $2.39 $2.39 $2.39 $2.39 $2.39 $2.39 $2.39 $2.39 $2.39 $2.39 $2.39 $2.39 $2.39 $2.39 $2.39 $2.39 $2.39 $2.39 $2.39 $2.39 $2.39 $2.39 $2.39 $2.39 $2.39 $2.39 $2.39 $2.39 $2.39 $2.39 $2.39 $2.39 $2.39 $2.39 $2.39 $2.39 $2.39 $2.39 $2.39 $2.39 $2.39 $2.39 $2.39 $2.39 $2.39 $2.39 $2.39 $2.39 $2.39 $2.39 $2.39 $2.39 $2.39 $2.39 $2.39 $2.39 $2.39 $2.39 $2.39 $2.39 $2.39 $2.39 $2.39 $2.39 $2.39 $2.39 $2.39 $2.39 $2.39 $2.39 $2.39 $2.39 $2.39 $2.39 $2.39 $2.39 $2.39 $2.39 $2.39 $2.39 $2.39 $2.39 $2.39 $2.39 $2.39 $2.39 $2.39 $2.39 $2.39 $2.39 $2.39 $2.39 $2.39 $2.39 $2.39 $2.39 $2.39 $2.39 $2.39 $2.39 $2.39 $2.39 $2.39 $2.39 $2.39 $2.39 $2.39 $2.39 $2.39 $2.39 $2.39 $2.39 $2.39 $2.39 $2.39 $2.39 $2.39 $2.39 $2.39 $2.39 $2.39 $2.39 $2.39 $2.39 $2.39 $2.39 $2.39 $2.39 $2.39 $2.39 $2.39 $2.39 $2.39 $2.39 $2.39 $2.39 $2.39 $2.39 $2.39 $2.39 $2.39 $2.39 $2.39 $2.39 $2.39 $2.39 $2.39 $2.39 $2.39 $2.39 $2.39 $2.39 $2.39 $2.39 $2.39 $2.39 $2.39 $2.39 $2.39 $2.39 $2.39 $2.39 $2.39 $2.39 $2.39 $2.39 $2.39 $2.39 $2.39 $2.39 $2.39 $2.39 $2.39 $2.39 $2.39 $2.39 $2.39 $2.39 $2.39 $2.39 $2.39 $2.39 $2.39 $2.39 $2.39 $2.39 $2.39 $2.39 $2.39 $2.39 $2.39 $2.39 $2.39 $2.39 $2.39 $2.39 $2.39 $2.39 $2.39 $2.39 $2.39 $2.39 $2.39 $2.39 $2.39 $2.39 $2.39 $2.39 $2.39 $2.39 $2.39 $2.39 $2.39 $2.39 $2.39 $2.39 $2.39 $2.39 $2.39 $2.39 $2.39 $2.39 $2.39 $2.39 $2.39 $2.39 $2.39 $2.39 $2.39 $2.39 $2.39 $2.39 $2.39 $2.39 $2.39 $2.39 $2.39 $2.39 $2.39 $2.39 $2.39 $2.39 $2.39 $2.39 $2.39 $2.39 $2.39 $2.39 $2.39 $2.39 $2.39 $2.39 $2.39 $2.39 $2.39 $2.39 $2.39 $2.39 $2.39 $2.39 $2.39 $2.39 $2.39 $2.39 $2.39 $2.39 $2.39 $2.39 $2.39 $2.39 $2.39 $2.39 $2.39 $2.39 $2.39 $2.39 $2.39 $2.39 $2.39 $2.39 $2.39 $2.39 $2.39 $2.39 $2.39 $2.39 $2.39 $2.39 $2.39 $2.39 $2.39 $2.39 $2.39 $2.39 $2.39 $2.39 $2.39 $2.39 $2.39 $2.39 $2.39 $2.39 $2.39 $2.39 $2.39 $2.39 $2.39 $2.39 $2.39 $2.39 $2.39 $2.39 $2.39 $2.39 $2.39 $2.39 $2.39 $2.39 $2.39 $2.39 $2.39 $2.39 $2.39 $2.39 $2.39 $2.39 $2.39 $2.39 $2.39 $2.39 $2.39 $2.39 $2.39 $2.39 $2.39 $2.39 $2.39 $2.39 $2.39 $2.39 $2.39 $2.39 $2.39 $2.39 $2.39 $2.39 $2.39 $2.39 $2.39 $2.39 $2.39 $2.39 $2.39 $2.39 $2.39 $2.39 $2.39 $2.39 $2.39 $2.39 $2.39 $2.39 $2.39 $2.39 $2.39 $2.39 $2.39 $2.39 $2.39 $2.39 $2.39 $2.39 $2.39 $2.39 $2.39 $2.39 $2.39 $2.39 $2.39 $2.39 $2.39 $2.39 $2.39 $2.39 $2.39 $2.39 $2.39 $2.39 $2.39 $2.39 $2.39 $2.39 $2.39 $2.39 $2.39 $2.39 $2.39 $2.39 $2.39 $2.39 $2.39 $2.39 $2.39 $2.39 $2.39 $2.39 $2.39 $2.39 $2.39 $2.39 $2.39 $2.39 $2.39 $2.39 $2.39 $2.39 $2.39 $2.39 $2.39 $2.39 $2.39 $2.39 $2.39 $2.39 $2.39 $2.39 $2.39 $2.39 $2.39 $2.39 $2.39 $2.39 $2.39 $2.39 $2.39 $2.39 $2.39 $2.39 $2.39 $2.39 $2.39 $2.39 $2.39 $2.39 $2.39 $2.39 $2.39 $2.39 $2.39 $2.39 $2.39 $2.39 $2.39 $2.39 $2.39 $2.39 $2.39 $2.39 $2.39 $2.39 $2.39 $2.39 $2.39 $2.39 $2.39 $2.39 $2.39 $2.39 $2.39 $2.39 $2.39 $2.39 $2.39 $2.39 $2.39 $2.39 $2.39 $2.39 $2.39 $2.39 $2.39 $2.39 $2.39 $2.39 $2.39 $2.39 $2.39 $2.39 $2.39 $2.39 $2.39 $2.39 $2.39 $2.39 $2.39 $2.39 $2.39 $2.39 $2.39 $2.39 $2.39 $2.39 $2.39 $2.39 $2.39 $2.39 $2.39 $2.39 $2.39 $2.39 $2.39 $2.39 $2.39 $2.39 $2.39 $2.39 $2.39 $2.39 $2.39 $2.39 $2.39 $2.39 $2.39 $2.39 $2.39 $2.39 $2.39 $2.39 $2.39 $2.39 $2.39 $2.39 $2.39 $2.39 $2.39 $2.39 $2.39 $2.39 $2.39 $2.39 $2.39 $2.39 $2.39 $2.39 $2.39 $2.39 $2.39 $2.39 $2.39 $2.39 $2.39 $2.39 $2.39 $2.39 $2.39 $2.39 $2.39 $2.39 $2.39 $2.39 $2.39 $2.39 $2.39 $2.39 $2.39 $2.39 $2.39 $2.39 $2.39 $2.39 $2.39 $2.39 $2.39 $2.39 $2.39 $2.39 $2.39 $2.39 $2.39 $2.39 $2.39 $2.39 $2.39 $2.39 $2.39 $2.39 $2.39 $2.39 $2.39 $2.39 $2.39 $2.39 $2.39 $2.39 $2.39 $2.39 $2.39 $2.39 $2.39 $2.39 $2.39 $2.39 $2.39 $2.39 $2.39 $2.39 $2.39 $2.39 $2.39 $2.39 $2.39 $2.39 $2.39 $2.39 $2.39 $2.39 $2.39 $2.39 $2.39 $2.39 $2.39 $2.39 $2.39 $2.39 $2.39 $2.39 $2.39 $2.39 $2.39 $2.39 $2.39 $2.39 $2.39 $2.39 $2.39 $2.39 $2.39 $2.39 $2.39 $2.39 $2.39 $2.39 $2.39 $2.39 $2.39 $2.39 $2.39 $2.39 $2.39 $2.39 $2.39 $2.39 $2.39 $2.39 $2.39 $2.39 $2.39 $2.39 $2.39 $2.39 $2.39 $2.39 $2.39 $2.39 $2.39 $2.39 $2.39 $2.39 $2.39 $2.39 $2.39 $2.39 $2.39 $2.39 $2.39 $2.39 $2.39 $2.39 $2.39 $2.39 $2.39 $2.39 $2.39 $2.39 $2.39 $2.39 $2.39 $2.39 $2.39 $2.39 $2.39 $2.39 $2.39 $2.39 $2.39 $2.39 $2.39 $2.39 $2.39 $2.39 $2.39 $2.39 $2.39 $2.39 $2.39 $2.39 $2.39 $2.39 $2.39 $2.39 $2.39 $2.39 $2.39 $2.39 $2.39 $2.39 $2.39 $2.39 $2.39 $2.39 $2.39 $2.39 $2.39 $2.39 $2.39 $2.39 $2.39 $2.39 $2.39 $2.39 $2.39 $2.39 $2.39 $2.39 $2.39 $2.39 $2.39 $2.39 $2.39 $2.39 $2.39 $2.39 $2.39 $2.39 $2.39 $2.39 $2.39 $2.39 $2.39 $2.39 $2.39 $2.39 $2.39 $2.39 $2.39 $2.39 $2.39 $2.39 $2.39 $2.39 $2.39 $2.39 $2.39 $2.39 $2.39 $2.39 $2.39 $2.39 $2.39 $2.39 $2.39 $2.39 $2.39 $2.39 $2.39 $2.39 $2.39 $2.39 $2.39 $2.39 $2.39 $2.39 $2.39 $2.39 $2.39 $2.39 $2.39 $2.39 $2.39 $2.39 $2.39 $2.39 $2.39 $2.39 $2.39 $2.39 $2.39 $2.39 $2.39 $2.39 $2.39 $2.39 $2.39 $2.39 $2.39 $2.39 $2.39 $2.39 $2.39 $2.39 $2.39 $2.39 $2.39 $2.39 $2.39 $2.39 $2.39 $2.39 $2.39 $2.39 $2.39 $2.39 $2.39 $2.39 $2.39 $2.39 $2.39 $2.39 $2.39 $2.39 $2.39 $2.39 $2.39 $2.39 $2.39 $2.39 $2.39 $2.39 $2.39 $2.39 $2.39 $2.39 $2.39 $2.39 $2.39 $2.39 $2.39 $2.39 $2.39 $2.39 $2.39 $2.39 $2.39 $2.39 $2.39 $2.39 $2.39 $2.39 $2.39 $2.39 $2.39 $2.39 $2.39 $2.39 $2.39 $2.39 $2.39 $2.39 $2.39 $2.39 $2.39 $2.39 $2.39 $2.39 $2.39 $2.39 $2.39 $2.39 $2.39 $2.39 $2.39 $2.39 $2.39 $2.39 $2.39 $2.39 $2.39 $2.39 $2.39 $2.39 $2.39 $2.39 $2.39 $2.39 $2.39 $2.39 $2.39 $2.39 $2.39 $2.39 $2.39 $2.39 $2.39 $2.39 $2.39 $2.39 $2.39 $2.39 $2.39 $2.39 $2.39 $2.39 $2.39 $2.39 $2.39 $2.39 $2.39 $2.39 $2.39 $2.39 $2.39 $2.39 $2.39 $2.39 $2.39 $2.39 $2.39 $2.39 $2.39 $2.39 $2.39 $2.39 $2.39 $2.39 $2.39 $2.39 $2.39 $2.39 $2.39 $2.39 $2.39 $2.39 $2.39 $2.39 $2.39 $2.39 $2.39 $2.39 $2.39 $2.39 $2.39 $2.39 $2.39 $2.39 $2.39 $2.39 $2.39 $2.39 $2.39 $2.39 $2.39 $2.39 $2.39 $2.39 $2.39 $2.39 $2.39 $2.39 $2.39 $2.39 $2.39 $2.39 $2.39 $2.39 $2.39 $2.39 $2.39 $2.39 $2.39 $2.39 $2.39 $2.39 $2.39 $2.39 $2.39 $2.39 $2.39 $2.39 $2.39 $2.39 $2.39 $2.39 $2.39 $2.39 $2.39 $2.39 $2.39 $2.39 $2.39 $2.39 $2.39 $2.39 $2.39 $2.39 $2.39 $2.39 $2.39 $2.39 $2.39 $2.39 $2.39 $2.39 $2.39 $2.39 $2.39 $2.39 $2.39 $2.39 $2.39 $2.39 $2.39 $2.39 $2.39 $2.39 $2.39 $2.39 $2.39 $2.39 $2.39 $2.39 $2.39 $2.39 $2.39 $2.39 $2.39 $2.39 $2.39 $2.39 $2.39 $2.39 $2.39 $2.39 $2.39 $2.39 $2.39 $2.39 $2.39 $2.39 $2.39 $2.39 $2.39 $2.39 $2.39 $2.39 $2.39 $2.39 $2.39 $2.39 $2.39 $2.39 $2.39 $2.39 $2.39 $2.39 $2.39 $2.39 $2.39 $2.39 $2.39 $2.39 $2.39 $2.39 $2.39 $2.39 $2.39 $2.39 $2.39 $2.39 $2.39 $2.39 $2.39 $2.39 $2.39 $2.39 $2.39 $2.39 $2.39 $2.39 $2.39 $2.39 $2.39 $2.39 $2.39 $2.39 $2.39 $2.39 $2.39 $2.39 $2.39 $2.39 $2.39 $2.39 $2.39 $2.39 $2.39 $2.39 $2.39 $2.39 $2.39 $2.39 $2.39 $2.39 $2.39 $2.39 $2.39 $2.39 $2.39 $2.39 $2.39 $2.39 $2.39 $2.39 $2.39 $2.39 $2.39 $2.39 $2.39 $2.39 $2.39 $2.39 $2.39 $2.39 $2.39 $2.39 $2.39 $2.39 $2.39 $2.39 $2.39 $2.39 $2.39 $2.39 $2.39 $2.39 $2.39 $2.39 $2.39 $2.39 $2.39 $2.39 $2.39 $2.39 $2.39 $2.39 $2.39 $2.39 $2.39 $2.39 $2.39 $2.39 $2.39 $2.39 $2.39 $2.39 $2.39 $2.39 $2.39 $2.39 $2.39 $2.39 $2.39 $2.39 $2.39 $2.39 $2.39 $2.39 $2.39 $2.39 $2.39 $2.39 $2.39 $2.39 $2.39 $2.39 $2.39 $2.39 $2.39 $2.39 $2.39 $2.39 $2.39 $2.39 $2.39 $2.39 $2.39 $2.39 $2.39 $2.39 $2.39 $2.39 $2.39 $2.39 $2.39 $2.39 $2.39 $2.39 $2.39 $2.39 $2.39 $2.39 $2.39 $2.39 $2.39 $2.39 $2.39 $2.39 $2.39 $2.39 $2.39 $2.39 $2.39 $2.39 $2.39 $2.39 $2.39 $2.39 $2.39 $2.39 $2.39 $2.39 $2.39 $2.39 $2.39 $2.39 $2.39 $2.39 $2.39 $2.39 $2.39 $2.39 $2.39 $2.39 $2.39 $2.39 $2.39 $2.39 $2.39 $2.39 $2.39 $2.39 $2.39 $2.39 $2.39 $2.39 $2.39 $2.39 $2.39 $2.39 $2.39 $2.39 $2.39 $2.39 $2.39 $2.39 $2.39 $2.39 $2.39 $2.39 $2.39 $2.39 $2.39 $2.39 $2.39 $2.39 $2.39 $2.39 $2.39 $2.39 $2.39 $2.39 $2.39 $2.39 $2.39 $2.39 $2.39 $2.39 $2.39 $2.39 $2.39 $2.39 $2.39 $2.39 $2.39 $2.39 $2.39 $2.39 $2.39 $2.39 $2.39 $2.39 $2.39 $2.39 $2.39 $2.39 $2.39 $2.39 $2.39 $2.39 $2.39 $2.39 $2.39 $2.39 $2.39 $2.39 $2.39 $2.39 $2.39 $2.39 $2.39 $2.39 $2.39 $2.39 $2.39 $2.39 $2.39 $2.39 $2.39 $2.39 $2.39 $2.39 $2.39 $2.39 $2.39 $2.39 $2.39 $2.39 $2.39 $2.39 $2.39 $2.39 $2.39 $2.39 $2.39 $2.39 $2.39 $2.39 $2.39 $2.39 $2.39 $2.39 $2.39 $2.39 $2.39 $2.39 $2.39 $2.39 $2.39 $2.39 $2.39 $2.39 $2.39 $2.39 $2.39 $2.39 $2.39 $2.39 $2.39 $2.39 $2.39 $2.39 $2.39 $2.39 $2.39 $2.39 $2.39 $2.39 $2.39 $2.39 $2.39 $2.39 $2.39 $2.39 $2.39 $2.39 $2.39 $2.39 $2.39 $2.39 $2.39 $2.39 $2.39 $2.39 $2.39 $2.39 $2.39 $2.39 $2.39 $2.39 $2.39 $2.39 $2.39 $2.39 $2.39 $2.39 $2.39 $2.39 $2.39 $2.39 $2.39 $2.39 $2.39 $2.39 $2.39 $2.39 $2.39 $2.39 $2.39 $2.39 $2.39 $2.39 $2.39 $2.39 $2.39 $2.39 $2.39 $2.39 $2.39 $2.39 $2.39 $2.39 $2.39 $2.39 $2.39 $2.39 $2.39 $2.39 $2.39 $2.39 $2.39 $2.39 $2.39 $2.39 $2.39 $2.39 $2.39 $2.39 $2.39 $2.39 $2.39 $2.39 $2.39 $2.39 $2.39 $2.39 $2.39 $2.39 $2.39 $2.39 $2.39 $2.39 $2.39 $2.39 $2.39 $2.39 $2.39 $2.39 $2.39 $2.39 $2.39 $2.39 $2.39 $2.39 $2.39 $2.39 $2.39 $2.39 $2.39 $2.39 $2.39 $2.39 $2.39 $2.39 $2.39 $2.39 $2.39 $2.39 $2.39 $2.39 $2.39 $2.39 $2.39 $2.39 $2.39 $2.39 $2.39 $2.39 $2.39 $2.39 $2.39 $2.39 $2.39 $2.39 $2.39 $2.39 $2.39 $2.39 $2.39 $2.39 $2.39 $2.39 $2.39 $2.39 $2.39 $2.39 $2.39 $2.39 $2.39 $2.39 $2.39 $2.39 $2.39 $2.39 $2.39 $2.39 $2.39 $2.39 $2.39 $2.39 $2.39 $2.39 $2.39 $2.39 $2.39 $2.39 $2.39 $2.39 $2.39 $2.39 $2.39 $2.39 $2.39 $2.39 $2.39 $2.39 $2.39 $2.39 $2.39 $2.39 $2.39 $2.39 $2.39 $2.39 $2.39 $2.39 $2.39 $2.39 $2.39 $2.39 $2.39 $2.39 $2.39 $2.39 $2.39 $2.39 $2.39 $2.39 $2.39 $2.39 $2.39 $2.39 $2.39 $2.39 $2.39 $2.39 $2.39 $2.39 $2.39 $2.39 $2.39 $2.39 $2.39 $2.39 $2.39 $2.39 $2.39 $2.39 $2.39 $2.39 $2.39 $2.39 $2.39 $2.39 $2.39 $2.39 $2.39 $2.39 $2.39 $2.39 $2.39 $2.39 $2.39 $2.39 $2.39 $2.39 $2.39 $2.39 $2.39 $2.39 $2.39 $2.39 $2.39 $2.39 $2.39 $2.39 $2.39 $2.39 $2.39 $2.39 $2.39 $2.39 $2.39 $2.39 $2.39 $2.39 $2.39 $2.39 $2.39 $2.39 $2.39 $2.39 $2.39 $2.39 $2.39 $2.39 $2.39 $2.39 $2.39 $2.39 $2.39 $2.39 $2.39 $2.39 $2.39 $2.39 $2.39 $2.39 $2.39 $2.39 $2.39 $2.39 $2.39 $2.39 $2.39 $2.39 $2.39 $2.39 $2.39 $2.39 $2.39 $2.39 $2.39 $2.39 $2.39 $2.39 $2.39 $2.39 $2.39 $2.39 $2.39 $2.39 $2.39 $2.39 $2.39 $2.39 $2.39 $2.39 $2.39 $2.39 $2.39 $2.39 $2.39 $2.39 $2.39 $2.39 $2.39 $2.39 $2.39 $2.39 $2.39 $2.39 $2.39 $2.39 $2.39 $2.39 $2.39 $2.39 $2.39 $2.39 $2.39 $2.39 $2.39 $2.39 $2.39 $2.39 $2.39 $2.39 $2.39 $2.39 $2.39 $2.39 $2.39 $2.39 $2.39 $2.39 $2.39 $2.39 $2.39 $2.39 $2.39 $2.39 $2.39 $2.39 $2.39 $2.39 $2.39 $2.39 $2.39 $2.39 $2.39 $2.39 $2.39 $2.39 $2.39 $2.39 $2.39 $2.39 $2.39 $2.39 $2.39 $2.39 $2.39 $2.39 $2.39 $2.39 $2.39 $2.39 $2.39 $2.39 $2.39 $2.39 $2.39 $2.39 $2.39 $2.39 $2.39 $2.39 $2.39 $2.39 $2.39 $2.39 $2.39 $2.39 $2.39 $2.39 $2.39 $2.39 $2.39 $2.39 $2.39 $2.39 $2.39 $2.39 $2.39 $2.39 $2.39 $2.39 $2.39 $2.39 $2.39 $2.39 $2.39 $2.39 $2.39 $2.39 $2.39 $2.39 $2.39 $2.39 $2.39 $2.39 $2.39 $2.39 $2.39 $2.39 $2.39 $2.39 $2.39 $2.39 $2.39 $2.39 $2.39 $2.39 $2.39 $2.39 $2.39 $2.39 $2.39 $2.39 $2.39 $2.39 $2.39 $2.39 $2.39 $2.39 $2.39 $2.39 $2.39 $2.39 $2.39 $2.39 $2.39 $2.39 $2.39 $2.39 $2.39 $2.39 $2.39 $2.39 $2.39 $2.39 $2.39 $2.39 $2.39 $2.39 $2.39 $2.39 $2.39 $2.39 $2.39 $2.39 $2.39 $2.39 $2.39 $2.39 $2.39 $2.39 $2.39 $2.39 $2.39 $2.39 $2.39 $2.39 $2.39 $2.39 $2.39 $2.39 $2.39 $2.39 $2.39 $2.39 $2.39 $2.39 $2.39 $2.39 $2.39 $2.39 $2.39 $2.39 $2.39 $2.39 $2.39 $2.39 $2.39 $2.39 $2.39 $2.39 $2.39 $2.39 $2.39 $2.39 $2.39 $2.39 $2.39 $2.39 $2.39 $2.39 $2.39 $2.39 $2.39 $2.39 $2.39 $2.39 $2.39 $2.39 $2.39 $2.39 $2.39 $2.39 $2.39 $2.39 $2.39 $2.39 $2.39 $2.39 $2.39 $2.39 $2.39 $2.39 $2.39 $2.39 $2.39 $2.39 $2.39 $2.39 $2.39 $2.39 $2.39 $2.39 $2.39 $2.39 $2.39 $2.39 $2.39 $2.39 $2.39 $2.39 $2.39 $2.39 $2.39 $2.39 $2.39 $2.39 $2.39 $2.39 $2.39 $2.39 $2.39 $2.39 $2.39 $2.39 $2.39 $2.39 $2.39 $2.39 $2.39 $2.39 $2.39 $2.39 $2.39 $2.39 $2.39 $2.39 $2.39 $2.39 $2.39 $2.39 $2.39 $2.39 $2.39 $2.39 $2.39 $2.39 $2.39 $2.39 $2.39 $2.39 $2.39 $2.39 $2.39 $2.39 $2.39 $2.39 $2.39 $2.39 $2.39 $2.39 $2.39 $2.39 $2.39 $2.39 $2.39 $2.39 $2.39 $2.39 $2.39 $2.39 $2.39 $2.39 $2.39 $2.39 $2.39 $2.39 $2.39 $2.39 $2.39 $2.39 $2.39 $2.39 $2.39 $2.39 $2.39 $2.39 $2.39 $2.39 $2.39 $2.39 $2.39 $2.39 $2.39 $2.39 $2.39 $2.39 $2.39 $2.39 $2.39 $2.39 $2.39 $2.39 $2.39 $2.39 $2.39 $2.39 $2.39 $2.39 $2.39 $2.39 $2.39 $2.39 $2.39 $2.39 $2.39 $2.39 $2.39 $2.39 $2.39 $2.39 $2.39 $2.39 $2.39 $2.39 $2.39 $2.39 $2.39 $2.39 $2.39 $2.39 $2.39 $2.39 $2.39 $2.39 $2.39 $2.39 $2.39 $2.39 $2.39 $2.39 $2.39 $2.39 $2.39 $2.39 $2.39 $2.39 $2.39 $2.39 $2.39 $2.39 $2.39 $2.39 $2.39 $2.39 $2.39 $2.39 $2.39 $2.39 $2.39 $2.39 $2.39 $2.39 $2.39 $2.39 $2.39 $2.39 $2.39 $2.39 $2.39 $2.39 $2.39 $2.39 $2.39 $2.39 $2.39 $2.39 $2.39 $2.39 $2.39 $2.39 $2.39 $2.39 $2.39 $2.39 $2.39 $2.39 $2.39 $2.39 $2.39 $2.39 $2.39 $2.39 $2.39 $2.39 $2.39 $2.39 $2.39 $2.39 $2.39 $2.39 $2.39 $2.39 $2.39 $2.39 $2.39 $2.39 $2.39 $2.39 $2.39 $2.39 $2.39 $2.39 $2.39 $2.39 $2.39 $2.39 $2.39 $2.39 $2.39 $2.39 $2.39 $2.39 $2.39 $2.39 $2.39 $2.39 $2.39 $2.39 $2.39 $2.39 $2.39 $2.39 $2.39 $2.39 $2.39 $2.39 $2.39 $2.39 $2.39 $2.39 $2.39 $2.39 $2.39 $2.39 $2.39 $2.39 $2.39 $2.39 $2.39 $2.39 $2.39 $2.39 $2.39 $2.39 $2.39 $2.39 $2.39 $2.39 $2.39 $2.39 $2.39 $2.39 $2.39 $2.39 $2.39 $2.39 $2.39 $2.39 $2.39 $2.39 $2.39 $2.39 $2.39 $2.39 $2.39 $2.39 $2.39 $2.39 $2.39 $2.39 $2.39 $2.39 $2.39 $2.39 $2.39 $2.39 $2.39 $2.39 $2.39 $2.39 $2.39 $2.39 $2.39 $2.39 $2.39 $2.39 $2.39 $2.39 $2.39 $2.39 $2.39 $2.39 $2.39 $2.39 $2.39 $2.39 $2.39 $2.39 $2.39 $2.39 $2.39  to numeric"
     ]
    }
   ],
   "source": [
    "chipo['revenue'].mean()"
   ]
  },
  {
   "cell_type": "markdown",
   "metadata": {},
   "source": [
    "Step 17. How many different items are sold?"
   ]
  },
  {
   "cell_type": "code",
   "execution_count": 78,
   "metadata": {},
   "outputs": [
    {
     "data": {
      "text/plain": [
       "50"
      ]
     },
     "execution_count": 78,
     "metadata": {},
     "output_type": "execute_result"
    }
   ],
   "source": [
    "chipo['item_name'].nunique()"
   ]
  },
  {
   "cell_type": "markdown",
   "metadata": {},
   "source": [
    "## Question 6 Python"
   ]
  },
  {
   "cell_type": "markdown",
   "metadata": {},
   "source": [
    "Create a line plot showing the number of marriages and divorces per capita in the U.S. between 1867 and 2014. Label both lines and show the legend.\n",
    "Don't forget to label your axes!"
   ]
  },
  {
   "cell_type": "code",
   "execution_count": 79,
   "metadata": {},
   "outputs": [
    {
     "data": {
      "text/html": [
       "<div>\n",
       "<style scoped>\n",
       "    .dataframe tbody tr th:only-of-type {\n",
       "        vertical-align: middle;\n",
       "    }\n",
       "\n",
       "    .dataframe tbody tr th {\n",
       "        vertical-align: top;\n",
       "    }\n",
       "\n",
       "    .dataframe thead th {\n",
       "        text-align: right;\n",
       "    }\n",
       "</style>\n",
       "<table border=\"1\" class=\"dataframe\">\n",
       "  <thead>\n",
       "    <tr style=\"text-align: right;\">\n",
       "      <th></th>\n",
       "      <th>Year</th>\n",
       "      <th>Marriages</th>\n",
       "      <th>Divorces</th>\n",
       "      <th>Population</th>\n",
       "      <th>Marriages_per_1000</th>\n",
       "      <th>Divorces_per_1000</th>\n",
       "    </tr>\n",
       "  </thead>\n",
       "  <tbody>\n",
       "    <tr>\n",
       "      <th>0</th>\n",
       "      <td>1867</td>\n",
       "      <td>357000.0</td>\n",
       "      <td>10000.0</td>\n",
       "      <td>36970000</td>\n",
       "      <td>9.7</td>\n",
       "      <td>0.3</td>\n",
       "    </tr>\n",
       "    <tr>\n",
       "      <th>1</th>\n",
       "      <td>1868</td>\n",
       "      <td>345000.0</td>\n",
       "      <td>10000.0</td>\n",
       "      <td>37885000</td>\n",
       "      <td>9.1</td>\n",
       "      <td>0.3</td>\n",
       "    </tr>\n",
       "  </tbody>\n",
       "</table>\n",
       "</div>"
      ],
      "text/plain": [
       "   Year  Marriages  Divorces  Population  Marriages_per_1000  \\\n",
       "0  1867   357000.0   10000.0    36970000                 9.7   \n",
       "1  1868   345000.0   10000.0    37885000                 9.1   \n",
       "\n",
       "   Divorces_per_1000  \n",
       "0                0.3  \n",
       "1                0.3  "
      ]
     },
     "execution_count": 79,
     "metadata": {},
     "output_type": "execute_result"
    }
   ],
   "source": [
    "df = pd.read_csv(\"C://Users/abdul/OneDrive/Desktop/Problem set 3/us-marriages-divorces-1867-2014.csv\")\n",
    "df.head(2)"
   ]
  },
  {
   "cell_type": "code",
   "execution_count": 80,
   "metadata": {},
   "outputs": [],
   "source": [
    "import seaborn as sns\n",
    "import matplotlib.pyplot as plt\n",
    "%matplotlib inline\n"
   ]
  },
  {
   "cell_type": "code",
   "execution_count": 81,
   "metadata": {},
   "outputs": [
    {
     "data": {
      "text/plain": [
       "Text(0.5, 1.0, 'Marriage per capita - USA (1867-2014)')"
      ]
     },
     "execution_count": 81,
     "metadata": {},
     "output_type": "execute_result"
    },
    {
     "data": {
      "image/png": "[encoded data removed]",
      "text/plain": [
       "<Figure size 1080x720 with 1 Axes>"
      ]
     },
     "metadata": {
      "needs_background": "light"
     },
     "output_type": "display_data"
    }
   ],
   "source": [
    "import seaborn as sns\n",
    "import matplotlib.pyplot as plt\n",
    "%matplotlib inline\n",
    "size = (15,10)\n",
    "fig, ax = plt.subplots(figsize=size)\n",
    "sns.lineplot(data=df, x=\"Year\", y=\"Marriages_per_1000\")\n",
    "plt.title(\"Marriage per capita - USA (1867-2014)\", size=16)"
   ]
  },
  {
   "cell_type": "code",
   "execution_count": 82,
   "metadata": {},
   "outputs": [
    {
     "data": {
      "text/plain": [
       "Text(0.5, 1.0, 'Divorce per capita - USA (1867-2014)')"
      ]
     },
     "execution_count": 82,
     "metadata": {},
     "output_type": "execute_result"
    },
    {
     "data": {
      "image/png": "[encoded data removed]",
      "text/plain": [
       "<Figure size 1080x720 with 1 Axes>"
      ]
     },
     "metadata": {
      "needs_background": "light"
     },
     "output_type": "display_data"
    }
   ],
   "source": [
    "import matplotlib.pyplot as plt\n",
    "%matplotlib inline\n",
    "size = (15,10)\n",
    "fig, ax = plt.subplots(figsize=size)\n",
    "\n",
    "sns.lineplot(data=df, x=\"Year\", y=\"Divorces_per_1000\")\n",
    "plt.title(\"Divorce per capita - USA (1867-2014)\", size=16)\n",
    "\n"
   ]
  },
  {
   "cell_type": "markdown",
   "metadata": {},
   "source": [
    "-"
   ]
  },
  {
   "cell_type": "markdown",
   "metadata": {},
   "source": [
    "## Question 7 Python"
   ]
  },
  {
   "cell_type": "markdown",
   "metadata": {},
   "source": [
    "Create a vertical bar chart comparing the number of marriages and divorces per capita in the U.S. between 1900, 1950, and 2000.\n",
    "Don't forget to label your axes!"
   ]
  },
  {
   "cell_type": "code",
   "execution_count": 1,
   "metadata": {},
   "outputs": [
    {
     "ename": "SyntaxError",
     "evalue": "positional argument follows keyword argument (<ipython-input-1-33e206f1ad52>, line 1)",
     "output_type": "error",
     "traceback": [
      "\u001b[1;36m  File \u001b[1;32m\"<ipython-input-1-33e206f1ad52>\"\u001b[1;36m, line \u001b[1;32m1\u001b[0m\n\u001b[1;33m    sns.barplot(x=\"Marriages\", y=\"Divorces\", \"Year\" == 1950, data=df)\u001b[0m\n\u001b[1;37m                                             ^\u001b[0m\n\u001b[1;31mSyntaxError\u001b[0m\u001b[1;31m:\u001b[0m positional argument follows keyword argument\n"
     ]
    }
   ],
   "source": [
    "sns.barplot(x=\"Marriages\", y=\"Divorces\", \"Year\" == 1950, data=df)"
   ]
  },
  {
   "cell_type": "markdown",
   "metadata": {},
   "source": [
    "## Question 8 Python"
   ]
  },
  {
   "cell_type": "markdown",
   "metadata": {},
   "source": [
    "Create a horizontal bar chart that compares the deadliest actors in Hollywood. Sort the actors by their kill count and label each bar with the corresponding actor's name. Don't forget to label your axes!"
   ]
  },
  {
   "cell_type": "code",
   "execution_count": 84,
   "metadata": {},
   "outputs": [],
   "source": [
    "actor = pd.read_csv(\"C://Users/abdul/OneDrive/Desktop/Problem set 3/actor_kill_counts.csv\")"
   ]
  },
  {
   "cell_type": "code",
   "execution_count": 85,
   "metadata": {},
   "outputs": [
    {
     "data": {
      "text/plain": [
       "Text(0.5, 1.0, 'Deadliest actor in Hollywood')"
      ]
     },
     "execution_count": 85,
     "metadata": {},
     "output_type": "execute_result"
    },
    {
     "data": {
      "image/png": "[encoded data removed]",
      "text/plain": [
       "<Figure size 1080x720 with 1 Axes>"
      ]
     },
     "metadata": {
      "needs_background": "light"
     },
     "output_type": "display_data"
    }
   ],
   "source": [
    "size = (15,10)\n",
    "fig, ax = plt.subplots(figsize=size)\n",
    "actor = actor.sort_values('Count',ascending=False).reset_index()\n",
    "sns.barplot(x='Actor',y='Count',data=actor)\n",
    "plt.title(\"Deadliest actor in Hollywood\", size=16)"
   ]
  },
  {
   "cell_type": "markdown",
   "metadata": {},
   "source": [
    " "
   ]
  },
  {
   "cell_type": "markdown",
   "metadata": {},
   "source": [
    " "
   ]
  },
  {
   "cell_type": "markdown",
   "metadata": {},
   "source": [
    "## Question 9 Python "
   ]
  },
  {
   "cell_type": "markdown",
   "metadata": {},
   "source": [
    "Create a pie chart showing the fraction of all Roman Emperors that were assassinated.\n",
    "Make sure that the pie chart is an even circle, labels the categories, and shows the percentage breakdown of the categories."
   ]
  },
  {
   "cell_type": "code",
   "execution_count": 86,
   "metadata": {},
   "outputs": [],
   "source": [
    "df = pd.read_csv(\"C://Users/abdul/OneDrive/Desktop/Problem set 3/roman-emperor-reigns.csv\")"
   ]
  },
  {
   "cell_type": "code",
   "execution_count": 87,
   "metadata": {},
   "outputs": [
    {
     "data": {
      "text/html": [
       "        <script type=\"text/javascript\">\n",
       "        window.PlotlyConfig = {MathJaxConfig: 'local'};\n",
       "        if (window.MathJax) {MathJax.Hub.Config({SVG: {font: \"STIX-Web\"}});}\n",
       "        if (typeof require !== 'undefined') {\n",
       "        require.undef(\"plotly\");\n",
       "        requirejs.config({\n",
       "            paths: {\n",
       "                'plotly': ['https://cdn.plot.ly/plotly-latest.min']\n",
       "            }\n",
       "        });\n",
       "        require(['plotly'], function(Plotly) {\n",
       "            window._Plotly = Plotly;\n",
       "        });\n",
       "        }\n",
       "        </script>\n",
       "        "
      ]
     },
     "metadata": {},
     "output_type": "display_data"
    }
   ],
   "source": [
    "import numpy as np \n",
    "import pandas as pd \n",
    "\n",
    "# plotly\n",
    "# import plotly.plotly as py\n",
    "from plotly.offline import init_notebook_mode, iplot, plot\n",
    "import plotly as py\n",
    "init_notebook_mode(connected=True)\n",
    "import plotly.graph_objs as go\n",
    "\n",
    "# word cloud library\n",
    "from wordcloud import WordCloud #may need to pip install this library as well\n",
    "\n",
    "# matplotlib\n",
    "import matplotlib.pyplot as plt"
   ]
  },
  {
   "cell_type": "code",
   "execution_count": 88,
   "metadata": {},
   "outputs": [
    {
     "ename": "NameError",
     "evalue": "name 'timesData' is not defined",
     "output_type": "error",
     "traceback": [
      "\u001b[1;31m---------------------------------------------------------------------------\u001b[0m",
      "\u001b[1;31mNameError\u001b[0m                                 Traceback (most recent call last)",
      "\u001b[1;32m<ipython-input-88-5c59a30e7c0e>\u001b[0m in \u001b[0;36m<module>\u001b[1;34m\u001b[0m\n\u001b[0;32m      1\u001b[0m \u001b[1;31m# data preparation\u001b[0m\u001b[1;33m\u001b[0m\u001b[1;33m\u001b[0m\u001b[1;33m\u001b[0m\u001b[0m\n\u001b[1;32m----> 2\u001b[1;33m \u001b[0mdf2015\u001b[0m \u001b[1;33m=\u001b[0m \u001b[0mtimesData\u001b[0m\u001b[1;33m[\u001b[0m\u001b[0mtimesData\u001b[0m\u001b[1;33m.\u001b[0m\u001b[0myear\u001b[0m \u001b[1;33m==\u001b[0m \u001b[1;36m2015\u001b[0m\u001b[1;33m]\u001b[0m\u001b[1;33m.\u001b[0m\u001b[0miloc\u001b[0m\u001b[1;33m[\u001b[0m\u001b[1;33m:\u001b[0m\u001b[1;36m7\u001b[0m\u001b[1;33m,\u001b[0m\u001b[1;33m:\u001b[0m\u001b[1;33m]\u001b[0m\u001b[1;33m\u001b[0m\u001b[1;33m\u001b[0m\u001b[0m\n\u001b[0m\u001b[0;32m      3\u001b[0m \u001b[0mpie1\u001b[0m \u001b[1;33m=\u001b[0m \u001b[0mdf2015\u001b[0m\u001b[1;33m.\u001b[0m\u001b[0mnum_students\u001b[0m\u001b[1;33m\u001b[0m\u001b[1;33m\u001b[0m\u001b[0m\n\u001b[0;32m      4\u001b[0m \u001b[0mpie1_list\u001b[0m \u001b[1;33m=\u001b[0m \u001b[1;33m[\u001b[0m\u001b[0mfloat\u001b[0m\u001b[1;33m(\u001b[0m\u001b[0meach\u001b[0m\u001b[1;33m.\u001b[0m\u001b[0mreplace\u001b[0m\u001b[1;33m(\u001b[0m\u001b[1;34m','\u001b[0m\u001b[1;33m,\u001b[0m \u001b[1;34m'.'\u001b[0m\u001b[1;33m)\u001b[0m\u001b[1;33m)\u001b[0m \u001b[1;32mfor\u001b[0m \u001b[0meach\u001b[0m \u001b[1;32min\u001b[0m \u001b[0mdf2015\u001b[0m\u001b[1;33m.\u001b[0m\u001b[0mnum_students\u001b[0m\u001b[1;33m]\u001b[0m  \u001b[1;31m# str(2,4) => str(2.4) = > float(2.4) = 2.4\u001b[0m\u001b[1;33m\u001b[0m\u001b[1;33m\u001b[0m\u001b[0m\n\u001b[0;32m      5\u001b[0m \u001b[0mlabels\u001b[0m \u001b[1;33m=\u001b[0m \u001b[0mdf2015\u001b[0m\u001b[1;33m.\u001b[0m\u001b[0muniversity_name\u001b[0m\u001b[1;33m\u001b[0m\u001b[1;33m\u001b[0m\u001b[0m\n",
      "\u001b[1;31mNameError\u001b[0m: name 'timesData' is not defined"
     ]
    }
   ],
   "source": [
    "# data preparation\n",
    "df2015 = timesData[timesData.year == 2015].iloc[:7,:]\n",
    "pie1 = df2015.num_students\n",
    "pie1_list = [float(each.replace(',', '.')) for each in df2015.num_students]  # str(2,4) => str(2.4) = > float(2.4) = 2.4\n",
    "labels = df2015.university_name\n",
    "# figure\n",
    "fig = {\n",
    "  \"data\": [\n",
    "    {\n",
    "      \"values\": pie1_list,\n",
    "      \"labels\": labels,\n",
    "      \"domain\": {\"x\": [.2, .5]},\n",
    "      \"name\": \"Number Of Students Rates\",\n",
    "      \"hoverinfo\":\"label+percent+name\",\n",
    "      \"hole\": .3,\n",
    "      \"type\": \"pie\"\n",
    "    },],\n",
    "  \"layout\": {\n",
    "        \"title\":\"Universities Number of Students rates\",\n",
    "        \"annotations\": [\n",
    "            { \"font\": { \"size\": 20},\n",
    "              \"showarrow\": False,\n",
    "              \"text\": \"Number of Students\",\n",
    "                \"x\": 0.20,\n",
    "                \"y\": 1\n",
    "            \n",
    "             \n",
    "            },\n",
    "        ]\n",
    "    }\n",
    "}\n",
    "iplot(fig)"
   ]
  },
  {
   "cell_type": "code",
   "execution_count": 89,
   "metadata": {},
   "outputs": [],
   "source": [
    "## Question 10 Python"
   ]
  },
  {
   "cell_type": "markdown",
   "metadata": {},
   "source": [
    "Create a scatter plot showing the relationship between the total revenue earned by arcades and the number of Computer Science PhDs awarded in the U.S. between 2000 and 2009.\n",
    "Don't forget to label your axes!\n",
    "Color each dot according to its year."
   ]
  },
  {
   "cell_type": "code",
   "execution_count": 90,
   "metadata": {},
   "outputs": [],
   "source": [
    "df= pd.read_csv(\"C://Users/abdul/OneDrive/Desktop/Problem set 3/arcade-revenue-vs-cs-doctorates.csv\")"
   ]
  },
  {
   "cell_type": "code",
   "execution_count": 91,
   "metadata": {},
   "outputs": [
    {
     "data": {
      "text/html": [
       "<div>\n",
       "<style scoped>\n",
       "    .dataframe tbody tr th:only-of-type {\n",
       "        vertical-align: middle;\n",
       "    }\n",
       "\n",
       "    .dataframe tbody tr th {\n",
       "        vertical-align: top;\n",
       "    }\n",
       "\n",
       "    .dataframe thead th {\n",
       "        text-align: right;\n",
       "    }\n",
       "</style>\n",
       "<table border=\"1\" class=\"dataframe\">\n",
       "  <thead>\n",
       "    <tr style=\"text-align: right;\">\n",
       "      <th></th>\n",
       "      <th>Year</th>\n",
       "      <th>Total Arcade Revenue (billions)</th>\n",
       "      <th>Computer Science Doctorates Awarded (US)</th>\n",
       "    </tr>\n",
       "  </thead>\n",
       "  <tbody>\n",
       "    <tr>\n",
       "      <th>0</th>\n",
       "      <td>2000</td>\n",
       "      <td>1.196</td>\n",
       "      <td>861</td>\n",
       "    </tr>\n",
       "    <tr>\n",
       "      <th>1</th>\n",
       "      <td>2001</td>\n",
       "      <td>1.176</td>\n",
       "      <td>830</td>\n",
       "    </tr>\n",
       "    <tr>\n",
       "      <th>2</th>\n",
       "      <td>2002</td>\n",
       "      <td>1.269</td>\n",
       "      <td>809</td>\n",
       "    </tr>\n",
       "    <tr>\n",
       "      <th>3</th>\n",
       "      <td>2003</td>\n",
       "      <td>1.240</td>\n",
       "      <td>867</td>\n",
       "    </tr>\n",
       "    <tr>\n",
       "      <th>4</th>\n",
       "      <td>2004</td>\n",
       "      <td>1.307</td>\n",
       "      <td>948</td>\n",
       "    </tr>\n",
       "  </tbody>\n",
       "</table>\n",
       "</div>"
      ],
      "text/plain": [
       "   Year  Total Arcade Revenue (billions)  \\\n",
       "0  2000                            1.196   \n",
       "1  2001                            1.176   \n",
       "2  2002                            1.269   \n",
       "3  2003                            1.240   \n",
       "4  2004                            1.307   \n",
       "\n",
       "   Computer Science Doctorates Awarded (US)  \n",
       "0                                       861  \n",
       "1                                       830  \n",
       "2                                       809  \n",
       "3                                       867  \n",
       "4                                       948  "
      ]
     },
     "execution_count": 91,
     "metadata": {},
     "output_type": "execute_result"
    }
   ],
   "source": [
    "df.head(5)"
   ]
  },
  {
   "cell_type": "code",
   "execution_count": 92,
   "metadata": {},
   "outputs": [
    {
     "data": {
      "text/plain": [
       "<matplotlib.axes._subplots.AxesSubplot at 0x26105cbe490>"
      ]
     },
     "execution_count": 92,
     "metadata": {},
     "output_type": "execute_result"
    },
    {
     "data": {
      "image/png": "[encoded data removed]",
      "text/plain": [
       "<Figure size 432x288 with 1 Axes>"
      ]
     },
     "metadata": {
      "needs_background": "light"
     },
     "output_type": "display_data"
    }
   ],
   "source": [
    "sns.scatterplot(x='Total Arcade Revenue (billions)', y='Computer Science Doctorates Awarded (US)', data=df)\n"
   ]
  },
  {
   "cell_type": "code",
   "execution_count": 93,
   "metadata": {},
   "outputs": [
    {
     "data": {
      "text/plain": [
       "Text(0.5, 1.0, 'The relationship between the total revenue earned by arcades and the number of Computer Science PhDs awarded in the U.S')"
      ]
     },
     "execution_count": 93,
     "metadata": {},
     "output_type": "execute_result"
    },
    {
     "data": {
      "image/png": "[encoded data removed]",
      "text/plain": [
       "<Figure size 1080x720 with 1 Axes>"
      ]
     },
     "metadata": {
      "needs_background": "light"
     },
     "output_type": "display_data"
    }
   ],
   "source": [
    "size = (15,10)\n",
    "fig, ax = plt.subplots(figsize=size)\n",
    "sns.scatterplot(x='Total Arcade Revenue (billions)', y='Computer Science Doctorates Awarded (US)', data=df, hue = 'Year')\n",
    "\n",
    "plt.title(\"The relationship between the total revenue earned by arcades and the number of Computer Science PhDs awarded in the U.S\", size=12)"
   ]
  },
  {
   "cell_type": "code",
   "execution_count": null,
   "metadata": {},
   "outputs": [],
   "source": [
    " "
   ]
  },
  {
   "cell_type": "code",
   "execution_count": null,
   "metadata": {},
   "outputs": [],
   "source": []
  },
  {
   "cell_type": "code",
   "execution_count": null,
   "metadata": {},
   "outputs": [],
   "source": []
  }
 ],
 "metadata": {
  "kernelspec": {
   "display_name": "Python 3",
   "language": "python",
   "name": "python3"
  },
  "language_info": {
   "codemirror_mode": {
    "name": "ipython",
    "version": 3
   },
   "file_extension": ".py",
   "mimetype": "text/x-python",
   "name": "python",
   "nbconvert_exporter": "python",
   "pygments_lexer": "ipython3",
   "version": "3.8.3"
  }
 },
 "nbformat": 4,
 "nbformat_minor": 4
}
